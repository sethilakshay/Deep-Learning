{
 "cells": [
  {
   "attachments": {},
   "cell_type": "markdown",
   "metadata": {
    "id": "UR4qfYrVoO4v"
   },
   "source": [
    "# Using LSTMs with CNN based embeddings for Utterances to Phoneme Mapping\n",
    "\n",
    "### Author: Lakshay Sethi\n",
    "#### Custom Architecture 2 (Designed by Lakshay Sethi through Ablations)\n",
    "##### Ablations Link: https://wandb.ai/verydeeplearning/hw3p2-ablations"
   ]
  },
  {
   "cell_type": "code",
   "execution_count": null,
   "metadata": {
    "colab": {
     "base_uri": "https://localhost:8080/"
    },
    "id": "lvyvZt69SjwJ",
    "outputId": "b3226fb1-a604-4fc3-bbe4-e995eee293a4"
   },
   "outputs": [],
   "source": [
    "!nvidia-smi"
   ]
  },
  {
   "cell_type": "code",
   "execution_count": null,
   "metadata": {
    "colab": {
     "base_uri": "https://localhost:8080/"
    },
    "id": "mA9qZoIDcx-h",
    "outputId": "7bb8fea5-4434-4283-c6e0-8d8c889289b8"
   },
   "outputs": [],
   "source": [
    "# !pip install wandb"
   ]
  },
  {
   "attachments": {},
   "cell_type": "markdown",
   "metadata": {
    "id": "ONgAWhqdoYy-"
   },
   "source": [
    "### Levenshtein\n",
    "\n",
    "This may take a while"
   ]
  },
  {
   "cell_type": "code",
   "execution_count": 3,
   "metadata": {
    "colab": {
     "base_uri": "https://localhost:8080/"
    },
    "id": "SS7a7xeEoaV9",
    "outputId": "ebe254b1-e425-45f8-8e43-d3273c52e739"
   },
   "outputs": [],
   "source": [
    "# !pip install wandb --quiet\n",
    "# !pip install python-Levenshtein -q\n",
    "# !git clone --recursive https://github.com/parlance/ctcdecode.git\n",
    "# !pip install wget -q\n",
    "# %cd ctcdecode\n",
    "# !pip install . -q\n",
    "# %cd ..\n",
    "\n",
    "# !pip install torchsummaryX -q\n",
    "# !pip install slugify"
   ]
  },
  {
   "attachments": {},
   "cell_type": "markdown",
   "metadata": {
    "id": "IWVONJxCobPc"
   },
   "source": [
    "## Imports"
   ]
  },
  {
   "cell_type": "code",
   "execution_count": 4,
   "metadata": {
    "colab": {
     "base_uri": "https://localhost:8080/"
    },
    "id": "78ZTCIXoof2f",
    "outputId": "1d28dd3b-ba6c-4c35-e04e-846d1cde5fc7"
   },
   "outputs": [
    {
     "name": "stdout",
     "output_type": "stream",
     "text": [
      "Device:  cuda\n"
     ]
    }
   ],
   "source": [
    "import torch\n",
    "import torchaudio\n",
    "import random\n",
    "import numpy as np\n",
    "import torch.nn as nn\n",
    "import torch.nn.functional as F\n",
    "from torchsummaryX import summary\n",
    "from torch.utils.data import Dataset, DataLoader\n",
    "from torch.nn.utils.rnn import pad_sequence, pack_padded_sequence, pad_packed_sequence\n",
    "\n",
    "import torchaudio.transforms as tat\n",
    "\n",
    "from sklearn.metrics import accuracy_score\n",
    "import gc\n",
    "\n",
    "import zipfile\n",
    "import pandas as pd\n",
    "from tqdm import tqdm\n",
    "import os\n",
    "import datetime\n",
    "\n",
    "# imports for decoding and distance calculation\n",
    "import ctcdecode\n",
    "import Levenshtein\n",
    "from ctcdecode import CTCBeamDecoder\n",
    "\n",
    "import warnings\n",
    "warnings.filterwarnings('ignore')\n",
    "\n",
    "device = 'cuda' if torch.cuda.is_available() else 'cpu'\n",
    "print(\"Device: \", device)"
   ]
  },
  {
   "attachments": {},
   "cell_type": "markdown",
   "metadata": {
    "id": "gg3-yJ8tok34"
   },
   "source": [
    "# Kaggle Setup"
   ]
  },
  {
   "cell_type": "code",
   "execution_count": 5,
   "metadata": {
    "colab": {
     "base_uri": "https://localhost:8080/"
    },
    "id": "AdUelfGhom1m",
    "outputId": "31d53a4f-7e61-4a5c-98ec-fd432304a2f3"
   },
   "outputs": [
    {
     "name": "stdout",
     "output_type": "stream",
     "text": [
      "Collecting kaggle==1.5.8\n",
      "  Using cached kaggle-1.5.8-py3-none-any.whl\n",
      "Installing collected packages: kaggle\n",
      "  Attempting uninstall: kaggle\n",
      "    Found existing installation: kaggle 1.5.8\n",
      "    Uninstalling kaggle-1.5.8:\n",
      "      Successfully uninstalled kaggle-1.5.8\n",
      "Successfully installed kaggle-1.5.8\n",
      "mkdir: cannot create directory ‘/home/ubuntu/.kaggle’: File exists\n"
     ]
    }
   ],
   "source": [
    "!pip install --upgrade --force-reinstall --no-deps kaggle==1.5.8\n",
    "!mkdir /home/ubuntu/.kaggle\n",
    "\n",
    "with open(\"/home/ubuntu/.kaggle/kaggle.json\", \"w+\") as f:\n",
    "    f.write('{\"username\":\"lakshaysethi\",\"key\":\"32d86595e55bef36c1f649381dc3282f\"}')\n",
    "\n",
    "!chmod 600 /home/ubuntu/.kaggle/kaggle.json"
   ]
  },
  {
   "cell_type": "code",
   "execution_count": 6,
   "metadata": {
    "colab": {
     "base_uri": "https://localhost:8080/"
    },
    "id": "_ruxWP60LCQA",
    "outputId": "ef059d96-3e37-417d-896f-95259696e5bb"
   },
   "outputs": [],
   "source": [
    "# !kaggle competitions download -c 11-785-s23-hw3p2\n",
    "# '''\n",
    "# This will take a couple minutes, but you should see at least the following:\n",
    "# 11-785-f22-hw3p2.zip  ctcdecode  hw3p2\n",
    "# '''\n",
    "# !unzip -q 11-785-s23-hw3p2.zip\n",
    "# !ls"
   ]
  },
  {
   "attachments": {},
   "cell_type": "markdown",
   "metadata": {
    "id": "R9v5ewZDMpYA"
   },
   "source": [
    "# Google Drive"
   ]
  },
  {
   "cell_type": "code",
   "execution_count": 7,
   "metadata": {
    "id": "4Cp-716IMZRd"
   },
   "outputs": [],
   "source": [
    "# from google.colab import drive\n",
    "# drive.mount('/content/gdrive')"
   ]
  },
  {
   "attachments": {},
   "cell_type": "markdown",
   "metadata": {
    "id": "2ORNHnSFroP0"
   },
   "source": [
    "# Dataset and Dataloader"
   ]
  },
  {
   "cell_type": "code",
   "execution_count": 8,
   "metadata": {
    "id": "k0v7wHRWrqH6"
   },
   "outputs": [],
   "source": [
    "# ARPABET PHONEME MAPPING\n",
    "# DO NOT CHANGE\n",
    "# This overwrites the phonetics.py file.\n",
    "\n",
    "CMUdict_ARPAbet = {\n",
    "    \"\" : \" \",\n",
    "    \"[SIL]\": \"-\", \"NG\": \"G\", \"F\" : \"f\", \"M\" : \"m\", \"AE\": \"@\", \n",
    "    \"R\"    : \"r\", \"UW\": \"u\", \"N\" : \"n\", \"IY\": \"i\", \"AW\": \"W\", \n",
    "    \"V\"    : \"v\", \"UH\": \"U\", \"OW\": \"o\", \"AA\": \"a\", \"ER\": \"R\", \n",
    "    \"HH\"   : \"h\", \"Z\" : \"z\", \"K\" : \"k\", \"CH\": \"C\", \"W\" : \"w\", \n",
    "    \"EY\"   : \"e\", \"ZH\": \"Z\", \"T\" : \"t\", \"EH\": \"E\", \"Y\" : \"y\", \n",
    "    \"AH\"   : \"A\", \"B\" : \"b\", \"P\" : \"p\", \"TH\": \"T\", \"DH\": \"D\", \n",
    "    \"AO\"   : \"c\", \"G\" : \"g\", \"L\" : \"l\", \"JH\": \"j\", \"OY\": \"O\", \n",
    "    \"SH\"   : \"S\", \"D\" : \"d\", \"AY\": \"Y\", \"S\" : \"s\", \"IH\": \"I\",\n",
    "    \"[SOS]\": \"[SOS]\", \"[EOS]\": \"[EOS]\"\n",
    "}\n",
    "\n",
    "CMUdict = list(CMUdict_ARPAbet.keys())\n",
    "ARPAbet = list(CMUdict_ARPAbet.values())\n",
    "\n",
    "\n",
    "PHONEMES = CMUdict[:-2]\n",
    "LABELS = ARPAbet[:-2]"
   ]
  },
  {
   "cell_type": "code",
   "execution_count": 9,
   "metadata": {
    "colab": {
     "base_uri": "https://localhost:8080/"
    },
    "id": "0wQbPQj4Yl1z",
    "outputId": "ac53d63d-992c-4b0c-b4f0-667a1235ab61"
   },
   "outputs": [
    {
     "data": {
      "text/plain": [
       "['',\n",
       " '[SIL]',\n",
       " 'NG',\n",
       " 'F',\n",
       " 'M',\n",
       " 'AE',\n",
       " 'R',\n",
       " 'UW',\n",
       " 'N',\n",
       " 'IY',\n",
       " 'AW',\n",
       " 'V',\n",
       " 'UH',\n",
       " 'OW',\n",
       " 'AA',\n",
       " 'ER',\n",
       " 'HH',\n",
       " 'Z',\n",
       " 'K',\n",
       " 'CH',\n",
       " 'W',\n",
       " 'EY',\n",
       " 'ZH',\n",
       " 'T',\n",
       " 'EH',\n",
       " 'Y',\n",
       " 'AH',\n",
       " 'B',\n",
       " 'P',\n",
       " 'TH',\n",
       " 'DH',\n",
       " 'AO',\n",
       " 'G',\n",
       " 'L',\n",
       " 'JH',\n",
       " 'OY',\n",
       " 'SH',\n",
       " 'D',\n",
       " 'AY',\n",
       " 'S',\n",
       " 'IH']"
      ]
     },
     "execution_count": 9,
     "metadata": {},
     "output_type": "execute_result"
    }
   ],
   "source": [
    "PHONEMES"
   ]
  },
  {
   "cell_type": "code",
   "execution_count": 10,
   "metadata": {
    "colab": {
     "base_uri": "https://localhost:8080/"
    },
    "id": "HjT1NzNRYoZ0",
    "outputId": "da384d90-dd89-4955-c125-f06bd080d097"
   },
   "outputs": [
    {
     "data": {
      "text/plain": [
       "[' ',\n",
       " '-',\n",
       " 'G',\n",
       " 'f',\n",
       " 'm',\n",
       " '@',\n",
       " 'r',\n",
       " 'u',\n",
       " 'n',\n",
       " 'i',\n",
       " 'W',\n",
       " 'v',\n",
       " 'U',\n",
       " 'o',\n",
       " 'a',\n",
       " 'R',\n",
       " 'h',\n",
       " 'z',\n",
       " 'k',\n",
       " 'C',\n",
       " 'w',\n",
       " 'e',\n",
       " 'Z',\n",
       " 't',\n",
       " 'E',\n",
       " 'y',\n",
       " 'A',\n",
       " 'b',\n",
       " 'p',\n",
       " 'T',\n",
       " 'D',\n",
       " 'c',\n",
       " 'g',\n",
       " 'l',\n",
       " 'j',\n",
       " 'O',\n",
       " 'S',\n",
       " 'd',\n",
       " 'Y',\n",
       " 's',\n",
       " 'I',\n",
       " '[SOS]',\n",
       " '[EOS]']"
      ]
     },
     "execution_count": 10,
     "metadata": {},
     "output_type": "execute_result"
    }
   ],
   "source": [
    "ARPAbet"
   ]
  },
  {
   "attachments": {},
   "cell_type": "markdown",
   "metadata": {
    "id": "agmNBKf4JrLV"
   },
   "source": [
    "### Train Data"
   ]
  },
  {
   "cell_type": "code",
   "execution_count": 11,
   "metadata": {
    "id": "afd0_vlbJmr_"
   },
   "outputs": [],
   "source": [
    "class AudioDataset(torch.utils.data.Dataset):\n",
    "\n",
    "    def __init__(self, root, phonemes = PHONEMES, partition = ['train-clean-100']):\n",
    "        self.mfcc_files, self.transcript_files = [], []\n",
    "\n",
    "        for part in partition:  \n",
    "            mfcc_dir = root + part + '/mfcc/'\n",
    "            transcript_dir = root + part +'/transcript/'\n",
    "\n",
    "            mfcc_temp_dir = os.listdir(mfcc_dir)\n",
    "            mfcc_temp_dir.sort()\n",
    "            mfcc_temp = [os.path.join(mfcc_dir, currFile) for currFile in mfcc_temp_dir]\n",
    "            self.mfcc_files.extend(mfcc_temp)\n",
    "\n",
    "            transcript_temp_dir = os.listdir(transcript_dir)\n",
    "            transcript_temp_dir.sort()\n",
    "            transcript_temp = [os.path.join(transcript_dir, currFile) for currFile in transcript_temp_dir]\n",
    "            self.transcript_files.extend(transcript_temp)\n",
    "\n",
    "        \n",
    "        # Sanity Check\n",
    "        assert len(self.mfcc_files) == len(self.transcript_files)\n",
    "\n",
    "        # Lenght Assignment\n",
    "        self.length = len(self.mfcc_files)\n",
    "\n",
    "        self.PHONEMES = phonemes\n",
    "        # HOW CAN WE REPRESENT PHONEMES? CAN WE CREATE A MAPPING FOR THEM?\n",
    "        # HINT: TENSORS CANNOT STORE NON-NUMERICAL VALUES OR STRINGS\n",
    "        self.PHONEMES_DICT = {value: idx for idx, value in enumerate(self.PHONEMES)}\n",
    "\n",
    "\n",
    "        self.mfccs, self.transcripts = [], []\n",
    "\n",
    "        for i in range(self.length):\n",
    "            mfcc = np.load(self.mfcc_files[i], allow_pickle=True)\n",
    "            mfcc = (mfcc - np.mean(mfcc, axis = 0))/np.std(mfcc, axis = 0)\n",
    "            transcript = np.load(self.transcript_files[i], allow_pickle=True)\n",
    "            transcript = transcript[1:-1]         # Removing [SOS] and [EOS] from the transcript \n",
    "\n",
    "            label = np.array([self.PHONEMES_DICT[trans] for trans in transcript])\n",
    "\n",
    "            self.mfccs.append(mfcc)\n",
    "            self.transcripts.append(label)\n",
    "    \n",
    "\n",
    "    def __len__(self):\n",
    "        return self.length\n",
    "\n",
    "    def __getitem__(self, ind):\n",
    "        mfcc_tensor = torch.FloatTensor(self.mfccs[ind])\n",
    "        transcript_tensor = torch.tensor(self.transcripts[ind])\n",
    "\n",
    "        return mfcc_tensor, transcript_tensor\n",
    "\n",
    "\n",
    "    def collate_fn(self, batch):\n",
    "        batch_mfcc       = [mfcc for mfcc, _ in batch]\n",
    "        batch_transcript = [transcript for _, transcript in batch]\n",
    "\n",
    "        batch_mfcc_pad = pad_sequence(batch_mfcc, batch_first=True, padding_value=0.0)\n",
    "        lengths_mfcc = [len(mfcc) for mfcc in batch_mfcc]\n",
    "\n",
    "        batch_transcript_pad = pad_sequence(batch_transcript, batch_first=True, padding_value=0.0)\n",
    "        lengths_transcript = [len(trans) for trans in batch_transcript]\n",
    "\n",
    "        return batch_mfcc_pad, batch_transcript_pad, torch.tensor(lengths_mfcc), torch.tensor(lengths_transcript)"
   ]
  },
  {
   "cell_type": "code",
   "execution_count": 12,
   "metadata": {
    "id": "4EzAmXxHjTcL"
   },
   "outputs": [],
   "source": [
    "# class customCollate:\n",
    "\n",
    "#     def __init__(self, trainData = True):\n",
    "#         self.trainData = trainData\n",
    "\n",
    "#     def __call__(self, batch):\n",
    "#         batch_mfcc       = [mfcc for mfcc, _ in batch]\n",
    "#         batch_transcript = [transcript for _, transcript in batch]\n",
    "\n",
    "#         # if self.trainData:\n",
    "#         #     time_masking = torchaudio.transforms.TimeMasking(time_mask_param = 10, iid_masks = False, p = 1.0)\n",
    "#         #     frequency_masking = torchaudio.transforms.FrequencyMasking(freq_mask_param = 20, iid_masks = False)\n",
    "            \n",
    "#         #     batch_mfcc = \n",
    "\n",
    "#         batch_mfcc_pad = pad_sequence(batch_mfcc, batch_first=True, padding_value=0.0)\n",
    "#         lengths_mfcc = [len(mfcc) for mfcc in batch_mfcc]\n",
    "\n",
    "#         batch_transcript_pad = pad_sequence(batch_transcript, batch_first=True, padding_value=0.0)\n",
    "#         lengths_transcript = [len(trans) for trans in batch_transcript]\n",
    "\n",
    "#         return batch_mfcc_pad, batch_transcript_pad, torch.tensor(lengths_mfcc), torch.tensor(lengths_transcript)"
   ]
  },
  {
   "attachments": {},
   "cell_type": "markdown",
   "metadata": {
    "id": "hqDrxeHfJw4g"
   },
   "source": [
    "### Test Data"
   ]
  },
  {
   "cell_type": "code",
   "execution_count": 13,
   "metadata": {
    "id": "HrLS1wfVJppA"
   },
   "outputs": [],
   "source": [
    "# Test Dataloader\n",
    "class AudioDatasetTest(torch.utils.data.Dataset):\n",
    "\n",
    "    def __init__(self, root, partition = 'test-clean'): \n",
    "\n",
    "        self.mfcc_dir = root + partition + '/mfcc/'\n",
    "        self.mfcc_files = os.listdir(self.mfcc_dir)\n",
    "        self.mfcc_files.sort()\n",
    "\n",
    "        self.length = len(self.mfcc_files)\n",
    "\n",
    "        self.mfccs = []\n",
    "\n",
    "        for i in range(self.length):\n",
    "            mfcc = np.load(self.mfcc_dir + self.mfcc_files[i], allow_pickle=True)\n",
    "            mfcc = (mfcc - np.mean(mfcc, axis = 0))/np.std(mfcc, axis = 0)\n",
    "            self.mfccs.append(mfcc)\n",
    "    \n",
    "    def __len__(self):\n",
    "        return self.length\n",
    "\n",
    "    def __getitem__(self, ind):\n",
    "        mfcc = torch.FloatTensor(self.mfccs[ind])\n",
    "        return mfcc\n",
    "\n",
    "    def collate_fn(self,batch):\n",
    "        batch_mfcc = batch\n",
    "        batch_mfcc_pad = pad_sequence(batch_mfcc, batch_first=True, padding_value=0)\n",
    "        lengths_mfcc = [len(mfcc) for mfcc in batch_mfcc]\n",
    "\n",
    "        return batch_mfcc_pad, torch.tensor(lengths_mfcc)"
   ]
  },
  {
   "attachments": {},
   "cell_type": "markdown",
   "metadata": {
    "id": "Pt-veYcdL6Fe"
   },
   "source": [
    "### Data - Hyperparameters"
   ]
  },
  {
   "cell_type": "code",
   "execution_count": 14,
   "metadata": {
    "id": "4icymeX1ImUN"
   },
   "outputs": [],
   "source": [
    "BATCH_SIZE = 264 # Increase if your device can handle it\n",
    "\n",
    "transforms = [] # set of tranformations\n",
    "# You may pass this as a parameter to the dataset class above\n",
    "# This will help modularize your implementation\n",
    "\n",
    "root = '/home/ubuntu/Intro_to_Deep_Learning' "
   ]
  },
  {
   "attachments": {},
   "cell_type": "markdown",
   "metadata": {
    "id": "NmuPk9J6L8dz"
   },
   "source": [
    "### Data loaders"
   ]
  },
  {
   "cell_type": "code",
   "execution_count": 15,
   "metadata": {
    "colab": {
     "base_uri": "https://localhost:8080/"
    },
    "id": "3_kG0gU2x4hH",
    "outputId": "6b8023e0-b4b1-4780-b9bc-077706023010"
   },
   "outputs": [
    {
     "data": {
      "text/plain": [
       "0"
      ]
     },
     "execution_count": 15,
     "metadata": {},
     "output_type": "execute_result"
    }
   ],
   "source": [
    "gc.collect()"
   ]
  },
  {
   "cell_type": "code",
   "execution_count": 16,
   "metadata": {
    "id": "z4OFOjOYNJzu"
   },
   "outputs": [],
   "source": [
    "# del train_data, val_data, test_data, train_loader, val_loader, test_loader"
   ]
  },
  {
   "cell_type": "code",
   "execution_count": 17,
   "metadata": {
    "colab": {
     "base_uri": "https://localhost:8080/"
    },
    "id": "4mzoYfTKu14s",
    "outputId": "73624970-d901-46ea-e7f9-d417e6d8aa9b"
   },
   "outputs": [
    {
     "name": "stdout",
     "output_type": "stream",
     "text": [
      "Batch size:  272\n",
      "Train dataset samples = 132552, batches = 488\n",
      "Val dataset samples = 2703, batches = 10\n",
      "Test dataset samples = 2620, batches = 10\n"
     ]
    }
   ],
   "source": [
    "# Create objects for the dataset class\n",
    "train_data = AudioDataset(root = '/home/ubuntu/Intro_to_Deep_Learning/11-785-s23-hw3p2/', \n",
    "                          phonemes = PHONEMES, partition = ['train-clean-100', 'train-clean-360'])\n",
    "val_data =AudioDataset(root = '/home/ubuntu/Intro_to_Deep_Learning/11-785-s23-hw3p2/', \n",
    "                       phonemes = PHONEMES, partition = ['dev-clean'])\n",
    "test_data = AudioDatasetTest(root = '/home/ubuntu/Intro_to_Deep_Learning/11-785-s23-hw3p2/', \n",
    "                             partition = 'test-clean')\n",
    "\n",
    "# Do NOT forget to pass in the collate function as parameter while creating the dataloader\n",
    "train_loader = torch.utils.data.DataLoader(\n",
    "    dataset     = train_data, \n",
    "    num_workers = 8,\n",
    "    batch_size  = BATCH_SIZE, \n",
    "    pin_memory  = True,\n",
    "    shuffle     = True,\n",
    "    collate_fn  = train_data.collate_fn\n",
    ")\n",
    "val_loader = torch.utils.data.DataLoader(\n",
    "    dataset     = val_data, \n",
    "    num_workers = 4,\n",
    "    batch_size  = BATCH_SIZE,\n",
    "    pin_memory  = True,\n",
    "    shuffle     = False,\n",
    "    collate_fn  = val_data.collate_fn\n",
    ")\n",
    "test_loader = torch.utils.data.DataLoader(\n",
    "    dataset     = test_data, \n",
    "    num_workers = 4, \n",
    "    batch_size  = BATCH_SIZE, \n",
    "    pin_memory  = True, \n",
    "    shuffle     = False,\n",
    "    collate_fn  = test_data.collate_fn\n",
    ")\n",
    "\n",
    "print(\"Batch size: \", BATCH_SIZE)\n",
    "print(\"Train dataset samples = {}, batches = {}\".format(train_data.__len__(), len(train_loader)))\n",
    "print(\"Val dataset samples = {}, batches = {}\".format(val_data.__len__(), len(val_loader)))\n",
    "print(\"Test dataset samples = {}, batches = {}\".format(test_data.__len__(), len(test_loader)))"
   ]
  },
  {
   "cell_type": "code",
   "execution_count": 18,
   "metadata": {
    "colab": {
     "base_uri": "https://localhost:8080/"
    },
    "id": "m7qZ-LkqMTLP",
    "outputId": "4009e34f-8982-413a-b635-ce33e3c1ecb2"
   },
   "outputs": [
    {
     "data": {
      "text/plain": [
       "935"
      ]
     },
     "execution_count": 18,
     "metadata": {},
     "output_type": "execute_result"
    }
   ],
   "source": [
    "gc.collect()"
   ]
  },
  {
   "cell_type": "code",
   "execution_count": 19,
   "metadata": {
    "colab": {
     "base_uri": "https://localhost:8080/"
    },
    "id": "Jfbs2gn3lQtA",
    "outputId": "db7146a8-ff06-4e93-f112-b0ec6724ac22"
   },
   "outputs": [
    {
     "name": "stdout",
     "output_type": "stream",
     "text": [
      "torch.Size([272, 1683, 27]) torch.Size([272, 211]) torch.Size([272]) torch.Size([272])\n"
     ]
    }
   ],
   "source": [
    "# sanity check\n",
    "for data in train_loader:\n",
    "    x, y, lx, ly = data\n",
    "    print(x.shape, y.shape, lx.shape, ly.shape)\n",
    "    break "
   ]
  },
  {
   "cell_type": "code",
   "execution_count": 20,
   "metadata": {
    "colab": {
     "base_uri": "https://localhost:8080/"
    },
    "id": "6M3rabX_-Xfm",
    "outputId": "57689a3d-a7bb-4faf-f18b-096a4803e58f"
   },
   "outputs": [
    {
     "name": "stdout",
     "output_type": "stream",
     "text": [
      "272\n",
      "272\n"
     ]
    }
   ],
   "source": [
    "print(len(x))\n",
    "print(len(lx))"
   ]
  },
  {
   "attachments": {},
   "cell_type": "markdown",
   "metadata": {
    "id": "wSexxhdfMUzx"
   },
   "source": [
    "# NETWORK"
   ]
  },
  {
   "attachments": {},
   "cell_type": "markdown",
   "metadata": {
    "id": "HLad4pChcuvX"
   },
   "source": [
    "## Basic\n",
    "\n",
    "This is a basic block for understanding, you can skip this and move to pBLSTM one"
   ]
  },
  {
   "cell_type": "code",
   "execution_count": 21,
   "metadata": {},
   "outputs": [],
   "source": [
    "torch.cuda.empty_cache()\n",
    "\n",
    "class PermuteBlock(torch.nn.Module):\n",
    "    def forward(self, x):\n",
    "        return x.transpose(1, 2)"
   ]
  },
  {
   "cell_type": "code",
   "execution_count": null,
   "metadata": {
    "id": "EQhvHr71GJfq"
   },
   "outputs": [],
   "source": [
    "# torch.cuda.empty_cache()\n",
    "\n",
    "# class Network(nn.Module):\n",
    "\n",
    "#     def __init__(self):\n",
    "\n",
    "#         super(Network, self).__init__()\n",
    "\n",
    "#         # Adding some sort of embedding layer or feature extractor might help performance.\n",
    "#         self.embedding = nn.Sequential(PermuteBlock(),\n",
    "#                                        nn.Conv1d(27, 128, kernel_size = 3, stride = 2, padding = 1, bias = False),\n",
    "#                                        nn.Dropout(p = 0.3, inplace = False),\n",
    "#                                        nn.GELU(),\n",
    "#                                        nn.BatchNorm1d(128),\n",
    "                                       \n",
    "#                                        nn.Conv1d(128, 256, kernel_size = 3, stride = 2, padding = 1, bias = False),\n",
    "#                                        nn.Dropout(p = 0.3, inplace = False),\n",
    "#                                        nn.GELU(),\n",
    "#                                        nn.BatchNorm1d(256),\n",
    "#                                        PermuteBlock()\n",
    "#         )\n",
    "\n",
    "#         self.out_features = len(PHONEMES)\n",
    "        \n",
    "#         # TODO : look up the documentation. You might need to pass some additional parameters.\n",
    "#         self.lstm = nn.LSTM(input_size = 256, hidden_size = 512, num_layers = 4, bias = True, bidirectional = True, dropout = 0.2) \n",
    "       \n",
    "#         self.classification = nn.Sequential(\n",
    "#             torch.nn.Linear(1024, 1024),\n",
    "#             nn.Dropout(p = 0.2, inplace = False),\n",
    "#             torch.nn.Linear(1024, self.out_features)\n",
    "#         )\n",
    "\n",
    "#         self.logSoftmax = torch.nn.LogSoftmax(dim = 2)\n",
    "\n",
    "#     def forward(self, x, lx):\n",
    "#         x = self.embedding(x)\n",
    "\n",
    "#         lx = (lx-2)//4\n",
    "#         x = pack_padded_sequence(x, lx, batch_first=True, enforce_sorted=False)\n",
    "#         x, _ = self.lstm(x)\n",
    "#         del _\n",
    "\n",
    "#         x, lens_unpacked  = pad_packed_sequence(x, batch_first=True)\n",
    "#         x = self.classification(x)\n",
    "#         x = F.log_softmax(x, dim=2)\n",
    "\n",
    "#         return x, lens_unpacked"
   ]
  },
  {
   "cell_type": "code",
   "execution_count": 22,
   "metadata": {},
   "outputs": [],
   "source": [
    "torch.cuda.empty_cache()\n",
    "\n",
    "class Network(nn.Module):\n",
    "\n",
    "    def __init__(self):\n",
    "\n",
    "        super(Network, self).__init__()\n",
    "\n",
    "        # Adding some sort of embedding layer or feature extractor might help performance.\n",
    "        self.embedding = nn.Sequential(PermuteBlock(),\n",
    "                                       nn.Conv1d(27, 256, kernel_size = 5, stride = 2, padding = 2, bias = False),\n",
    "                                       nn.Dropout(p = 0.3, inplace = False),\n",
    "                                       nn.GELU(),\n",
    "                                       nn.BatchNorm1d(256),\n",
    "                                       \n",
    "                                       nn.Conv1d(256, 256, kernel_size = 3, stride = 2, padding = 1, bias = False),\n",
    "                                       nn.Dropout(p = 0.3, inplace = False),\n",
    "                                       nn.GELU(),\n",
    "                                       nn.BatchNorm1d(256),\n",
    "                                       PermuteBlock()\n",
    "        )\n",
    "\n",
    "        self.out_features = len(PHONEMES)\n",
    "        \n",
    "        # TODO : look up the documentation. You might need to pass some additional parameters.\n",
    "        self.lstm = nn.LSTM(input_size = 256, hidden_size = 512, num_layers = 5, bias = True, bidirectional = True, dropout = 0.2) \n",
    "       \n",
    "        self.classification = nn.Sequential(\n",
    "            torch.nn.Linear(1024, 1024),\n",
    "            nn.Dropout(p = 0.2, inplace = False),\n",
    "            torch.nn.Linear(1024, self.out_features)\n",
    "        )\n",
    "\n",
    "        self.logSoftmax = torch.nn.LogSoftmax(dim = 2)\n",
    "\n",
    "    def forward(self, x, lx):\n",
    "        x = self.embedding(x)\n",
    "\n",
    "        lx = (lx-2)//4\n",
    "        x = pack_padded_sequence(x, lx, batch_first=True, enforce_sorted=False)\n",
    "        x, _ = self.lstm(x)\n",
    "        del _\n",
    "\n",
    "        x, lens_unpacked  = pad_packed_sequence(x, batch_first=True)\n",
    "        x = self.classification(x)\n",
    "        x = F.log_softmax(x, dim=2)\n",
    "\n",
    "        return x, lens_unpacked"
   ]
  },
  {
   "attachments": {},
   "cell_type": "markdown",
   "metadata": {
    "id": "tUThsowyQdN7"
   },
   "source": [
    "# INIT\n",
    "(If trying out the basic Network)"
   ]
  },
  {
   "cell_type": "code",
   "execution_count": 23,
   "metadata": {},
   "outputs": [
    {
     "name": "stdout",
     "output_type": "stream",
     "text": [
      "====================================================================================\n",
      "                              Kernel Shape      Output Shape      Params  \\\n",
      "Layer                                                                      \n",
      "0_embedding.PermuteBlock_0               -   [272, 27, 1683]           -   \n",
      "1_embedding.Conv1d_1          [27, 256, 5]   [272, 256, 842]      34.56k   \n",
      "2_embedding.Dropout_2                    -   [272, 256, 842]           -   \n",
      "3_embedding.GELU_3                       -   [272, 256, 842]           -   \n",
      "4_embedding.BatchNorm1d_4            [256]   [272, 256, 842]       512.0   \n",
      "5_embedding.Conv1d_5         [256, 256, 3]   [272, 256, 421]    196.608k   \n",
      "6_embedding.Dropout_6                    -   [272, 256, 421]           -   \n",
      "7_embedding.GELU_7                       -   [272, 256, 421]           -   \n",
      "8_embedding.BatchNorm1d_8            [256]   [272, 256, 421]       512.0   \n",
      "9_embedding.PermuteBlock_9               -   [272, 421, 256]           -   \n",
      "10_lstm                                  -     [85187, 1024]  28.352512M   \n",
      "11_classification.Linear_0    [1024, 1024]  [272, 420, 1024]     1.0496M   \n",
      "12_classification.Dropout_1              -  [272, 420, 1024]           -   \n",
      "13_classification.Linear_2      [1024, 41]    [272, 420, 41]     42.025k   \n",
      "\n",
      "                              Mult-Adds  \n",
      "Layer                                    \n",
      "0_embedding.PermuteBlock_0            -  \n",
      "1_embedding.Conv1d_1          29.09952M  \n",
      "2_embedding.Dropout_2                 -  \n",
      "3_embedding.GELU_3                    -  \n",
      "4_embedding.BatchNorm1d_4         256.0  \n",
      "5_embedding.Conv1d_5         82.771968M  \n",
      "6_embedding.Dropout_6                 -  \n",
      "7_embedding.GELU_7                    -  \n",
      "8_embedding.BatchNorm1d_8         256.0  \n",
      "9_embedding.PermuteBlock_9            -  \n",
      "10_lstm                      28.311552M  \n",
      "11_classification.Linear_0    1.048576M  \n",
      "12_classification.Dropout_1           -  \n",
      "13_classification.Linear_2      41.984k  \n",
      "------------------------------------------------------------------------------------\n",
      "                           Totals\n",
      "Total params           29.676329M\n",
      "Trainable params       29.676329M\n",
      "Non-trainable params          0.0\n",
      "Mult-Adds             141.274112M\n",
      "====================================================================================\n"
     ]
    },
    {
     "data": {
      "text/html": [
       "<div>\n",
       "<style scoped>\n",
       "    .dataframe tbody tr th:only-of-type {\n",
       "        vertical-align: middle;\n",
       "    }\n",
       "\n",
       "    .dataframe tbody tr th {\n",
       "        vertical-align: top;\n",
       "    }\n",
       "\n",
       "    .dataframe thead th {\n",
       "        text-align: right;\n",
       "    }\n",
       "</style>\n",
       "<table border=\"1\" class=\"dataframe\">\n",
       "  <thead>\n",
       "    <tr style=\"text-align: right;\">\n",
       "      <th></th>\n",
       "      <th>Kernel Shape</th>\n",
       "      <th>Output Shape</th>\n",
       "      <th>Params</th>\n",
       "      <th>Mult-Adds</th>\n",
       "    </tr>\n",
       "    <tr>\n",
       "      <th>Layer</th>\n",
       "      <th></th>\n",
       "      <th></th>\n",
       "      <th></th>\n",
       "      <th></th>\n",
       "    </tr>\n",
       "  </thead>\n",
       "  <tbody>\n",
       "    <tr>\n",
       "      <th>0_embedding.PermuteBlock_0</th>\n",
       "      <td>-</td>\n",
       "      <td>[272, 27, 1683]</td>\n",
       "      <td>NaN</td>\n",
       "      <td>NaN</td>\n",
       "    </tr>\n",
       "    <tr>\n",
       "      <th>1_embedding.Conv1d_1</th>\n",
       "      <td>[27, 256, 5]</td>\n",
       "      <td>[272, 256, 842]</td>\n",
       "      <td>34560.0</td>\n",
       "      <td>29099520.0</td>\n",
       "    </tr>\n",
       "    <tr>\n",
       "      <th>2_embedding.Dropout_2</th>\n",
       "      <td>-</td>\n",
       "      <td>[272, 256, 842]</td>\n",
       "      <td>NaN</td>\n",
       "      <td>NaN</td>\n",
       "    </tr>\n",
       "    <tr>\n",
       "      <th>3_embedding.GELU_3</th>\n",
       "      <td>-</td>\n",
       "      <td>[272, 256, 842]</td>\n",
       "      <td>NaN</td>\n",
       "      <td>NaN</td>\n",
       "    </tr>\n",
       "    <tr>\n",
       "      <th>4_embedding.BatchNorm1d_4</th>\n",
       "      <td>[256]</td>\n",
       "      <td>[272, 256, 842]</td>\n",
       "      <td>512.0</td>\n",
       "      <td>256.0</td>\n",
       "    </tr>\n",
       "    <tr>\n",
       "      <th>5_embedding.Conv1d_5</th>\n",
       "      <td>[256, 256, 3]</td>\n",
       "      <td>[272, 256, 421]</td>\n",
       "      <td>196608.0</td>\n",
       "      <td>82771968.0</td>\n",
       "    </tr>\n",
       "    <tr>\n",
       "      <th>6_embedding.Dropout_6</th>\n",
       "      <td>-</td>\n",
       "      <td>[272, 256, 421]</td>\n",
       "      <td>NaN</td>\n",
       "      <td>NaN</td>\n",
       "    </tr>\n",
       "    <tr>\n",
       "      <th>7_embedding.GELU_7</th>\n",
       "      <td>-</td>\n",
       "      <td>[272, 256, 421]</td>\n",
       "      <td>NaN</td>\n",
       "      <td>NaN</td>\n",
       "    </tr>\n",
       "    <tr>\n",
       "      <th>8_embedding.BatchNorm1d_8</th>\n",
       "      <td>[256]</td>\n",
       "      <td>[272, 256, 421]</td>\n",
       "      <td>512.0</td>\n",
       "      <td>256.0</td>\n",
       "    </tr>\n",
       "    <tr>\n",
       "      <th>9_embedding.PermuteBlock_9</th>\n",
       "      <td>-</td>\n",
       "      <td>[272, 421, 256]</td>\n",
       "      <td>NaN</td>\n",
       "      <td>NaN</td>\n",
       "    </tr>\n",
       "    <tr>\n",
       "      <th>10_lstm</th>\n",
       "      <td>-</td>\n",
       "      <td>[85187, 1024]</td>\n",
       "      <td>28352512.0</td>\n",
       "      <td>28311552.0</td>\n",
       "    </tr>\n",
       "    <tr>\n",
       "      <th>11_classification.Linear_0</th>\n",
       "      <td>[1024, 1024]</td>\n",
       "      <td>[272, 420, 1024]</td>\n",
       "      <td>1049600.0</td>\n",
       "      <td>1048576.0</td>\n",
       "    </tr>\n",
       "    <tr>\n",
       "      <th>12_classification.Dropout_1</th>\n",
       "      <td>-</td>\n",
       "      <td>[272, 420, 1024]</td>\n",
       "      <td>NaN</td>\n",
       "      <td>NaN</td>\n",
       "    </tr>\n",
       "    <tr>\n",
       "      <th>13_classification.Linear_2</th>\n",
       "      <td>[1024, 41]</td>\n",
       "      <td>[272, 420, 41]</td>\n",
       "      <td>42025.0</td>\n",
       "      <td>41984.0</td>\n",
       "    </tr>\n",
       "  </tbody>\n",
       "</table>\n",
       "</div>"
      ],
      "text/plain": [
       "                              Kernel Shape      Output Shape      Params  \\\n",
       "Layer                                                                      \n",
       "0_embedding.PermuteBlock_0               -   [272, 27, 1683]         NaN   \n",
       "1_embedding.Conv1d_1          [27, 256, 5]   [272, 256, 842]     34560.0   \n",
       "2_embedding.Dropout_2                    -   [272, 256, 842]         NaN   \n",
       "3_embedding.GELU_3                       -   [272, 256, 842]         NaN   \n",
       "4_embedding.BatchNorm1d_4            [256]   [272, 256, 842]       512.0   \n",
       "5_embedding.Conv1d_5         [256, 256, 3]   [272, 256, 421]    196608.0   \n",
       "6_embedding.Dropout_6                    -   [272, 256, 421]         NaN   \n",
       "7_embedding.GELU_7                       -   [272, 256, 421]         NaN   \n",
       "8_embedding.BatchNorm1d_8            [256]   [272, 256, 421]       512.0   \n",
       "9_embedding.PermuteBlock_9               -   [272, 421, 256]         NaN   \n",
       "10_lstm                                  -     [85187, 1024]  28352512.0   \n",
       "11_classification.Linear_0    [1024, 1024]  [272, 420, 1024]   1049600.0   \n",
       "12_classification.Dropout_1              -  [272, 420, 1024]         NaN   \n",
       "13_classification.Linear_2      [1024, 41]    [272, 420, 41]     42025.0   \n",
       "\n",
       "                              Mult-Adds  \n",
       "Layer                                    \n",
       "0_embedding.PermuteBlock_0          NaN  \n",
       "1_embedding.Conv1d_1         29099520.0  \n",
       "2_embedding.Dropout_2               NaN  \n",
       "3_embedding.GELU_3                  NaN  \n",
       "4_embedding.BatchNorm1d_4         256.0  \n",
       "5_embedding.Conv1d_5         82771968.0  \n",
       "6_embedding.Dropout_6               NaN  \n",
       "7_embedding.GELU_7                  NaN  \n",
       "8_embedding.BatchNorm1d_8         256.0  \n",
       "9_embedding.PermuteBlock_9          NaN  \n",
       "10_lstm                      28311552.0  \n",
       "11_classification.Linear_0    1048576.0  \n",
       "12_classification.Dropout_1         NaN  \n",
       "13_classification.Linear_2      41984.0  "
      ]
     },
     "execution_count": 23,
     "metadata": {},
     "output_type": "execute_result"
    }
   ],
   "source": [
    "torch.cuda.empty_cache()\n",
    "\n",
    "model = Network().to(device)\n",
    "summary(model, x.to(device), lx) # x and lx come from the sanity check above :)"
   ]
  },
  {
   "cell_type": "code",
   "execution_count": 24,
   "metadata": {
    "colab": {
     "base_uri": "https://localhost:8080/"
    },
    "id": "S0ql3YJDDJOW",
    "outputId": "b9702ab8-e899-4170-bad5-ffde914fce0a"
   },
   "outputs": [
    {
     "name": "stdout",
     "output_type": "stream",
     "text": [
      "Fri Apr  7 17:52:29 2023       \r\n",
      "+-----------------------------------------------------------------------------+\r\n",
      "| NVIDIA-SMI 525.85.12    Driver Version: 525.85.12    CUDA Version: 12.0     |\r\n",
      "|-------------------------------+----------------------+----------------------+\r\n",
      "| GPU  Name        Persistence-M| Bus-Id        Disp.A | Volatile Uncorr. ECC |\r\n",
      "| Fan  Temp  Perf  Pwr:Usage/Cap|         Memory-Usage | GPU-Util  Compute M. |\r\n",
      "|                               |                      |               MIG M. |\r\n",
      "|===============================+======================+======================|\r\n",
      "|   0  Tesla T4            On   | 00000000:00:1E.0 Off |                    0 |\r\n",
      "| N/A   27C    P0    31W /  70W |  14243MiB / 15360MiB |      0%      Default |\r\n",
      "|                               |                      |                  N/A |\r\n",
      "+-------------------------------+----------------------+----------------------+\r\n",
      "                                                                               \r\n",
      "+-----------------------------------------------------------------------------+\r\n",
      "| Processes:                                                                  |\r\n",
      "|  GPU   GI   CI        PID   Type   Process name                  GPU Memory |\r\n",
      "|        ID   ID                                                   Usage      |\r\n",
      "|=============================================================================|\r\n",
      "|    0   N/A  N/A     46031      C   ...a/envs/pytorch/bin/python    14240MiB |\r\n",
      "+-----------------------------------------------------------------------------+\r\n"
     ]
    }
   ],
   "source": [
    "!nvidia-smi"
   ]
  },
  {
   "cell_type": "code",
   "execution_count": 25,
   "metadata": {
    "id": "rWG6EOIsHyOY"
   },
   "outputs": [],
   "source": [
    "torch.cuda.empty_cache()"
   ]
  },
  {
   "cell_type": "code",
   "execution_count": 26,
   "metadata": {},
   "outputs": [
    {
     "name": "stdout",
     "output_type": "stream",
     "text": [
      "Fri Apr  7 17:52:29 2023       \r\n",
      "+-----------------------------------------------------------------------------+\r\n",
      "| NVIDIA-SMI 525.85.12    Driver Version: 525.85.12    CUDA Version: 12.0     |\r\n",
      "|-------------------------------+----------------------+----------------------+\r\n",
      "| GPU  Name        Persistence-M| Bus-Id        Disp.A | Volatile Uncorr. ECC |\r\n",
      "| Fan  Temp  Perf  Pwr:Usage/Cap|         Memory-Usage | GPU-Util  Compute M. |\r\n",
      "|                               |                      |               MIG M. |\r\n",
      "|===============================+======================+======================|\r\n",
      "|   0  Tesla T4            On   | 00000000:00:1E.0 Off |                    0 |\r\n",
      "| N/A   26C    P0    31W /  70W |   1191MiB / 15360MiB |      0%      Default |\r\n",
      "|                               |                      |                  N/A |\r\n",
      "+-------------------------------+----------------------+----------------------+\r\n",
      "                                                                               \r\n",
      "+-----------------------------------------------------------------------------+\r\n",
      "| Processes:                                                                  |\r\n",
      "|  GPU   GI   CI        PID   Type   Process name                  GPU Memory |\r\n",
      "|        ID   ID                                                   Usage      |\r\n",
      "|=============================================================================|\r\n",
      "|    0   N/A  N/A     46031      C   ...a/envs/pytorch/bin/python     1188MiB |\r\n",
      "+-----------------------------------------------------------------------------+\r\n"
     ]
    }
   ],
   "source": [
    "!nvidia-smi"
   ]
  },
  {
   "attachments": {},
   "cell_type": "markdown",
   "metadata": {
    "id": "IBwunYpyugFg"
   },
   "source": [
    "# Training Config"
   ]
  },
  {
   "cell_type": "code",
   "execution_count": 27,
   "metadata": {
    "id": "MN82c3KpLup8"
   },
   "outputs": [],
   "source": [
    "config = {\n",
    "    \"beam_width\" : 5,\n",
    "    \"lr\" : 2e-3,\n",
    "    \"epochs\" : 50\n",
    "    }"
   ]
  },
  {
   "cell_type": "code",
   "execution_count": 28,
   "metadata": {
    "colab": {
     "base_uri": "https://localhost:8080/"
    },
    "id": "iGoozH2nd6KB",
    "outputId": "e15e3324-54c2-46a8-fae6-bf9da5f06aa1"
   },
   "outputs": [
    {
     "name": "stdout",
     "output_type": "stream",
     "text": [
      "Adjusting learning rate of group 0 to 2.0000e-03.\n"
     ]
    }
   ],
   "source": [
    "criterion = torch.nn.CTCLoss()\n",
    "# Define CTC loss as the criterion. How would the losses be reduced?\n",
    "# CTC Loss: https://pytorch.org/docs/stable/generated/torch.nn.CTCLoss.html\n",
    "# Refer to the handout for hints\n",
    "\n",
    "optimizer =  torch.optim.AdamW(model.parameters(), lr = config['lr'], weight_decay = config['lr']/100)\n",
    "\n",
    "# Declare the decoder. Use the CTC Beam Decoder to decode phonemes\n",
    "# CTC Beam Decoder Doc: https://github.com/parlance/ctcdecode\n",
    "decoder = CTCBeamDecoder(LABELS, beam_width = config['beam_width'], log_probs_input=True)\n",
    "\n",
    "scheduler = torch.optim.lr_scheduler.CosineAnnealingLR(optimizer, T_max = config['epochs'], eta_min = config['lr']/200, verbose=True)\n",
    "\n",
    "# Mixed Precision, if you need it\n",
    "scaler = torch.cuda.amp.GradScaler()"
   ]
  },
  {
   "attachments": {},
   "cell_type": "markdown",
   "metadata": {
    "id": "Jmc6_4eWL2Xp"
   },
   "source": [
    "## Decode Prediction"
   ]
  },
  {
   "cell_type": "code",
   "execution_count": 29,
   "metadata": {
    "id": "bVJkWRsb1qMp"
   },
   "outputs": [],
   "source": [
    "def decode_prediction(output, output_lens, decoder, PHONEME_MAP = LABELS):\n",
    "    \n",
    "    # TODO: look at docs for CTC.decoder and find out what is returned here. Check the shape of output and expected shape in decode.\n",
    "    beam_results, beam_scores, timesteps, out_seq_len = decoder.decode(output, seq_lens= output_lens) #lengths - list of lengths\n",
    "\n",
    "    pred_strings    = []\n",
    "    \n",
    "    for i in range(beam_results.shape[0]):\n",
    "        #TODO: Create the prediction from the output of decoder.decode. Don't forget to map it using PHONEMES_MAP.\n",
    "        beam_temp = beam_results[i,0,:out_seq_len[i,0]]\n",
    "        pred_str = \"\".join([PHONEME_MAP[i] for i in beam_temp])\n",
    "        pred_strings.append(pred_str)\n",
    "    \n",
    "    return pred_strings\n",
    "\n",
    "def calculate_levenshtein(output, label, output_lens, label_lens, decoder, PHONEME_MAP = LABELS): # y - sequence of integers\n",
    "    \n",
    "    dist            = 0\n",
    "    batch_size      = label.shape[0]\n",
    "\n",
    "    pred_strings    = decode_prediction(output, output_lens, decoder, PHONEME_MAP)\n",
    "    \n",
    "    for i in range(batch_size):\n",
    "        # TODO: Get predicted string and label string for each element in the batch\n",
    "        pred_str = pred_strings[i]\n",
    "        label_temp = label[i,0:label_lens[i]]\n",
    "        label_str = [PHONEME_MAP[k] for k in label_temp]\n",
    "        dist += Levenshtein.distance(pred_str, label_str)\n",
    "\n",
    "    dist /= batch_size # TODO: Uncomment this, but think about why we are doing this\n",
    "    # raise NotImplemented\n",
    "    return dist"
   ]
  },
  {
   "cell_type": "code",
   "execution_count": 30,
   "metadata": {
    "colab": {
     "base_uri": "https://localhost:8080/"
    },
    "id": "GnTLL-5gMBrY",
    "outputId": "8c246d19-ec49-47e4-adf6-b267b68bccbd"
   },
   "outputs": [
    {
     "name": "stdout",
     "output_type": "stream",
     "text": [
      "torch.Size([272, 733, 41])\n",
      "torch.Size([733, 272, 41]) torch.Size([272, 265])\n",
      "tensor(7.1085, device='cuda:0', grad_fn=<MeanBackward0>)\n",
      "208.25\n"
     ]
    }
   ],
   "source": [
    "# test code to check shapes\n",
    "\n",
    "model.eval()\n",
    "for i, data in enumerate(val_loader, 0):\n",
    "    x, y, lx, ly = data\n",
    "    x, y = x.to(device), y.to(device)\n",
    "    h, lh = model(x, lx)\n",
    "    print(h.shape)\n",
    "    h = torch.permute(h, (1, 0, 2))\n",
    "    print(h.shape, y.shape)\n",
    "    loss = criterion(h, y, lh, ly)\n",
    "    print(loss)\n",
    "\n",
    "    h = torch.permute(h, (1, 0, 2))\n",
    "    print(calculate_levenshtein(h, y, lx, ly, decoder, LABELS))\n",
    "\n",
    "    break"
   ]
  },
  {
   "attachments": {},
   "cell_type": "markdown",
   "metadata": {
    "id": "rd5aNaLVoR_g"
   },
   "source": [
    "## wandb\n",
    "\n",
    "You will need to fetch your api key from wandb.ai"
   ]
  },
  {
   "cell_type": "code",
   "execution_count": 31,
   "metadata": {
    "colab": {
     "base_uri": "https://localhost:8080/"
    },
    "id": "PiDduMaDIARE",
    "outputId": "631bacda-6835-407b-d619-c6ea5e769e55"
   },
   "outputs": [
    {
     "name": "stderr",
     "output_type": "stream",
     "text": [
      "\u001b[34m\u001b[1mwandb\u001b[0m: Currently logged in as: \u001b[33mlsethi\u001b[0m (\u001b[33mverydeeplearning\u001b[0m). Use \u001b[1m`wandb login --relogin`\u001b[0m to force relogin\n",
      "\u001b[34m\u001b[1mwandb\u001b[0m: \u001b[33mWARNING\u001b[0m If you're specifying your api key in code, ensure this code is not shared publicly.\n",
      "\u001b[34m\u001b[1mwandb\u001b[0m: \u001b[33mWARNING\u001b[0m Consider setting the WANDB_API_KEY environment variable, or running `wandb login` from the command line.\n",
      "\u001b[34m\u001b[1mwandb\u001b[0m: Appending key for api.wandb.ai to your netrc file: /home/ubuntu/.netrc\n"
     ]
    },
    {
     "data": {
      "text/plain": [
       "True"
      ]
     },
     "execution_count": 31,
     "metadata": {},
     "output_type": "execute_result"
    }
   ],
   "source": [
    "import wandb\n",
    "wandb.login(key=\"2a3537b39181a31bafb5eabede64d932c94e54e8\")"
   ]
  },
  {
   "cell_type": "code",
   "execution_count": 32,
   "metadata": {
    "colab": {
     "base_uri": "https://localhost:8080/",
     "height": 122
    },
    "id": "4s52yBOvICPZ",
    "outputId": "f99bb422-6770-45c1-9578-1146c2370be2"
   },
   "outputs": [
    {
     "data": {
      "text/html": [
       "Tracking run with wandb version 0.14.1"
      ],
      "text/plain": [
       "<IPython.core.display.HTML object>"
      ]
     },
     "metadata": {},
     "output_type": "display_data"
    },
    {
     "data": {
      "text/html": [
       "Run data is saved locally in <code>/home/ubuntu/Intro_to_Deep_Learning/wandb/run-20230407_175237-wp1waurg</code>"
      ],
      "text/plain": [
       "<IPython.core.display.HTML object>"
      ]
     },
     "metadata": {},
     "output_type": "display_data"
    },
    {
     "data": {
      "text/html": [
       "Syncing run <strong><a href='https://wandb.ai/verydeeplearning/hw3p2-ablations/runs/wp1waurg' target=\"_blank\">RNN_HW3_v3</a></strong> to <a href='https://wandb.ai/verydeeplearning/hw3p2-ablations' target=\"_blank\">Weights & Biases</a> (<a href='https://wandb.me/run' target=\"_blank\">docs</a>)<br/>"
      ],
      "text/plain": [
       "<IPython.core.display.HTML object>"
      ]
     },
     "metadata": {},
     "output_type": "display_data"
    },
    {
     "data": {
      "text/html": [
       " View project at <a href='https://wandb.ai/verydeeplearning/hw3p2-ablations' target=\"_blank\">https://wandb.ai/verydeeplearning/hw3p2-ablations</a>"
      ],
      "text/plain": [
       "<IPython.core.display.HTML object>"
      ]
     },
     "metadata": {},
     "output_type": "display_data"
    },
    {
     "data": {
      "text/html": [
       " View run at <a href='https://wandb.ai/verydeeplearning/hw3p2-ablations/runs/wp1waurg' target=\"_blank\">https://wandb.ai/verydeeplearning/hw3p2-ablations/runs/wp1waurg</a>"
      ],
      "text/plain": [
       "<IPython.core.display.HTML object>"
      ]
     },
     "metadata": {},
     "output_type": "display_data"
    }
   ],
   "source": [
    "run = wandb.init(\n",
    "    name = \"RNN_HW3_v3\", ## Wandb creates random run names if you skip this field\n",
    "    reinit = True, ### Allows reinitalizing runs when you re-run this cell\n",
    "    # run_id = ### Insert specific run id here if you want to resume a previous run\n",
    "    # resume = \"must\" ### You need this to resume previous runs, but comment out reinit = True when using this\n",
    "    project = \"hw3p2-ablations\", ### Project should be created in your wandb account \n",
    "    config = config ### Wandb Config for your run\n",
    ")"
   ]
  },
  {
   "attachments": {},
   "cell_type": "markdown",
   "metadata": {
    "id": "6fLLj5KIMMOe"
   },
   "source": [
    "# Train Functions"
   ]
  },
  {
   "cell_type": "code",
   "execution_count": 33,
   "metadata": {
    "id": "ri87MAdhMUz5"
   },
   "outputs": [],
   "source": [
    "from tqdm import tqdm\n",
    "\n",
    "def train_model(model, train_loader, criterion, optimizer):\n",
    "    \n",
    "    model.train()\n",
    "    batch_bar = tqdm(total=len(train_loader), dynamic_ncols=True, leave=False, position=0, desc='Train') \n",
    "\n",
    "    total_loss = 0\n",
    "\n",
    "    for i, data in enumerate(train_loader):\n",
    "        optimizer.zero_grad()\n",
    "\n",
    "        x, y, lx, ly = data\n",
    "        x, y = x.to(device), y.to(device)\n",
    "\n",
    "        with torch.cuda.amp.autocast():     \n",
    "            h, lh = model(x, lx)\n",
    "            h = torch.permute(h, (1, 0, 2))\n",
    "            loss = criterion(h, y, lh, ly)\n",
    "\n",
    "        total_loss += loss.item()\n",
    "\n",
    "        batch_bar.set_postfix(\n",
    "            loss=\"{:.04f}\".format(float(total_loss / (i + 1))),\n",
    "            lr=\"{:.06f}\".format(float(optimizer.param_groups[0]['lr'])))\n",
    "\n",
    "        batch_bar.update() # Update tqdm bar\n",
    "\n",
    "        # Another couple things you need for FP16. \n",
    "        scaler.scale(loss).backward() # This is a replacement for loss.backward()\n",
    "        scaler.step(optimizer) # This is a replacement for optimizer.step()\n",
    "        scaler.update() # This is something added just for FP16\n",
    "\n",
    "        del x, y, lx, ly, h, lh, loss \n",
    "        torch.cuda.empty_cache()\n",
    "\n",
    "    batch_bar.close() # You need this to close the tqdm bar\n",
    "    \n",
    "    return total_loss / len(train_loader)\n",
    "\n",
    "\n",
    "def validate_model(model, val_loader, decoder, phoneme_map= LABELS):\n",
    "\n",
    "    model.eval()\n",
    "    batch_bar = tqdm(total=len(val_loader), dynamic_ncols=True, position=0, leave=False, desc='Val')\n",
    "\n",
    "    total_loss = 0\n",
    "    vdist = 0\n",
    "\n",
    "    for i, data in enumerate(val_loader):\n",
    "\n",
    "        x, y, lx, ly = data\n",
    "        x, y = x.to(device), y.to(device)\n",
    "\n",
    "        with torch.inference_mode():\n",
    "            h, lh = model(x, lx)\n",
    "            h = torch.permute(h, (1, 0, 2))\n",
    "            loss = criterion(h, y, lh, ly)\n",
    "\n",
    "        total_loss += float(loss)\n",
    "        vdist += calculate_levenshtein(torch.permute(h, (1, 0, 2)), y, lh, ly, decoder, phoneme_map)\n",
    "\n",
    "        batch_bar.set_postfix(loss=\"{:.04f}\".format(float(total_loss / (i + 1))), dist=\"{:.04f}\".format(float(vdist / (i + 1))))\n",
    "\n",
    "        batch_bar.update()\n",
    "    \n",
    "        del x, y, lx, ly, h, lh, loss\n",
    "        torch.cuda.empty_cache()\n",
    "        \n",
    "    batch_bar.close()\n",
    "    total_loss = total_loss/len(val_loader)\n",
    "    val_dist = vdist/len(val_loader)\n",
    "    return total_loss, val_dist"
   ]
  },
  {
   "cell_type": "code",
   "execution_count": 34,
   "metadata": {
    "colab": {
     "base_uri": "https://localhost:8080/"
    },
    "id": "LGrEFE38MUz5",
    "outputId": "b6f620fa-8d82-4dbe-de0e-93d9f790d60f"
   },
   "outputs": [
    {
     "name": "stdout",
     "output_type": "stream",
     "text": [
      "torch.Size([272, 733, 41])\n",
      "torch.Size([733, 272, 41]) torch.Size([272, 265])\n",
      "tensor(7.1085, device='cuda:0', grad_fn=<MeanBackward0>)\n",
      "208.25\n"
     ]
    }
   ],
   "source": [
    "# test code to check shapes\n",
    "\n",
    "model.eval()\n",
    "for i, data in enumerate(val_loader, 0):\n",
    "    x, y, lx, ly = data\n",
    "    x, y = x.to(device), y.to(device)\n",
    "    h, lh = model(x, lx)\n",
    "    print(h.shape)\n",
    "    h = torch.permute(h, (1, 0, 2))\n",
    "    print(h.shape, y.shape)\n",
    "    loss = criterion(h, y, lh, ly)\n",
    "    print(loss)\n",
    "\n",
    "    h = torch.permute(h, (1, 0, 2))\n",
    "    print(calculate_levenshtein(h, y, lx, ly, decoder, LABELS))\n",
    "\n",
    "    break"
   ]
  },
  {
   "attachments": {},
   "cell_type": "markdown",
   "metadata": {
    "id": "qpYExu4vT4_g"
   },
   "source": [
    "### Training Setup"
   ]
  },
  {
   "cell_type": "code",
   "execution_count": 35,
   "metadata": {
    "id": "husa5_EYMUz6"
   },
   "outputs": [],
   "source": [
    "def save_model(model, optimizer, scheduler, metric, epoch, path):\n",
    "    torch.save(\n",
    "        {'model_state_dict'         : model.state_dict(),\n",
    "         'optimizer_state_dict'     : optimizer.state_dict(),\n",
    "         'scheduler_state_dict'     : scheduler.state_dict(),\n",
    "         metric[0]                  : metric[1], \n",
    "         'epoch'                    : epoch}, \n",
    "         path\n",
    "    )\n",
    "\n",
    "def load_model(path, model, metric= 'valid_acc', optimizer= None, scheduler= None):\n",
    "\n",
    "    checkpoint = torch.load(path)\n",
    "    model.load_state_dict(checkpoint['model_state_dict'])\n",
    "\n",
    "    if optimizer != None:\n",
    "        optimizer.load_state_dict(checkpoint['optimizer_state_dict'])\n",
    "    if scheduler != None:\n",
    "        scheduler.load_state_dict(checkpoint['scheduler_state_dict'])\n",
    "        \n",
    "    epoch   = checkpoint['epoch']\n",
    "    metric  = checkpoint[metric]\n",
    "\n",
    "    return [model, optimizer, scheduler, epoch, metric]"
   ]
  },
  {
   "cell_type": "code",
   "execution_count": 36,
   "metadata": {
    "id": "tExvyl1BIdMC"
   },
   "outputs": [],
   "source": [
    "# This is for checkpointing, if you're doing it over multiple sessions\n",
    "\n",
    "last_epoch_completed = 0\n",
    "start = last_epoch_completed\n",
    "end = config[\"epochs\"]\n",
    "best_lev_dist = float(\"inf\") # if you're restarting from some checkpoint, use what you saw there.\n",
    "epoch_model_path = 'Epoch_checkpoint_v3.pth'\n",
    "best_model_path = 'Best_checkpoint_v3.pth'"
   ]
  },
  {
   "cell_type": "code",
   "execution_count": 38,
   "metadata": {
    "colab": {
     "base_uri": "https://localhost:8080/"
    },
    "id": "JR43E28rM9Ak",
    "outputId": "c6dfdb1d-4659-4069-815c-767386fecf41",
    "scrolled": false
   },
   "outputs": [],
   "source": [
    "torch.cuda.empty_cache()\n",
    "gc.collect()\n",
    "\n",
    "#TODO: Please complete the training loop\n",
    "\n",
    "for epoch in range(0, config['epochs']):\n",
    "\n",
    "    print(\"\\nEpoch: {}/{}\".format(epoch+1, config['epochs']))\n",
    "    \n",
    "    curr_lr = float(optimizer.param_groups[0]['lr'])\n",
    "    print('Current Learning rate: ', curr_lr)\n",
    "\n",
    "    train_loss              = train_model(model, train_loader, criterion, optimizer)\n",
    "    torch.cuda.empty_cache()\n",
    "    gc.collect()\n",
    "    \n",
    "    valid_loss, valid_dist  = validate_model(model, val_loader, decoder, LABELS)\n",
    "    torch.cuda.empty_cache()\n",
    "    gc.collect()\n",
    "    \n",
    "    scheduler.step()\n",
    "    #scheduler.step(valid_dist)\n",
    "\n",
    "    print(\"\\tTrain Loss {:.04f}\\t Learning Rate {:.07f}\".format(train_loss, curr_lr))\n",
    "    print(\"\\tVal Dist {:.04f}%\\t Val Loss {:.04f}\".format(valid_dist, valid_loss))\n",
    "\n",
    "\n",
    "    wandb.log({\n",
    "        'train_loss': train_loss,  \n",
    "        'valid_dist': valid_dist, \n",
    "        'valid_loss': valid_loss, \n",
    "        'lr'        : curr_lr\n",
    "    })\n",
    "    save_model(model, optimizer, scheduler, ['valid_dist', valid_dist], epoch, epoch_model_path)\n",
    "    wandb.save(epoch_model_path)\n",
    "    print(\"Saved epoch model\")\n",
    "\n",
    "    if valid_dist <= best_lev_dist:\n",
    "        best_lev_dist = valid_dist\n",
    "        save_model(model, optimizer, scheduler, ['valid_dist', valid_dist], epoch, best_model_path)\n",
    "        wandb.save(best_model_path)\n",
    "        print(\"Saved best model\")\n",
    "      # You may find it interesting to exlplore Wandb Artifcats to version your models\n",
    "#run.finish()"
   ]
  },
  {
   "attachments": {},
   "cell_type": "markdown",
   "metadata": {
    "id": "M2H4EEj-sD32"
   },
   "source": [
    "# Generate Predictions and Submit to Kaggle"
   ]
  },
  {
   "cell_type": "code",
   "execution_count": null,
   "metadata": {
    "colab": {
     "base_uri": "https://localhost:8080/"
    },
    "id": "2moYJhTWsOG-",
    "outputId": "6a34f432-61a9-4bce-a69d-63cb4a6593a4"
   },
   "outputs": [],
   "source": [
    "#TODO: Make predictions\n",
    "\n",
    "# Follow the steps below:\n",
    "# 1. Create a new object for CTCBeamDecoder with larger (why?) number of beams\n",
    "# 2. Get prediction string by decoding the results of the beam decoder\n",
    "\n",
    "TEST_BEAM_WIDTH = int(config['beam_width']*1.5)\n",
    "\n",
    "test_decoder    = CTCBeamDecoder(LABELS, beam_width = TEST_BEAM_WIDTH, log_probs_input=True)\n",
    "results = []\n",
    "\n",
    "model.eval()\n",
    "print(\"Testing\")\n",
    "for data in tqdm(test_loader):\n",
    "\n",
    "    x, lx   = data\n",
    "    x       = x.to(device)\n",
    "\n",
    "    with torch.no_grad():\n",
    "        h, lh = model(x, lx)\n",
    "\n",
    "    prediction_string = decode_prediction(h, lh, test_decoder, LABELS)\n",
    "    results.extend(prediction_string)\n",
    "    \n",
    "    del x, lx, h, lh\n",
    "    torch.cuda.empty_cache()"
   ]
  },
  {
   "cell_type": "code",
   "execution_count": null,
   "metadata": {},
   "outputs": [],
   "source": [
    "data_dir = \"11-785-s23-hw3p2\" + \"/test-clean/random_submission.csv\"\n",
    "df = pd.read_csv(data_dir)\n",
    "df.label = results\n",
    "df.to_csv('submission.csv', index = False)\n",
    "\n",
    "!kaggle competitions submit -c 11-785-s23-hw3p2 -f submission.csv -m \"I made it!\""
   ]
  },
  {
   "cell_type": "code",
   "execution_count": null,
   "metadata": {},
   "outputs": [],
   "source": [
    "run.finish()"
   ]
  }
 ],
 "metadata": {
  "accelerator": "GPU",
  "colab": {
   "gpuType": "T4",
   "provenance": []
  },
  "gpuClass": "standard",
  "kernelspec": {
   "display_name": "Python 3 (ipykernel)",
   "language": "python",
   "name": "python3"
  },
  "language_info": {
   "codemirror_mode": {
    "name": "ipython",
    "version": 3
   },
   "file_extension": ".py",
   "mimetype": "text/x-python",
   "name": "python",
   "nbconvert_exporter": "python",
   "pygments_lexer": "ipython3",
   "version": "3.10.10"
  },
  "vscode": {
   "interpreter": {
    "hash": "bd385fe162c5ca0c84973b7dd5c518456272446b2b64e67c2a69f949ca7a1754"
   }
  }
 },
 "nbformat": 4,
 "nbformat_minor": 1
}
