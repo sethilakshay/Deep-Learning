{
  "cells": [
    {
      "attachments": {},
      "cell_type": "markdown",
      "metadata": {
        "id": "UR4qfYrVoO4v"
      },
      "source": [
        "# Using LSTMs with CNN based embeddings for Utterances to Phoneme Mapping\n",
        "\n",
        "### Author: Lakshay Sethi\n",
        "#### Custom Architecture 1 (Designed by Lakshay Sethi through Ablations)\n",
        "##### Ablations Link: https://wandb.ai/verydeeplearning/hw3p2-ablations"
      ]
    },
    {
      "cell_type": "code",
      "execution_count": 1,
      "metadata": {
        "colab": {
          "base_uri": "https://localhost:8080/"
        },
        "id": "lvyvZt69SjwJ",
        "outputId": "8f0be326-0eca-401b-da41-3b10f7b39224"
      },
      "outputs": [
        {
          "name": "stdout",
          "output_type": "stream",
          "text": [
            "Sat Apr  8 03:42:41 2023       \n",
            "+-----------------------------------------------------------------------------+\n",
            "| NVIDIA-SMI 525.85.12    Driver Version: 525.85.12    CUDA Version: 12.0     |\n",
            "|-------------------------------+----------------------+----------------------+\n",
            "| GPU  Name        Persistence-M| Bus-Id        Disp.A | Volatile Uncorr. ECC |\n",
            "| Fan  Temp  Perf  Pwr:Usage/Cap|         Memory-Usage | GPU-Util  Compute M. |\n",
            "|                               |                      |               MIG M. |\n",
            "|===============================+======================+======================|\n",
            "|   0  Tesla T4            Off  | 00000000:00:04.0 Off |                    0 |\n",
            "| N/A   33C    P8     9W /  70W |      0MiB / 15360MiB |      0%      Default |\n",
            "|                               |                      |                  N/A |\n",
            "+-------------------------------+----------------------+----------------------+\n",
            "                                                                               \n",
            "+-----------------------------------------------------------------------------+\n",
            "| Processes:                                                                  |\n",
            "|  GPU   GI   CI        PID   Type   Process name                  GPU Memory |\n",
            "|        ID   ID                                                   Usage      |\n",
            "|=============================================================================|\n",
            "|  No running processes found                                                 |\n",
            "+-----------------------------------------------------------------------------+\n"
          ]
        }
      ],
      "source": [
        "!nvidia-smi"
      ]
    },
    {
      "cell_type": "code",
      "execution_count": 2,
      "metadata": {
        "id": "mA9qZoIDcx-h"
      },
      "outputs": [],
      "source": [
        "# !pip install wandb"
      ]
    },
    {
      "attachments": {},
      "cell_type": "markdown",
      "metadata": {
        "id": "ONgAWhqdoYy-"
      },
      "source": [
        "### Levenshtein\n",
        "\n",
        "This may take a while"
      ]
    },
    {
      "cell_type": "code",
      "execution_count": 3,
      "metadata": {
        "id": "SS7a7xeEoaV9"
      },
      "outputs": [],
      "source": [
        "# !pip install wandb --quiet\n",
        "# !pip install python-Levenshtein -q\n",
        "# !git clone --recursive https://github.com/parlance/ctcdecode.git\n",
        "# !pip install wget -q\n",
        "# %cd ctcdecode\n",
        "# !pip install . -q\n",
        "# %cd ..\n",
        "\n",
        "# !pip install torchsummaryX -q"
      ]
    },
    {
      "attachments": {},
      "cell_type": "markdown",
      "metadata": {
        "id": "IWVONJxCobPc"
      },
      "source": [
        "## Imports"
      ]
    },
    {
      "cell_type": "code",
      "execution_count": 1,
      "metadata": {
        "colab": {
          "base_uri": "https://localhost:8080/"
        },
        "id": "78ZTCIXoof2f",
        "outputId": "57e2290b-4cf8-47bc-cbe2-74c5a4c100ca"
      },
      "outputs": [
        {
          "name": "stdout",
          "output_type": "stream",
          "text": [
            "Device:  cuda\n"
          ]
        }
      ],
      "source": [
        "import torch\n",
        "import torchaudio\n",
        "import random\n",
        "import numpy as np\n",
        "import torch.nn as nn\n",
        "import torch.nn.functional as F\n",
        "from torchsummaryX import summary\n",
        "from torch.utils.data import Dataset, DataLoader\n",
        "from torch.nn.utils.rnn import pad_sequence, pack_padded_sequence, pad_packed_sequence\n",
        "\n",
        "import torchaudio.transforms as tat\n",
        "\n",
        "from sklearn.metrics import accuracy_score\n",
        "import gc\n",
        "\n",
        "import zipfile\n",
        "import pandas as pd\n",
        "from tqdm import tqdm\n",
        "import os\n",
        "import datetime\n",
        "\n",
        "# imports for decoding and distance calculation\n",
        "import ctcdecode\n",
        "import Levenshtein\n",
        "from ctcdecode import CTCBeamDecoder\n",
        "\n",
        "import warnings\n",
        "warnings.filterwarnings('ignore')\n",
        "\n",
        "device = 'cuda' if torch.cuda.is_available() else 'cpu'\n",
        "print(\"Device: \", device)"
      ]
    },
    {
      "attachments": {},
      "cell_type": "markdown",
      "metadata": {
        "id": "gg3-yJ8tok34"
      },
      "source": [
        "# Kaggle Setup"
      ]
    },
    {
      "cell_type": "code",
      "execution_count": 5,
      "metadata": {
        "colab": {
          "base_uri": "https://localhost:8080/"
        },
        "id": "AdUelfGhom1m",
        "outputId": "afe14bd8-7e5a-4aef-e1b6-1f1da9c552bc"
      },
      "outputs": [
        {
          "name": "stdout",
          "output_type": "stream",
          "text": [
            "Looking in indexes: https://pypi.org/simple, https://us-python.pkg.dev/colab-wheels/public/simple/\n",
            "Collecting kaggle==1.5.8\n",
            "  Using cached kaggle-1.5.8-py3-none-any.whl\n",
            "Installing collected packages: kaggle\n",
            "  Attempting uninstall: kaggle\n",
            "    Found existing installation: kaggle 1.5.8\n",
            "    Uninstalling kaggle-1.5.8:\n",
            "      Successfully uninstalled kaggle-1.5.8\n",
            "Successfully installed kaggle-1.5.8\n",
            "mkdir: cannot create directory ‘/root/.kaggle’: File exists\n"
          ]
        }
      ],
      "source": [
        "!pip install --upgrade --force-reinstall --no-deps kaggle==1.5.8\n",
        "!mkdir /root/.kaggle\n",
        "\n",
        "with open(\"/root/.kaggle/kaggle.json\", \"w+\") as f:\n",
        "    f.write('{\"username\":\"lakshaysethi\",\"key\":\"32d86595e55bef36c1f649381dc3282f\"}')\n",
        "\n",
        "!chmod 600 /root/.kaggle/kaggle.json"
      ]
    },
    {
      "cell_type": "code",
      "execution_count": 6,
      "metadata": {
        "id": "_ruxWP60LCQA"
      },
      "outputs": [],
      "source": [
        "# !kaggle competitions download -c 11-785-s23-hw3p2\n",
        "# '''\n",
        "# This will take a couple minutes, but you should see at least the following:\n",
        "# 11-785-f22-hw3p2.zip  ctcdecode  hw3p2\n",
        "# '''\n",
        "# !unzip -q 11-785-s23-hw3p2.zip\n",
        "# !ls"
      ]
    },
    {
      "attachments": {},
      "cell_type": "markdown",
      "metadata": {
        "id": "R9v5ewZDMpYA"
      },
      "source": [
        "# Google Drive"
      ]
    },
    {
      "cell_type": "code",
      "execution_count": 7,
      "metadata": {
        "id": "4Cp-716IMZRd"
      },
      "outputs": [],
      "source": [
        "# from google.colab import drive\n",
        "# drive.mount('/content/gdrive')"
      ]
    },
    {
      "attachments": {},
      "cell_type": "markdown",
      "metadata": {
        "id": "2ORNHnSFroP0"
      },
      "source": [
        "# Dataset and Dataloader"
      ]
    },
    {
      "cell_type": "code",
      "execution_count": 2,
      "metadata": {
        "id": "k0v7wHRWrqH6"
      },
      "outputs": [],
      "source": [
        "# ARPABET PHONEME MAPPING\n",
        "# DO NOT CHANGE\n",
        "# This overwrites the phonetics.py file.\n",
        "\n",
        "CMUdict_ARPAbet = {\n",
        "    \"\" : \" \",\n",
        "    \"[SIL]\": \"-\", \"NG\": \"G\", \"F\" : \"f\", \"M\" : \"m\", \"AE\": \"@\", \n",
        "    \"R\"    : \"r\", \"UW\": \"u\", \"N\" : \"n\", \"IY\": \"i\", \"AW\": \"W\", \n",
        "    \"V\"    : \"v\", \"UH\": \"U\", \"OW\": \"o\", \"AA\": \"a\", \"ER\": \"R\", \n",
        "    \"HH\"   : \"h\", \"Z\" : \"z\", \"K\" : \"k\", \"CH\": \"C\", \"W\" : \"w\", \n",
        "    \"EY\"   : \"e\", \"ZH\": \"Z\", \"T\" : \"t\", \"EH\": \"E\", \"Y\" : \"y\", \n",
        "    \"AH\"   : \"A\", \"B\" : \"b\", \"P\" : \"p\", \"TH\": \"T\", \"DH\": \"D\", \n",
        "    \"AO\"   : \"c\", \"G\" : \"g\", \"L\" : \"l\", \"JH\": \"j\", \"OY\": \"O\", \n",
        "    \"SH\"   : \"S\", \"D\" : \"d\", \"AY\": \"Y\", \"S\" : \"s\", \"IH\": \"I\",\n",
        "    \"[SOS]\": \"[SOS]\", \"[EOS]\": \"[EOS]\"\n",
        "}\n",
        "\n",
        "CMUdict = list(CMUdict_ARPAbet.keys())\n",
        "ARPAbet = list(CMUdict_ARPAbet.values())\n",
        "\n",
        "\n",
        "PHONEMES = CMUdict[:-2]\n",
        "LABELS = ARPAbet[:-2]"
      ]
    },
    {
      "cell_type": "code",
      "execution_count": 3,
      "metadata": {
        "colab": {
          "base_uri": "https://localhost:8080/"
        },
        "id": "0wQbPQj4Yl1z",
        "outputId": "e4b9590c-6da6-4b65-f5ef-2d698103553e"
      },
      "outputs": [
        {
          "data": {
            "text/plain": [
              "['',\n",
              " '[SIL]',\n",
              " 'NG',\n",
              " 'F',\n",
              " 'M',\n",
              " 'AE',\n",
              " 'R',\n",
              " 'UW',\n",
              " 'N',\n",
              " 'IY',\n",
              " 'AW',\n",
              " 'V',\n",
              " 'UH',\n",
              " 'OW',\n",
              " 'AA',\n",
              " 'ER',\n",
              " 'HH',\n",
              " 'Z',\n",
              " 'K',\n",
              " 'CH',\n",
              " 'W',\n",
              " 'EY',\n",
              " 'ZH',\n",
              " 'T',\n",
              " 'EH',\n",
              " 'Y',\n",
              " 'AH',\n",
              " 'B',\n",
              " 'P',\n",
              " 'TH',\n",
              " 'DH',\n",
              " 'AO',\n",
              " 'G',\n",
              " 'L',\n",
              " 'JH',\n",
              " 'OY',\n",
              " 'SH',\n",
              " 'D',\n",
              " 'AY',\n",
              " 'S',\n",
              " 'IH']"
            ]
          },
          "execution_count": 3,
          "metadata": {},
          "output_type": "execute_result"
        }
      ],
      "source": [
        "PHONEMES"
      ]
    },
    {
      "cell_type": "code",
      "execution_count": 4,
      "metadata": {
        "colab": {
          "base_uri": "https://localhost:8080/"
        },
        "id": "HjT1NzNRYoZ0",
        "outputId": "c83a5fac-882c-4035-fa6c-7bdce4d5553c"
      },
      "outputs": [
        {
          "data": {
            "text/plain": [
              "[' ',\n",
              " '-',\n",
              " 'G',\n",
              " 'f',\n",
              " 'm',\n",
              " '@',\n",
              " 'r',\n",
              " 'u',\n",
              " 'n',\n",
              " 'i',\n",
              " 'W',\n",
              " 'v',\n",
              " 'U',\n",
              " 'o',\n",
              " 'a',\n",
              " 'R',\n",
              " 'h',\n",
              " 'z',\n",
              " 'k',\n",
              " 'C',\n",
              " 'w',\n",
              " 'e',\n",
              " 'Z',\n",
              " 't',\n",
              " 'E',\n",
              " 'y',\n",
              " 'A',\n",
              " 'b',\n",
              " 'p',\n",
              " 'T',\n",
              " 'D',\n",
              " 'c',\n",
              " 'g',\n",
              " 'l',\n",
              " 'j',\n",
              " 'O',\n",
              " 'S',\n",
              " 'd',\n",
              " 'Y',\n",
              " 's',\n",
              " 'I',\n",
              " '[SOS]',\n",
              " '[EOS]']"
            ]
          },
          "execution_count": 4,
          "metadata": {},
          "output_type": "execute_result"
        }
      ],
      "source": [
        "ARPAbet"
      ]
    },
    {
      "attachments": {},
      "cell_type": "markdown",
      "metadata": {
        "id": "agmNBKf4JrLV"
      },
      "source": [
        "### Train Data"
      ]
    },
    {
      "cell_type": "code",
      "execution_count": 5,
      "metadata": {
        "id": "afd0_vlbJmr_"
      },
      "outputs": [],
      "source": [
        "class AudioDataset(torch.utils.data.Dataset):\n",
        "\n",
        "    def __init__(self, root, phonemes = PHONEMES, partition = ['train-clean-100']):\n",
        "        self.mfcc_files, self.transcript_files = [], []\n",
        "\n",
        "        for part in partition:  \n",
        "            mfcc_dir = root + part + '/mfcc/'\n",
        "            transcript_dir = root + part +'/transcript/'\n",
        "\n",
        "            mfcc_temp_dir = os.listdir(mfcc_dir)\n",
        "            mfcc_temp_dir.sort()\n",
        "            mfcc_temp = [os.path.join(mfcc_dir, currFile) for currFile in mfcc_temp_dir]\n",
        "            self.mfcc_files.extend(mfcc_temp)\n",
        "\n",
        "            transcript_temp_dir = os.listdir(transcript_dir)\n",
        "            transcript_temp_dir.sort()\n",
        "            transcript_temp = [os.path.join(transcript_dir, currFile) for currFile in transcript_temp_dir]\n",
        "            self.transcript_files.extend(transcript_temp)\n",
        "\n",
        "        \n",
        "        # Sanity Check\n",
        "        assert len(self.mfcc_files) == len(self.transcript_files)\n",
        "\n",
        "        # Lenght Assignment\n",
        "        self.length = len(self.mfcc_files)\n",
        "\n",
        "        self.PHONEMES = phonemes\n",
        "        # HOW CAN WE REPRESENT PHONEMES? CAN WE CREATE A MAPPING FOR THEM?\n",
        "        # HINT: TENSORS CANNOT STORE NON-NUMERICAL VALUES OR STRINGS\n",
        "        self.PHONEMES_DICT = {value: idx for idx, value in enumerate(self.PHONEMES)}\n",
        "\n",
        "\n",
        "        self.mfccs, self.transcripts = [], []\n",
        "\n",
        "        for i in range(self.length):\n",
        "            mfcc = np.load(self.mfcc_files[i], allow_pickle=True)\n",
        "            mfcc = (mfcc - np.mean(mfcc, axis = 0))/np.std(mfcc, axis = 0)\n",
        "            transcript = np.load(self.transcript_files[i], allow_pickle=True)\n",
        "            transcript = transcript[1:-1]         # Removing [SOS] and [EOS] from the transcript \n",
        "\n",
        "            label = np.array([self.PHONEMES_DICT[trans] for trans in transcript])\n",
        "\n",
        "            self.mfccs.append(mfcc)\n",
        "            self.transcripts.append(label)\n",
        "    \n",
        "\n",
        "    def __len__(self):\n",
        "        return self.length\n",
        "\n",
        "    def __getitem__(self, ind):\n",
        "        mfcc_tensor = torch.FloatTensor(self.mfccs[ind])\n",
        "        transcript_tensor = torch.tensor(self.transcripts[ind])\n",
        "\n",
        "        return mfcc_tensor, transcript_tensor\n",
        "\n",
        "\n",
        "    def collate_fn(self, batch):\n",
        "        batch_mfcc       = [mfcc for mfcc, _ in batch]\n",
        "        batch_transcript = [transcript for _, transcript in batch]\n",
        "\n",
        "        batch_mfcc_pad = pad_sequence(batch_mfcc, batch_first=True, padding_value=0.0)\n",
        "        lengths_mfcc = [len(mfcc) for mfcc in batch_mfcc]\n",
        "\n",
        "        batch_transcript_pad = pad_sequence(batch_transcript, batch_first=True, padding_value=0.0)\n",
        "        lengths_transcript = [len(trans) for trans in batch_transcript]\n",
        "\n",
        "        return batch_mfcc_pad, batch_transcript_pad, torch.tensor(lengths_mfcc), torch.tensor(lengths_transcript)"
      ]
    },
    {
      "cell_type": "code",
      "execution_count": 6,
      "metadata": {
        "id": "4EzAmXxHjTcL"
      },
      "outputs": [],
      "source": [
        "# class customCollate:\n",
        "\n",
        "#     def __init__(self, trainData = True):\n",
        "#         self.trainData = trainData\n",
        "\n",
        "#     def __call__(self, batch):\n",
        "#         batch_mfcc       = [mfcc for mfcc, _ in batch]\n",
        "#         batch_transcript = [transcript for _, transcript in batch]\n",
        "\n",
        "#         # if self.trainData:\n",
        "#         #     time_masking = torchaudio.transforms.TimeMasking(time_mask_param = 10, iid_masks = False, p = 1.0)\n",
        "#         #     frequency_masking = torchaudio.transforms.FrequencyMasking(freq_mask_param = 20, iid_masks = False)\n",
        "            \n",
        "#         #     batch_mfcc = \n",
        "\n",
        "#         batch_mfcc_pad = pad_sequence(batch_mfcc, batch_first=True, padding_value=0.0)\n",
        "#         lengths_mfcc = [len(mfcc) for mfcc in batch_mfcc]\n",
        "\n",
        "#         batch_transcript_pad = pad_sequence(batch_transcript, batch_first=True, padding_value=0.0)\n",
        "#         lengths_transcript = [len(trans) for trans in batch_transcript]\n",
        "\n",
        "#         return batch_mfcc_pad, batch_transcript_pad, torch.tensor(lengths_mfcc), torch.tensor(lengths_transcript)"
      ]
    },
    {
      "attachments": {},
      "cell_type": "markdown",
      "metadata": {
        "id": "hqDrxeHfJw4g"
      },
      "source": [
        "### Test Data"
      ]
    },
    {
      "cell_type": "code",
      "execution_count": 7,
      "metadata": {
        "id": "HrLS1wfVJppA"
      },
      "outputs": [],
      "source": [
        "# Test Dataloader\n",
        "class AudioDatasetTest(torch.utils.data.Dataset):\n",
        "\n",
        "    def __init__(self, root, partition = 'test-clean'): \n",
        "\n",
        "        self.mfcc_dir = root + partition + '/mfcc/'\n",
        "        self.mfcc_files = os.listdir(self.mfcc_dir)\n",
        "        self.mfcc_files.sort()\n",
        "\n",
        "        self.length = len(self.mfcc_files)\n",
        "\n",
        "        self.mfccs = []\n",
        "\n",
        "        for i in range(self.length):\n",
        "            mfcc = np.load(self.mfcc_dir + self.mfcc_files[i], allow_pickle=True)\n",
        "            mfcc = (mfcc - np.mean(mfcc, axis = 0))/np.std(mfcc, axis = 0)\n",
        "            self.mfccs.append(mfcc)\n",
        "    \n",
        "    def __len__(self):\n",
        "        return self.length\n",
        "\n",
        "    def __getitem__(self, ind):\n",
        "        mfcc = torch.FloatTensor(self.mfccs[ind])\n",
        "        return mfcc\n",
        "\n",
        "    def collate_fn(self,batch):\n",
        "        batch_mfcc = batch\n",
        "        batch_mfcc_pad = pad_sequence(batch_mfcc, batch_first=True, padding_value=0)\n",
        "        lengths_mfcc = [len(mfcc) for mfcc in batch_mfcc]\n",
        "\n",
        "        return batch_mfcc_pad, torch.tensor(lengths_mfcc)"
      ]
    },
    {
      "attachments": {},
      "cell_type": "markdown",
      "metadata": {
        "id": "Pt-veYcdL6Fe"
      },
      "source": [
        "### Data - Hyperparameters"
      ]
    },
    {
      "cell_type": "code",
      "execution_count": 8,
      "metadata": {
        "id": "4icymeX1ImUN"
      },
      "outputs": [],
      "source": [
        "BATCH_SIZE = 256 # Increase if your device can handle it\n",
        "\n",
        "transforms = [] # set of tranformations\n",
        "# You may pass this as a parameter to the dataset class above\n",
        "# This will help modularize your implementation\n",
        "\n",
        "root = '/content/hw3p2' "
      ]
    },
    {
      "attachments": {},
      "cell_type": "markdown",
      "metadata": {
        "id": "NmuPk9J6L8dz"
      },
      "source": [
        "### Data loaders"
      ]
    },
    {
      "cell_type": "code",
      "execution_count": 9,
      "metadata": {
        "colab": {
          "base_uri": "https://localhost:8080/"
        },
        "id": "3_kG0gU2x4hH",
        "outputId": "e7c40afc-cc70-4625-e4f4-c2bef7dc1f25"
      },
      "outputs": [
        {
          "data": {
            "text/plain": [
              "0"
            ]
          },
          "execution_count": 9,
          "metadata": {},
          "output_type": "execute_result"
        }
      ],
      "source": [
        "gc.collect()"
      ]
    },
    {
      "cell_type": "code",
      "execution_count": 10,
      "metadata": {
        "id": "z4OFOjOYNJzu"
      },
      "outputs": [],
      "source": [
        "# del train_data, val_data, test_data, train_loader, val_loader, test_loader"
      ]
    },
    {
      "cell_type": "code",
      "execution_count": 11,
      "metadata": {
        "colab": {
          "base_uri": "https://localhost:8080/"
        },
        "id": "4mzoYfTKu14s",
        "outputId": "7d63fe3b-bea2-4e2b-c88a-ce6a4ff65c5d"
      },
      "outputs": [
        {
          "name": "stdout",
          "output_type": "stream",
          "text": [
            "Batch size:  256\n",
            "Train dataset samples = 132552, batches = 518\n",
            "Val dataset samples = 2703, batches = 11\n",
            "Test dataset samples = 2620, batches = 11\n"
          ]
        }
      ],
      "source": [
        "# Create objects for the dataset class\n",
        "train_data = AudioDataset(root = '/content/11-785-s23-hw3p2/', phonemes = PHONEMES, partition = ['train-clean-100', 'train-clean-360'])\n",
        "val_data =AudioDataset(root = '/content/11-785-s23-hw3p2/', phonemes = PHONEMES, partition = ['dev-clean'])\n",
        "test_data = AudioDatasetTest(root = '/content/11-785-s23-hw3p2/', partition = 'test-clean')\n",
        "\n",
        "# Do NOT forget to pass in the collate function as parameter while creating the dataloader\n",
        "train_loader = torch.utils.data.DataLoader(\n",
        "    dataset     = train_data, \n",
        "    num_workers = 4,\n",
        "    batch_size  = BATCH_SIZE, \n",
        "    pin_memory  = True,\n",
        "    shuffle     = True,\n",
        "    collate_fn  = train_data.collate_fn\n",
        ")\n",
        "val_loader = torch.utils.data.DataLoader(\n",
        "    dataset     = val_data, \n",
        "    num_workers = 2,\n",
        "    batch_size  = BATCH_SIZE,\n",
        "    pin_memory  = True,\n",
        "    shuffle     = False,\n",
        "    collate_fn  = val_data.collate_fn\n",
        ")\n",
        "test_loader = torch.utils.data.DataLoader(\n",
        "    dataset     = test_data, \n",
        "    num_workers = 2, \n",
        "    batch_size  = BATCH_SIZE, \n",
        "    pin_memory  = True, \n",
        "    shuffle     = False,\n",
        "    collate_fn  = test_data.collate_fn\n",
        ")\n",
        "\n",
        "print(\"Batch size: \", BATCH_SIZE)\n",
        "print(\"Train dataset samples = {}, batches = {}\".format(train_data.__len__(), len(train_loader)))\n",
        "print(\"Val dataset samples = {}, batches = {}\".format(val_data.__len__(), len(val_loader)))\n",
        "print(\"Test dataset samples = {}, batches = {}\".format(test_data.__len__(), len(test_loader)))"
      ]
    },
    {
      "cell_type": "code",
      "execution_count": 12,
      "metadata": {
        "colab": {
          "base_uri": "https://localhost:8080/"
        },
        "id": "m7qZ-LkqMTLP",
        "outputId": "c118e6d9-76fb-4c29-9861-b096cf70fdf4"
      },
      "outputs": [
        {
          "data": {
            "text/plain": [
              "1210"
            ]
          },
          "execution_count": 12,
          "metadata": {},
          "output_type": "execute_result"
        }
      ],
      "source": [
        "gc.collect()"
      ]
    },
    {
      "cell_type": "code",
      "execution_count": 13,
      "metadata": {
        "colab": {
          "base_uri": "https://localhost:8080/"
        },
        "id": "Jfbs2gn3lQtA",
        "outputId": "1bc1c4e0-103b-4508-c06c-d1361a918c89"
      },
      "outputs": [
        {
          "name": "stdout",
          "output_type": "stream",
          "text": [
            "torch.Size([256, 1690, 27]) torch.Size([256, 222]) torch.Size([256]) torch.Size([256])\n"
          ]
        }
      ],
      "source": [
        "# sanity check\n",
        "for data in train_loader:\n",
        "    x, y, lx, ly = data\n",
        "    print(x.shape, y.shape, lx.shape, ly.shape)\n",
        "    break "
      ]
    },
    {
      "cell_type": "code",
      "execution_count": 14,
      "metadata": {
        "colab": {
          "base_uri": "https://localhost:8080/"
        },
        "id": "6M3rabX_-Xfm",
        "outputId": "d1636b56-7d8d-4bb1-ce1f-e7b0dce94599"
      },
      "outputs": [
        {
          "name": "stdout",
          "output_type": "stream",
          "text": [
            "256\n",
            "256\n"
          ]
        }
      ],
      "source": [
        "print(len(x))\n",
        "print(len(lx))"
      ]
    },
    {
      "attachments": {},
      "cell_type": "markdown",
      "metadata": {
        "id": "wSexxhdfMUzx"
      },
      "source": [
        "# NETWORK"
      ]
    },
    {
      "attachments": {},
      "cell_type": "markdown",
      "metadata": {
        "id": "HLad4pChcuvX"
      },
      "source": [
        "## Basic\n",
        "\n",
        "This is a basic block for understanding, you can skip this and move to pBLSTM one"
      ]
    },
    {
      "cell_type": "code",
      "execution_count": null,
      "metadata": {
        "id": "EQhvHr71GJfq"
      },
      "outputs": [],
      "source": [
        "# torch.cuda.empty_cache()\n",
        "\n",
        "# class Network(nn.Module):\n",
        "\n",
        "#     def __init__(self):\n",
        "\n",
        "#         super(Network, self).__init__()\n",
        "\n",
        "#         # Adding some sort of embedding layer or feature extractor might help performance.\n",
        "#         self.embedding = nn.Sequential(nn.Conv1d(27, 512, kernel_size = 9, stride = 1, padding = 4, bias = False),\n",
        "#                                        nn.GELU(),\n",
        "#                                        nn.BatchNorm1d(512),\n",
        "                                       \n",
        "#                                        nn.Conv1d(512, 512, kernel_size = 7, stride = 1, padding = 3, bias = False),\n",
        "#                                        nn.GELU(),\n",
        "#                                        nn.BatchNorm1d(512),\n",
        "\n",
        "#                                        nn.Conv1d(512, 512, kernel_size = 5, stride = 1, padding = 2, bias = False),\n",
        "#                                        nn.GELU(),\n",
        "#                                        nn.BatchNorm1d(512),\n",
        "\n",
        "#                                        nn.Conv1d(512, 512, kernel_size = 3, stride = 1, padding = 1, bias = False),\n",
        "#                                        nn.BatchNorm1d(512)\n",
        "#         )\n",
        "\n",
        "#         self.out_features = len(PHONEMES)\n",
        "        \n",
        "#         # TODO : look up the documentation. You might need to pass some additional parameters.\n",
        "#         self.lstm = nn.LSTM(input_size = 512, hidden_size = 512, num_layers = 3, bias = True, bidirectional = True, dropout = 0.1) \n",
        "       \n",
        "#         self.classification = nn.Sequential(\n",
        "#             nn.Dropout(p = 0.1, inplace=False),\n",
        "#             torch.nn.Linear(512*2, 512),\n",
        "#             torch.nn.Linear(512, self.out_features)\n",
        "#         )\n",
        "\n",
        "#         self.logSoftmax = torch.nn.LogSoftmax(dim = 2)\n",
        "\n",
        "#     def forward(self, x, lx):\n",
        "#         x = self.embedding(torch.transpose(x, 1, 2))\n",
        "#         x = torch.transpose(x, 1, 2)\n",
        "\n",
        "#         x = pack_padded_sequence(x, lx, batch_first=True, enforce_sorted=False)\n",
        "#         x, _ = self.lstm(x)\n",
        "#         del _\n",
        "\n",
        "#         x, lens_unpacked  = pad_packed_sequence(x, batch_first=True)\n",
        "#         x = self.classification(x)\n",
        "#         x = F.log_softmax(x, dim=2)\n",
        "\n",
        "#         return x, lens_unpacked"
      ]
    },
    {
      "cell_type": "code",
      "execution_count": 15,
      "metadata": {
        "id": "TMOp_tuS7BQy"
      },
      "outputs": [],
      "source": [
        "torch.cuda.empty_cache()\n",
        "\n",
        "class PermuteBlock(torch.nn.Module):\n",
        "    def forward(self, x):\n",
        "        return x.transpose(1, 2)"
      ]
    },
    {
      "cell_type": "code",
      "execution_count": 16,
      "metadata": {
        "id": "fnzWrrH97BJy"
      },
      "outputs": [],
      "source": [
        "torch.cuda.empty_cache()\n",
        "\n",
        "class Network(nn.Module):\n",
        "\n",
        "    def __init__(self):\n",
        "\n",
        "        super(Network, self).__init__()\n",
        "\n",
        "        # Adding some sort of embedding layer or feature extractor might help performance.\n",
        "        self.embedding = nn.Sequential(PermuteBlock(),\n",
        "                                       nn.Conv1d(27, 128, kernel_size = 5, stride = 2, padding = 2, bias = False),\n",
        "                                       nn.Dropout(p = 0.3, inplace = False),\n",
        "                                       nn.GELU(),\n",
        "                                       nn.BatchNorm1d(128),\n",
        "                                       \n",
        "                                       nn.Conv1d(128, 256, kernel_size = 3, stride = 2, padding = 1, bias = False),\n",
        "                                       nn.Dropout(p = 0.3, inplace = False),\n",
        "                                       nn.GELU(),\n",
        "                                       nn.BatchNorm1d(256),\n",
        "                                       PermuteBlock()\n",
        "        )\n",
        "\n",
        "        self.out_features = len(PHONEMES)\n",
        "        \n",
        "        # TODO : look up the documentation. You might need to pass some additional parameters.\n",
        "        self.lstm = nn.LSTM(input_size = 256, hidden_size = 512, num_layers = 5, bias = True, bidirectional = True, dropout = 0.2) \n",
        "       \n",
        "        self.classification = nn.Sequential(\n",
        "            torch.nn.Linear(1024, 1024),\n",
        "            nn.Dropout(p = 0.2, inplace = False),\n",
        "            torch.nn.Linear(1024, self.out_features)\n",
        "        )\n",
        "\n",
        "        self.logSoftmax = torch.nn.LogSoftmax(dim = 2)\n",
        "\n",
        "    def forward(self, x, lx):\n",
        "        x = self.embedding(x)\n",
        "\n",
        "        lx = (lx-2)//4\n",
        "        x = pack_padded_sequence(x, lx, batch_first=True, enforce_sorted=False)\n",
        "        x, _ = self.lstm(x)\n",
        "        del _\n",
        "\n",
        "        x, lens_unpacked  = pad_packed_sequence(x, batch_first=True)\n",
        "        x = self.classification(x)\n",
        "        x = F.log_softmax(x, dim=2)\n",
        "\n",
        "        return x, lens_unpacked"
      ]
    },
    {
      "attachments": {},
      "cell_type": "markdown",
      "metadata": {
        "id": "tUThsowyQdN7"
      },
      "source": [
        "# INIT\n",
        "(If trying out the basic Network)"
      ]
    },
    {
      "cell_type": "code",
      "execution_count": 17,
      "metadata": {
        "colab": {
          "base_uri": "https://localhost:8080/",
          "height": 1000
        },
        "id": "CGoiXd70tb5z",
        "outputId": "53a5cec4-53a4-4cbb-84e3-052841d016b8"
      },
      "outputs": [
        {
          "name": "stdout",
          "output_type": "stream",
          "text": [
            "====================================================================================\n",
            "                              Kernel Shape      Output Shape      Params  \\\n",
            "Layer                                                                      \n",
            "0_embedding.PermuteBlock_0               -   [256, 27, 1690]           -   \n",
            "1_embedding.Conv1d_1          [27, 128, 5]   [256, 128, 845]      17.28k   \n",
            "2_embedding.Dropout_2                    -   [256, 128, 845]           -   \n",
            "3_embedding.GELU_3                       -   [256, 128, 845]           -   \n",
            "4_embedding.BatchNorm1d_4            [128]   [256, 128, 845]       256.0   \n",
            "5_embedding.Conv1d_5         [128, 256, 3]   [256, 256, 423]     98.304k   \n",
            "6_embedding.Dropout_6                    -   [256, 256, 423]           -   \n",
            "7_embedding.GELU_7                       -   [256, 256, 423]           -   \n",
            "8_embedding.BatchNorm1d_8            [256]   [256, 256, 423]       512.0   \n",
            "9_embedding.PermuteBlock_9               -   [256, 423, 256]           -   \n",
            "10_lstm                                  -     [80671, 1024]  28.352512M   \n",
            "11_classification.Linear_0    [1024, 1024]  [256, 422, 1024]     1.0496M   \n",
            "12_classification.Dropout_1              -  [256, 422, 1024]           -   \n",
            "13_classification.Linear_2      [1024, 41]    [256, 422, 41]     42.025k   \n",
            "\n",
            "                              Mult-Adds  \n",
            "Layer                                    \n",
            "0_embedding.PermuteBlock_0            -  \n",
            "1_embedding.Conv1d_1           14.6016M  \n",
            "2_embedding.Dropout_2                 -  \n",
            "3_embedding.GELU_3                    -  \n",
            "4_embedding.BatchNorm1d_4         128.0  \n",
            "5_embedding.Conv1d_5         41.582592M  \n",
            "6_embedding.Dropout_6                 -  \n",
            "7_embedding.GELU_7                    -  \n",
            "8_embedding.BatchNorm1d_8         256.0  \n",
            "9_embedding.PermuteBlock_9            -  \n",
            "10_lstm                      28.311552M  \n",
            "11_classification.Linear_0    1.048576M  \n",
            "12_classification.Dropout_1           -  \n",
            "13_classification.Linear_2      41.984k  \n",
            "------------------------------------------------------------------------------------\n",
            "                          Totals\n",
            "Total params          29.560489M\n",
            "Trainable params      29.560489M\n",
            "Non-trainable params         0.0\n",
            "Mult-Adds             85.586688M\n",
            "====================================================================================\n"
          ]
        },
        {
          "data": {
            "text/html": [
              "\n",
              "  <div id=\"df-81c32e79-fbc2-419c-bc4b-7992bef6ac53\">\n",
              "    <div class=\"colab-df-container\">\n",
              "      <div>\n",
              "<style scoped>\n",
              "    .dataframe tbody tr th:only-of-type {\n",
              "        vertical-align: middle;\n",
              "    }\n",
              "\n",
              "    .dataframe tbody tr th {\n",
              "        vertical-align: top;\n",
              "    }\n",
              "\n",
              "    .dataframe thead th {\n",
              "        text-align: right;\n",
              "    }\n",
              "</style>\n",
              "<table border=\"1\" class=\"dataframe\">\n",
              "  <thead>\n",
              "    <tr style=\"text-align: right;\">\n",
              "      <th></th>\n",
              "      <th>Kernel Shape</th>\n",
              "      <th>Output Shape</th>\n",
              "      <th>Params</th>\n",
              "      <th>Mult-Adds</th>\n",
              "    </tr>\n",
              "    <tr>\n",
              "      <th>Layer</th>\n",
              "      <th></th>\n",
              "      <th></th>\n",
              "      <th></th>\n",
              "      <th></th>\n",
              "    </tr>\n",
              "  </thead>\n",
              "  <tbody>\n",
              "    <tr>\n",
              "      <th>0_embedding.PermuteBlock_0</th>\n",
              "      <td>-</td>\n",
              "      <td>[256, 27, 1690]</td>\n",
              "      <td>NaN</td>\n",
              "      <td>NaN</td>\n",
              "    </tr>\n",
              "    <tr>\n",
              "      <th>1_embedding.Conv1d_1</th>\n",
              "      <td>[27, 128, 5]</td>\n",
              "      <td>[256, 128, 845]</td>\n",
              "      <td>17280.0</td>\n",
              "      <td>14601600.0</td>\n",
              "    </tr>\n",
              "    <tr>\n",
              "      <th>2_embedding.Dropout_2</th>\n",
              "      <td>-</td>\n",
              "      <td>[256, 128, 845]</td>\n",
              "      <td>NaN</td>\n",
              "      <td>NaN</td>\n",
              "    </tr>\n",
              "    <tr>\n",
              "      <th>3_embedding.GELU_3</th>\n",
              "      <td>-</td>\n",
              "      <td>[256, 128, 845]</td>\n",
              "      <td>NaN</td>\n",
              "      <td>NaN</td>\n",
              "    </tr>\n",
              "    <tr>\n",
              "      <th>4_embedding.BatchNorm1d_4</th>\n",
              "      <td>[128]</td>\n",
              "      <td>[256, 128, 845]</td>\n",
              "      <td>256.0</td>\n",
              "      <td>128.0</td>\n",
              "    </tr>\n",
              "    <tr>\n",
              "      <th>5_embedding.Conv1d_5</th>\n",
              "      <td>[128, 256, 3]</td>\n",
              "      <td>[256, 256, 423]</td>\n",
              "      <td>98304.0</td>\n",
              "      <td>41582592.0</td>\n",
              "    </tr>\n",
              "    <tr>\n",
              "      <th>6_embedding.Dropout_6</th>\n",
              "      <td>-</td>\n",
              "      <td>[256, 256, 423]</td>\n",
              "      <td>NaN</td>\n",
              "      <td>NaN</td>\n",
              "    </tr>\n",
              "    <tr>\n",
              "      <th>7_embedding.GELU_7</th>\n",
              "      <td>-</td>\n",
              "      <td>[256, 256, 423]</td>\n",
              "      <td>NaN</td>\n",
              "      <td>NaN</td>\n",
              "    </tr>\n",
              "    <tr>\n",
              "      <th>8_embedding.BatchNorm1d_8</th>\n",
              "      <td>[256]</td>\n",
              "      <td>[256, 256, 423]</td>\n",
              "      <td>512.0</td>\n",
              "      <td>256.0</td>\n",
              "    </tr>\n",
              "    <tr>\n",
              "      <th>9_embedding.PermuteBlock_9</th>\n",
              "      <td>-</td>\n",
              "      <td>[256, 423, 256]</td>\n",
              "      <td>NaN</td>\n",
              "      <td>NaN</td>\n",
              "    </tr>\n",
              "    <tr>\n",
              "      <th>10_lstm</th>\n",
              "      <td>-</td>\n",
              "      <td>[80671, 1024]</td>\n",
              "      <td>28352512.0</td>\n",
              "      <td>28311552.0</td>\n",
              "    </tr>\n",
              "    <tr>\n",
              "      <th>11_classification.Linear_0</th>\n",
              "      <td>[1024, 1024]</td>\n",
              "      <td>[256, 422, 1024]</td>\n",
              "      <td>1049600.0</td>\n",
              "      <td>1048576.0</td>\n",
              "    </tr>\n",
              "    <tr>\n",
              "      <th>12_classification.Dropout_1</th>\n",
              "      <td>-</td>\n",
              "      <td>[256, 422, 1024]</td>\n",
              "      <td>NaN</td>\n",
              "      <td>NaN</td>\n",
              "    </tr>\n",
              "    <tr>\n",
              "      <th>13_classification.Linear_2</th>\n",
              "      <td>[1024, 41]</td>\n",
              "      <td>[256, 422, 41]</td>\n",
              "      <td>42025.0</td>\n",
              "      <td>41984.0</td>\n",
              "    </tr>\n",
              "  </tbody>\n",
              "</table>\n",
              "</div>\n",
              "      <button class=\"colab-df-convert\" onclick=\"convertToInteractive('df-81c32e79-fbc2-419c-bc4b-7992bef6ac53')\"\n",
              "              title=\"Convert this dataframe to an interactive table.\"\n",
              "              style=\"display:none;\">\n",
              "        \n",
              "  <svg xmlns=\"http://www.w3.org/2000/svg\" height=\"24px\"viewBox=\"0 0 24 24\"\n",
              "       width=\"24px\">\n",
              "    <path d=\"M0 0h24v24H0V0z\" fill=\"none\"/>\n",
              "    <path d=\"M18.56 5.44l.94 2.06.94-2.06 2.06-.94-2.06-.94-.94-2.06-.94 2.06-2.06.94zm-11 1L8.5 8.5l.94-2.06 2.06-.94-2.06-.94L8.5 2.5l-.94 2.06-2.06.94zm10 10l.94 2.06.94-2.06 2.06-.94-2.06-.94-.94-2.06-.94 2.06-2.06.94z\"/><path d=\"M17.41 7.96l-1.37-1.37c-.4-.4-.92-.59-1.43-.59-.52 0-1.04.2-1.43.59L10.3 9.45l-7.72 7.72c-.78.78-.78 2.05 0 2.83L4 21.41c.39.39.9.59 1.41.59.51 0 1.02-.2 1.41-.59l7.78-7.78 2.81-2.81c.8-.78.8-2.07 0-2.86zM5.41 20L4 18.59l7.72-7.72 1.47 1.35L5.41 20z\"/>\n",
              "  </svg>\n",
              "      </button>\n",
              "      \n",
              "  <style>\n",
              "    .colab-df-container {\n",
              "      display:flex;\n",
              "      flex-wrap:wrap;\n",
              "      gap: 12px;\n",
              "    }\n",
              "\n",
              "    .colab-df-convert {\n",
              "      background-color: #E8F0FE;\n",
              "      border: none;\n",
              "      border-radius: 50%;\n",
              "      cursor: pointer;\n",
              "      display: none;\n",
              "      fill: #1967D2;\n",
              "      height: 32px;\n",
              "      padding: 0 0 0 0;\n",
              "      width: 32px;\n",
              "    }\n",
              "\n",
              "    .colab-df-convert:hover {\n",
              "      background-color: #E2EBFA;\n",
              "      box-shadow: 0px 1px 2px rgba(60, 64, 67, 0.3), 0px 1px 3px 1px rgba(60, 64, 67, 0.15);\n",
              "      fill: #174EA6;\n",
              "    }\n",
              "\n",
              "    [theme=dark] .colab-df-convert {\n",
              "      background-color: #3B4455;\n",
              "      fill: #D2E3FC;\n",
              "    }\n",
              "\n",
              "    [theme=dark] .colab-df-convert:hover {\n",
              "      background-color: #434B5C;\n",
              "      box-shadow: 0px 1px 3px 1px rgba(0, 0, 0, 0.15);\n",
              "      filter: drop-shadow(0px 1px 2px rgba(0, 0, 0, 0.3));\n",
              "      fill: #FFFFFF;\n",
              "    }\n",
              "  </style>\n",
              "\n",
              "      <script>\n",
              "        const buttonEl =\n",
              "          document.querySelector('#df-81c32e79-fbc2-419c-bc4b-7992bef6ac53 button.colab-df-convert');\n",
              "        buttonEl.style.display =\n",
              "          google.colab.kernel.accessAllowed ? 'block' : 'none';\n",
              "\n",
              "        async function convertToInteractive(key) {\n",
              "          const element = document.querySelector('#df-81c32e79-fbc2-419c-bc4b-7992bef6ac53');\n",
              "          const dataTable =\n",
              "            await google.colab.kernel.invokeFunction('convertToInteractive',\n",
              "                                                     [key], {});\n",
              "          if (!dataTable) return;\n",
              "\n",
              "          const docLinkHtml = 'Like what you see? Visit the ' +\n",
              "            '<a target=\"_blank\" href=https://colab.research.google.com/notebooks/data_table.ipynb>data table notebook</a>'\n",
              "            + ' to learn more about interactive tables.';\n",
              "          element.innerHTML = '';\n",
              "          dataTable['output_type'] = 'display_data';\n",
              "          await google.colab.output.renderOutput(dataTable, element);\n",
              "          const docLink = document.createElement('div');\n",
              "          docLink.innerHTML = docLinkHtml;\n",
              "          element.appendChild(docLink);\n",
              "        }\n",
              "      </script>\n",
              "    </div>\n",
              "  </div>\n",
              "  "
            ],
            "text/plain": [
              "                              Kernel Shape      Output Shape      Params  \\\n",
              "Layer                                                                      \n",
              "0_embedding.PermuteBlock_0               -   [256, 27, 1690]         NaN   \n",
              "1_embedding.Conv1d_1          [27, 128, 5]   [256, 128, 845]     17280.0   \n",
              "2_embedding.Dropout_2                    -   [256, 128, 845]         NaN   \n",
              "3_embedding.GELU_3                       -   [256, 128, 845]         NaN   \n",
              "4_embedding.BatchNorm1d_4            [128]   [256, 128, 845]       256.0   \n",
              "5_embedding.Conv1d_5         [128, 256, 3]   [256, 256, 423]     98304.0   \n",
              "6_embedding.Dropout_6                    -   [256, 256, 423]         NaN   \n",
              "7_embedding.GELU_7                       -   [256, 256, 423]         NaN   \n",
              "8_embedding.BatchNorm1d_8            [256]   [256, 256, 423]       512.0   \n",
              "9_embedding.PermuteBlock_9               -   [256, 423, 256]         NaN   \n",
              "10_lstm                                  -     [80671, 1024]  28352512.0   \n",
              "11_classification.Linear_0    [1024, 1024]  [256, 422, 1024]   1049600.0   \n",
              "12_classification.Dropout_1              -  [256, 422, 1024]         NaN   \n",
              "13_classification.Linear_2      [1024, 41]    [256, 422, 41]     42025.0   \n",
              "\n",
              "                              Mult-Adds  \n",
              "Layer                                    \n",
              "0_embedding.PermuteBlock_0          NaN  \n",
              "1_embedding.Conv1d_1         14601600.0  \n",
              "2_embedding.Dropout_2               NaN  \n",
              "3_embedding.GELU_3                  NaN  \n",
              "4_embedding.BatchNorm1d_4         128.0  \n",
              "5_embedding.Conv1d_5         41582592.0  \n",
              "6_embedding.Dropout_6               NaN  \n",
              "7_embedding.GELU_7                  NaN  \n",
              "8_embedding.BatchNorm1d_8         256.0  \n",
              "9_embedding.PermuteBlock_9          NaN  \n",
              "10_lstm                      28311552.0  \n",
              "11_classification.Linear_0    1048576.0  \n",
              "12_classification.Dropout_1         NaN  \n",
              "13_classification.Linear_2      41984.0  "
            ]
          },
          "execution_count": 17,
          "metadata": {},
          "output_type": "execute_result"
        }
      ],
      "source": [
        "torch.cuda.empty_cache()\n",
        "\n",
        "model = Network().to(device)\n",
        "summary(model, x.to(device), lx) # x and lx come from the sanity check above :)"
      ]
    },
    {
      "cell_type": "code",
      "execution_count": 18,
      "metadata": {
        "colab": {
          "base_uri": "https://localhost:8080/"
        },
        "id": "S0ql3YJDDJOW",
        "outputId": "b037eced-a670-48e5-8558-f2729f0756e0"
      },
      "outputs": [
        {
          "name": "stdout",
          "output_type": "stream",
          "text": [
            "Sat Apr  8 04:17:54 2023       \n",
            "+-----------------------------------------------------------------------------+\n",
            "| NVIDIA-SMI 525.85.12    Driver Version: 525.85.12    CUDA Version: 12.0     |\n",
            "|-------------------------------+----------------------+----------------------+\n",
            "| GPU  Name        Persistence-M| Bus-Id        Disp.A | Volatile Uncorr. ECC |\n",
            "| Fan  Temp  Perf  Pwr:Usage/Cap|         Memory-Usage | GPU-Util  Compute M. |\n",
            "|                               |                      |               MIG M. |\n",
            "|===============================+======================+======================|\n",
            "|   0  Tesla T4            Off  | 00000000:00:04.0 Off |                    0 |\n",
            "| N/A   39C    P0    25W /  70W |  13487MiB / 15360MiB |      0%      Default |\n",
            "|                               |                      |                  N/A |\n",
            "+-------------------------------+----------------------+----------------------+\n",
            "                                                                               \n",
            "+-----------------------------------------------------------------------------+\n",
            "| Processes:                                                                  |\n",
            "|  GPU   GI   CI        PID   Type   Process name                  GPU Memory |\n",
            "|        ID   ID                                                   Usage      |\n",
            "|=============================================================================|\n",
            "+-----------------------------------------------------------------------------+\n"
          ]
        }
      ],
      "source": [
        "!nvidia-smi"
      ]
    },
    {
      "cell_type": "code",
      "execution_count": 19,
      "metadata": {
        "id": "rWG6EOIsHyOY"
      },
      "outputs": [],
      "source": [
        "torch.cuda.empty_cache()"
      ]
    },
    {
      "cell_type": "code",
      "execution_count": 20,
      "metadata": {
        "colab": {
          "base_uri": "https://localhost:8080/"
        },
        "id": "DZV8lOeQ8A2n",
        "outputId": "6c395e94-3c20-4c32-cb89-a9592b565a1b"
      },
      "outputs": [
        {
          "name": "stdout",
          "output_type": "stream",
          "text": [
            "Sat Apr  8 04:17:55 2023       \n",
            "+-----------------------------------------------------------------------------+\n",
            "| NVIDIA-SMI 525.85.12    Driver Version: 525.85.12    CUDA Version: 12.0     |\n",
            "|-------------------------------+----------------------+----------------------+\n",
            "| GPU  Name        Persistence-M| Bus-Id        Disp.A | Volatile Uncorr. ECC |\n",
            "| Fan  Temp  Perf  Pwr:Usage/Cap|         Memory-Usage | GPU-Util  Compute M. |\n",
            "|                               |                      |               MIG M. |\n",
            "|===============================+======================+======================|\n",
            "|   0  Tesla T4            Off  | 00000000:00:04.0 Off |                    0 |\n",
            "| N/A   40C    P0    32W /  70W |   1289MiB / 15360MiB |      0%      Default |\n",
            "|                               |                      |                  N/A |\n",
            "+-------------------------------+----------------------+----------------------+\n",
            "                                                                               \n",
            "+-----------------------------------------------------------------------------+\n",
            "| Processes:                                                                  |\n",
            "|  GPU   GI   CI        PID   Type   Process name                  GPU Memory |\n",
            "|        ID   ID                                                   Usage      |\n",
            "|=============================================================================|\n",
            "+-----------------------------------------------------------------------------+\n"
          ]
        }
      ],
      "source": [
        "!nvidia-smi"
      ]
    },
    {
      "attachments": {},
      "cell_type": "markdown",
      "metadata": {
        "id": "IBwunYpyugFg"
      },
      "source": [
        "# Training Config"
      ]
    },
    {
      "cell_type": "code",
      "execution_count": 21,
      "metadata": {
        "id": "MN82c3KpLup8"
      },
      "outputs": [],
      "source": [
        "config = {\n",
        "    \"beam_width\" : 5,\n",
        "    \"lr\" : 2e-3,\n",
        "    \"epochs\" : 50\n",
        "    }"
      ]
    },
    {
      "cell_type": "code",
      "execution_count": 22,
      "metadata": {
        "colab": {
          "base_uri": "https://localhost:8080/"
        },
        "id": "iGoozH2nd6KB",
        "outputId": "1b5e6992-a0aa-4669-92a3-6b2da777e92e"
      },
      "outputs": [
        {
          "name": "stdout",
          "output_type": "stream",
          "text": [
            "Adjusting learning rate of group 0 to 2.0000e-03.\n"
          ]
        }
      ],
      "source": [
        "criterion = torch.nn.CTCLoss()\n",
        "# Define CTC loss as the criterion. How would the losses be reduced?\n",
        "# CTC Loss: https://pytorch.org/docs/stable/generated/torch.nn.CTCLoss.html\n",
        "# Refer to the handout for hints\n",
        "\n",
        "optimizer =  torch.optim.AdamW(model.parameters(), lr = config['lr'], weight_decay = config['lr']/100)\n",
        "\n",
        "# Declare the decoder. Use the CTC Beam Decoder to decode phonemes\n",
        "# CTC Beam Decoder Doc: https://github.com/parlance/ctcdecode\n",
        "decoder = CTCBeamDecoder(LABELS, beam_width = config['beam_width'], log_probs_input=True)\n",
        "\n",
        "scheduler = torch.optim.lr_scheduler.CosineAnnealingLR(optimizer, T_max = config['epochs'], eta_min = config['lr']/200, verbose=True)\n",
        "\n",
        "# Mixed Precision, if you need it\n",
        "scaler = torch.cuda.amp.GradScaler()"
      ]
    },
    {
      "attachments": {},
      "cell_type": "markdown",
      "metadata": {
        "id": "Jmc6_4eWL2Xp"
      },
      "source": [
        "## Decode Prediction"
      ]
    },
    {
      "cell_type": "code",
      "execution_count": 27,
      "metadata": {
        "id": "bVJkWRsb1qMp"
      },
      "outputs": [],
      "source": [
        "def decode_prediction(output, output_lens, decoder, PHONEME_MAP = LABELS):\n",
        "    \n",
        "    # TODO: look at docs for CTC.decoder and find out what is returned here. Check the shape of output and expected shape in decode.\n",
        "    beam_results, beam_scores, timesteps, out_seq_len = decoder.decode(output, seq_lens= output_lens) #lengths - list of lengths\n",
        "\n",
        "    pred_strings    = []\n",
        "    \n",
        "    for i in range(beam_results.shape[0]):\n",
        "        #TODO: Create the prediction from the output of decoder.decode. Don't forget to map it using PHONEMES_MAP.\n",
        "        beam_temp = beam_results[i,0,:out_seq_len[i,0]]\n",
        "        pred_str = \"\".join([PHONEME_MAP[i] for i in beam_temp])\n",
        "        pred_strings.append(pred_str)\n",
        "    \n",
        "    return pred_strings\n",
        "\n",
        "def calculate_levenshtein(output, label, output_lens, label_lens, decoder, PHONEME_MAP = LABELS): # y - sequence of integers\n",
        "    \n",
        "    dist            = 0\n",
        "    batch_size      = label.shape[0]\n",
        "\n",
        "    pred_strings    = decode_prediction(output, output_lens, decoder, PHONEME_MAP)\n",
        "    \n",
        "    for i in range(batch_size):\n",
        "        # TODO: Get predicted string and label string for each element in the batch\n",
        "        pred_str = pred_strings[i]\n",
        "        label_temp = label[i,0:label_lens[i]]\n",
        "        label_str = [PHONEME_MAP[k] for k in label_temp]\n",
        "        dist += Levenshtein.distance(pred_str, label_str)\n",
        "\n",
        "    dist /= batch_size # TODO: Uncomment this, but think about why we are doing this\n",
        "    # raise NotImplemented\n",
        "    return dist"
      ]
    },
    {
      "cell_type": "code",
      "execution_count": null,
      "metadata": {
        "colab": {
          "base_uri": "https://localhost:8080/"
        },
        "id": "GnTLL-5gMBrY",
        "outputId": "8bf5a945-a0ae-4ebb-bb5d-df2c1e1d50cd"
      },
      "outputs": [
        {
          "name": "stdout",
          "output_type": "stream",
          "text": [
            "torch.Size([256, 733, 41])\n",
            "torch.Size([733, 256, 41]) torch.Size([256, 265])\n",
            "tensor(7.0678, device='cuda:0', grad_fn=<MeanBackward0>)\n",
            "203.24609375\n"
          ]
        }
      ],
      "source": [
        "# test code to check shapes\n",
        "\n",
        "model.eval()\n",
        "for i, data in enumerate(val_loader, 0):\n",
        "    x, y, lx, ly = data\n",
        "    x, y = x.to(device), y.to(device)\n",
        "    h, lh = model(x, lx)\n",
        "    print(h.shape)\n",
        "    h = torch.permute(h, (1, 0, 2))\n",
        "    print(h.shape, y.shape)\n",
        "    loss = criterion(h, y, lh, ly)\n",
        "    print(loss)\n",
        "\n",
        "    h = torch.permute(h, (1, 0, 2))\n",
        "    print(calculate_levenshtein(h, y, lx, ly, decoder, LABELS))\n",
        "\n",
        "    break"
      ]
    },
    {
      "attachments": {},
      "cell_type": "markdown",
      "metadata": {
        "id": "rd5aNaLVoR_g"
      },
      "source": [
        "## wandb\n",
        "\n",
        "You will need to fetch your api key from wandb.ai"
      ]
    },
    {
      "cell_type": "code",
      "execution_count": 3,
      "metadata": {
        "colab": {
          "base_uri": "https://localhost:8080/"
        },
        "id": "PiDduMaDIARE",
        "outputId": "ec18adb2-fffd-4c4d-dba6-d8c6a44c72bf"
      },
      "outputs": [
        {
          "name": "stderr",
          "output_type": "stream",
          "text": [
            "\u001b[34m\u001b[1mwandb\u001b[0m: Currently logged in as: \u001b[33mlsethi\u001b[0m (\u001b[33mverydeeplearning\u001b[0m). Use \u001b[1m`wandb login --relogin`\u001b[0m to force relogin\n",
            "\u001b[34m\u001b[1mwandb\u001b[0m: \u001b[33mWARNING\u001b[0m If you're specifying your api key in code, ensure this code is not shared publicly.\n",
            "\u001b[34m\u001b[1mwandb\u001b[0m: \u001b[33mWARNING\u001b[0m Consider setting the WANDB_API_KEY environment variable, or running `wandb login` from the command line.\n",
            "\u001b[34m\u001b[1mwandb\u001b[0m: Appending key for api.wandb.ai to your netrc file: /root/.netrc\n"
          ]
        },
        {
          "data": {
            "text/plain": [
              "True"
            ]
          },
          "execution_count": 3,
          "metadata": {},
          "output_type": "execute_result"
        }
      ],
      "source": [
        "import wandb\n",
        "wandb.login(key=\"2a3537b39181a31bafb5eabede64d932c94e54e8\")"
      ]
    },
    {
      "cell_type": "code",
      "execution_count": null,
      "metadata": {
        "colab": {
          "base_uri": "https://localhost:8080/",
          "height": 104
        },
        "id": "4s52yBOvICPZ",
        "outputId": "eda15dec-3b9d-4304-973e-193a3166e7e9"
      },
      "outputs": [
        {
          "data": {
            "text/html": [
              "Tracking run with wandb version 0.14.1"
            ],
            "text/plain": [
              "<IPython.core.display.HTML object>"
            ]
          },
          "metadata": {},
          "output_type": "display_data"
        },
        {
          "data": {
            "text/html": [
              "Run data is saved locally in <code>/content/wandb/run-20230407_045134-kl8mif51</code>"
            ],
            "text/plain": [
              "<IPython.core.display.HTML object>"
            ]
          },
          "metadata": {},
          "output_type": "display_data"
        },
        {
          "data": {
            "text/html": [
              "Syncing run <strong><a href='https://wandb.ai/verydeeplearning/hw3p2-ablations/runs/kl8mif51' target=\"_blank\">RNN_HW3_v2</a></strong> to <a href='https://wandb.ai/verydeeplearning/hw3p2-ablations' target=\"_blank\">Weights & Biases</a> (<a href='https://wandb.me/run' target=\"_blank\">docs</a>)<br/>"
            ],
            "text/plain": [
              "<IPython.core.display.HTML object>"
            ]
          },
          "metadata": {},
          "output_type": "display_data"
        },
        {
          "data": {
            "text/html": [
              " View project at <a href='https://wandb.ai/verydeeplearning/hw3p2-ablations' target=\"_blank\">https://wandb.ai/verydeeplearning/hw3p2-ablations</a>"
            ],
            "text/plain": [
              "<IPython.core.display.HTML object>"
            ]
          },
          "metadata": {},
          "output_type": "display_data"
        },
        {
          "data": {
            "text/html": [
              " View run at <a href='https://wandb.ai/verydeeplearning/hw3p2-ablations/runs/kl8mif51' target=\"_blank\">https://wandb.ai/verydeeplearning/hw3p2-ablations/runs/kl8mif51</a>"
            ],
            "text/plain": [
              "<IPython.core.display.HTML object>"
            ]
          },
          "metadata": {},
          "output_type": "display_data"
        }
      ],
      "source": [
        "run = wandb.init(\n",
        "    name = \"RNN_HW3_v2\", ## Wandb creates random run names if you skip this field\n",
        "    reinit = True, ### Allows reinitalizing runs when you re-run this cell\n",
        "    # run_id = ### Insert specific run id here if you want to resume a previous run\n",
        "    # resume = \"must\" ### You need this to resume previous runs, but comment out reinit = True when using this\n",
        "    project = \"hw3p2-ablations\", ### Project should be created in your wandb account \n",
        "    config = config ### Wandb Config for your run\n",
        ")"
      ]
    },
    {
      "attachments": {},
      "cell_type": "markdown",
      "metadata": {
        "id": "6fLLj5KIMMOe"
      },
      "source": [
        "# Train Functions"
      ]
    },
    {
      "cell_type": "code",
      "execution_count": null,
      "metadata": {
        "id": "ri87MAdhMUz5"
      },
      "outputs": [],
      "source": [
        "from tqdm import tqdm\n",
        "\n",
        "def train_model(model, train_loader, criterion, optimizer):\n",
        "    \n",
        "    model.train()\n",
        "    batch_bar = tqdm(total=len(train_loader), dynamic_ncols=True, leave=False, position=0, desc='Train') \n",
        "\n",
        "    total_loss = 0\n",
        "\n",
        "    for i, data in enumerate(train_loader):\n",
        "        optimizer.zero_grad()\n",
        "\n",
        "        x, y, lx, ly = data\n",
        "        x, y = x.to(device), y.to(device)\n",
        "\n",
        "        with torch.cuda.amp.autocast():     \n",
        "            h, lh = model(x, lx)\n",
        "            h = torch.permute(h, (1, 0, 2))\n",
        "            loss = criterion(h, y, lh, ly)\n",
        "\n",
        "        total_loss += loss.item()\n",
        "\n",
        "        batch_bar.set_postfix(\n",
        "            loss=\"{:.04f}\".format(float(total_loss / (i + 1))),\n",
        "            lr=\"{:.06f}\".format(float(optimizer.param_groups[0]['lr'])))\n",
        "\n",
        "        batch_bar.update() # Update tqdm bar\n",
        "\n",
        "        # Another couple things you need for FP16. \n",
        "        scaler.scale(loss).backward() # This is a replacement for loss.backward()\n",
        "        scaler.step(optimizer) # This is a replacement for optimizer.step()\n",
        "        scaler.update() # This is something added just for FP16\n",
        "\n",
        "        del x, y, lx, ly, h, lh, loss \n",
        "        torch.cuda.empty_cache()\n",
        "\n",
        "    batch_bar.close() # You need this to close the tqdm bar\n",
        "    \n",
        "    return total_loss / len(train_loader)\n",
        "\n",
        "\n",
        "def validate_model(model, val_loader, decoder, phoneme_map= LABELS):\n",
        "\n",
        "    model.eval()\n",
        "    batch_bar = tqdm(total=len(val_loader), dynamic_ncols=True, position=0, leave=False, desc='Val')\n",
        "\n",
        "    total_loss = 0\n",
        "    vdist = 0\n",
        "\n",
        "    for i, data in enumerate(val_loader):\n",
        "\n",
        "        x, y, lx, ly = data\n",
        "        x, y = x.to(device), y.to(device)\n",
        "\n",
        "        with torch.inference_mode():\n",
        "            h, lh = model(x, lx)\n",
        "            h = torch.permute(h, (1, 0, 2))\n",
        "            loss = criterion(h, y, lh, ly)\n",
        "\n",
        "        total_loss += float(loss)\n",
        "        vdist += calculate_levenshtein(torch.permute(h, (1, 0, 2)), y, lh, ly, decoder, phoneme_map)\n",
        "\n",
        "        batch_bar.set_postfix(loss=\"{:.04f}\".format(float(total_loss / (i + 1))), dist=\"{:.04f}\".format(float(vdist / (i + 1))))\n",
        "\n",
        "        batch_bar.update()\n",
        "    \n",
        "        del x, y, lx, ly, h, lh, loss\n",
        "        torch.cuda.empty_cache()\n",
        "        \n",
        "    batch_bar.close()\n",
        "    total_loss = total_loss/len(val_loader)\n",
        "    val_dist = vdist/len(val_loader)\n",
        "    return total_loss, val_dist"
      ]
    },
    {
      "cell_type": "code",
      "execution_count": null,
      "metadata": {
        "colab": {
          "base_uri": "https://localhost:8080/"
        },
        "id": "LGrEFE38MUz5",
        "outputId": "b5b2d1a3-e41e-4400-a1e5-459ec122f9f6"
      },
      "outputs": [
        {
          "name": "stdout",
          "output_type": "stream",
          "text": [
            "torch.Size([256, 733, 41])\n",
            "torch.Size([733, 256, 41]) torch.Size([256, 265])\n",
            "tensor(7.0678, device='cuda:0', grad_fn=<MeanBackward0>)\n",
            "203.24609375\n"
          ]
        }
      ],
      "source": [
        "# test code to check shapes\n",
        "\n",
        "model.eval()\n",
        "for i, data in enumerate(val_loader, 0):\n",
        "    x, y, lx, ly = data\n",
        "    x, y = x.to(device), y.to(device)\n",
        "    h, lh = model(x, lx)\n",
        "    print(h.shape)\n",
        "    h = torch.permute(h, (1, 0, 2))\n",
        "    print(h.shape, y.shape)\n",
        "    loss = criterion(h, y, lh, ly)\n",
        "    print(loss)\n",
        "\n",
        "    h = torch.permute(h, (1, 0, 2))\n",
        "    print(calculate_levenshtein(h, y, lx, ly, decoder, LABELS))\n",
        "\n",
        "    break"
      ]
    },
    {
      "attachments": {},
      "cell_type": "markdown",
      "metadata": {
        "id": "qpYExu4vT4_g"
      },
      "source": [
        "### Training Setup"
      ]
    },
    {
      "cell_type": "code",
      "execution_count": null,
      "metadata": {
        "id": "husa5_EYMUz6"
      },
      "outputs": [],
      "source": [
        "def save_model(model, optimizer, scheduler, metric, epoch, path):\n",
        "    torch.save(\n",
        "        {'model_state_dict'         : model.state_dict(),\n",
        "         'optimizer_state_dict'     : optimizer.state_dict(),\n",
        "         'scheduler_state_dict'     : scheduler.state_dict(),\n",
        "         metric[0]                  : metric[1], \n",
        "         'epoch'                    : epoch}, \n",
        "         path\n",
        "    )\n",
        "\n",
        "def load_model(path, model, metric= 'valid_acc', optimizer= None, scheduler= None):\n",
        "\n",
        "    checkpoint = torch.load(path)\n",
        "    model.load_state_dict(checkpoint['model_state_dict'])\n",
        "\n",
        "    if optimizer != None:\n",
        "        optimizer.load_state_dict(checkpoint['optimizer_state_dict'])\n",
        "    if scheduler != None:\n",
        "        scheduler.load_state_dict(checkpoint['scheduler_state_dict'])\n",
        "        \n",
        "    epoch   = checkpoint['epoch']\n",
        "    metric  = checkpoint[metric]\n",
        "\n",
        "    return [model, optimizer, scheduler, epoch, metric]"
      ]
    },
    {
      "cell_type": "code",
      "execution_count": null,
      "metadata": {
        "id": "tExvyl1BIdMC"
      },
      "outputs": [],
      "source": [
        "# This is for checkpointing, if you're doing it over multiple sessions\n",
        "\n",
        "last_epoch_completed = 0\n",
        "start = last_epoch_completed\n",
        "end = config[\"epochs\"]\n",
        "best_lev_dist = float(\"inf\") # if you're restarting from some checkpoint, use what you saw there.\n",
        "epoch_model_path = 'Epoch_checkpoint_v2.pth'\n",
        "best_model_path = 'Best_checkpoint_v2.pth'"
      ]
    },
    {
      "cell_type": "code",
      "execution_count": null,
      "metadata": {
        "colab": {
          "base_uri": "https://localhost:8080/"
        },
        "id": "JR43E28rM9Ak",
        "outputId": "c9e23fa2-a103-4982-8536-997fcd294de7"
      },
      "outputs": [
        {
          "name": "stdout",
          "output_type": "stream",
          "text": [
            "\n",
            "Epoch: 1/50\n",
            "Current Learning rate:  0.002\n"
          ]
        },
        {
          "name": "stderr",
          "output_type": "stream",
          "text": []
        },
        {
          "name": "stdout",
          "output_type": "stream",
          "text": [
            "Adjusting learning rate of group 0 to 1.9980e-03.\n",
            "\tTrain Loss 1.9066\t Learning Rate 0.0020000\n",
            "\tVal Dist 12.0849%\t Val Loss 0.5505\n",
            "Saved epoch model\n",
            "Saved best model\n",
            "\n",
            "Epoch: 2/50\n",
            "Current Learning rate:  0.0019980365947861304\n"
          ]
        },
        {
          "name": "stderr",
          "output_type": "stream",
          "text": []
        },
        {
          "name": "stdout",
          "output_type": "stream",
          "text": [
            "Adjusting learning rate of group 0 to 1.9922e-03.\n",
            "\tTrain Loss 0.4987\t Learning Rate 0.0019980\n",
            "\tVal Dist 7.3251%\t Val Loss 0.3411\n",
            "Saved epoch model\n",
            "Saved best model\n",
            "\n",
            "Epoch: 3/50\n",
            "Current Learning rate:  0.0019921541278079056\n"
          ]
        },
        {
          "name": "stderr",
          "output_type": "stream",
          "text": []
        },
        {
          "name": "stdout",
          "output_type": "stream",
          "text": [
            "Adjusting learning rate of group 0 to 1.9824e-03.\n",
            "\tTrain Loss 0.3531\t Learning Rate 0.0019922\n",
            "\tVal Dist 5.7559%\t Val Loss 0.2741\n",
            "Saved epoch model\n",
            "Saved best model\n",
            "\n",
            "Epoch: 4/50\n",
            "Current Learning rate:  0.0019823758144750453\n"
          ]
        },
        {
          "name": "stderr",
          "output_type": "stream",
          "text": []
        },
        {
          "name": "stdout",
          "output_type": "stream",
          "text": [
            "Adjusting learning rate of group 0 to 1.9687e-03.\n",
            "\tTrain Loss 0.2891\t Learning Rate 0.0019824\n",
            "\tVal Dist 4.9441%\t Val Loss 0.2361\n",
            "Saved epoch model\n",
            "Saved best model\n",
            "\n",
            "Epoch: 5/50\n",
            "Current Learning rate:  0.0019687402453229877\n"
          ]
        },
        {
          "name": "stderr",
          "output_type": "stream",
          "text": []
        },
        {
          "name": "stdout",
          "output_type": "stream",
          "text": [
            "Adjusting learning rate of group 0 to 1.9513e-03.\n",
            "\tTrain Loss 0.2490\t Learning Rate 0.0019687\n",
            "\tVal Dist 4.4423%\t Val Loss 0.2135\n",
            "Saved epoch model\n",
            "Saved best model\n",
            "\n",
            "Epoch: 6/50\n",
            "Current Learning rate:  0.0019513012337136777\n"
          ]
        },
        {
          "name": "stderr",
          "output_type": "stream",
          "text": []
        },
        {
          "name": "stdout",
          "output_type": "stream",
          "text": [
            "Adjusting learning rate of group 0 to 1.9301e-03.\n",
            "\tTrain Loss 0.2213\t Learning Rate 0.0019513\n",
            "\tVal Dist 4.1488%\t Val Loss 0.2007\n",
            "Saved epoch model\n",
            "Saved best model\n",
            "\n",
            "Epoch: 7/50\n",
            "Current Learning rate:  0.0019301276034588098\n"
          ]
        },
        {
          "name": "stderr",
          "output_type": "stream",
          "text": []
        },
        {
          "name": "stdout",
          "output_type": "stream",
          "text": [
            "Adjusting learning rate of group 0 to 1.9053e-03.\n",
            "\tTrain Loss 0.2002\t Learning Rate 0.0019301\n",
            "\tVal Dist 3.9309%\t Val Loss 0.1923\n",
            "Saved epoch model\n",
            "Saved best model\n",
            "\n",
            "Epoch: 8/50\n",
            "Current Learning rate:  0.0019053029172036893\n"
          ]
        },
        {
          "name": "stderr",
          "output_type": "stream",
          "text": []
        },
        {
          "name": "stdout",
          "output_type": "stream",
          "text": [
            "Adjusting learning rate of group 0 to 1.8769e-03.\n",
            "\tTrain Loss 0.1853\t Learning Rate 0.0019053\n",
            "\tVal Dist 3.7496%\t Val Loss 0.1851\n",
            "Saved epoch model\n",
            "Saved best model\n",
            "\n",
            "Epoch: 9/50\n",
            "Current Learning rate:  0.0018769251466436438\n"
          ]
        },
        {
          "name": "stderr",
          "output_type": "stream",
          "text": []
        },
        {
          "name": "stdout",
          "output_type": "stream",
          "text": [
            "Adjusting learning rate of group 0 to 1.8451e-03.\n",
            "\tTrain Loss 0.1705\t Learning Rate 0.0018769\n",
            "\tVal Dist 3.6216%\t Val Loss 0.1820\n",
            "Saved epoch model\n",
            "Saved best model\n",
            "\n",
            "Epoch: 10/50\n",
            "Current Learning rate:  0.0018451062858745046\n"
          ]
        },
        {
          "name": "stderr",
          "output_type": "stream",
          "text": []
        },
        {
          "name": "stdout",
          "output_type": "stream",
          "text": [
            "Adjusting learning rate of group 0 to 1.8100e-03.\n",
            "\tTrain Loss 0.1589\t Learning Rate 0.0018451\n",
            "\tVal Dist 3.4882%\t Val Loss 0.1763\n",
            "Saved epoch model\n",
            "Saved best model\n",
            "\n",
            "Epoch: 11/50\n",
            "Current Learning rate:  0.0018099719094030722\n"
          ]
        },
        {
          "name": "stderr",
          "output_type": "stream",
          "text": []
        },
        {
          "name": "stdout",
          "output_type": "stream",
          "text": [
            "Adjusting learning rate of group 0 to 1.7717e-03.\n",
            "\tTrain Loss 0.1487\t Learning Rate 0.0018100\n",
            "\tVal Dist 3.3298%\t Val Loss 0.1689\n",
            "Saved epoch model\n",
            "Saved best model\n",
            "\n",
            "Epoch: 12/50\n",
            "Current Learning rate:  0.0017716606765619098\n"
          ]
        },
        {
          "name": "stderr",
          "output_type": "stream",
          "text": []
        },
        {
          "name": "stdout",
          "output_type": "stream",
          "text": [
            "Adjusting learning rate of group 0 to 1.7303e-03.\n",
            "\tTrain Loss 0.1402\t Learning Rate 0.0017717\n",
            "\tVal Dist 3.2937%\t Val Loss 0.1687\n",
            "Saved epoch model\n",
            "Saved best model\n",
            "\n",
            "Epoch: 13/50\n",
            "Current Learning rate:  0.001730323784284304\n"
          ]
        },
        {
          "name": "stderr",
          "output_type": "stream",
          "text": []
        },
        {
          "name": "stdout",
          "output_type": "stream",
          "text": [
            "Adjusting learning rate of group 0 to 1.6861e-03.\n",
            "\tTrain Loss 0.1316\t Learning Rate 0.0017303\n",
            "\tVal Dist 3.2228%\t Val Loss 0.1666\n",
            "Saved epoch model\n",
            "Saved best model\n",
            "\n",
            "Epoch: 14/50\n",
            "Current Learning rate:  0.0016861243703990448\n"
          ]
        },
        {
          "name": "stderr",
          "output_type": "stream",
          "text": []
        },
        {
          "name": "stdout",
          "output_type": "stream",
          "text": [
            "Adjusting learning rate of group 0 to 1.6392e-03.\n",
            "\tTrain Loss 0.1239\t Learning Rate 0.0016861\n",
            "\tVal Dist 3.0918%\t Val Loss 0.1628\n",
            "Saved epoch model\n",
            "Saved best model\n",
            "\n",
            "Epoch: 15/50\n",
            "Current Learning rate:  0.0016392368697999457\n"
          ]
        },
        {
          "name": "stderr",
          "output_type": "stream",
          "text": []
        },
        {
          "name": "stdout",
          "output_type": "stream",
          "text": [
            "Adjusting learning rate of group 0 to 1.5898e-03.\n",
            "\tTrain Loss 0.1158\t Learning Rate 0.0016392\n",
            "\tVal Dist 3.1115%\t Val Loss 0.1627\n",
            "Saved epoch model\n",
            "\n",
            "Epoch: 16/50\n",
            "Current Learning rate:  0.0015898463260310106\n"
          ]
        },
        {
          "name": "stderr",
          "output_type": "stream",
          "text": []
        },
        {
          "name": "stdout",
          "output_type": "stream",
          "text": [
            "Adjusting learning rate of group 0 to 1.5381e-03.\n",
            "\tTrain Loss 0.1099\t Learning Rate 0.0015898\n",
            "\tVal Dist 3.0440%\t Val Loss 0.1613\n",
            "Saved epoch model\n",
            "Saved best model\n",
            "\n",
            "Epoch: 17/50\n",
            "Current Learning rate:  0.0015381476610041012\n"
          ]
        },
        {
          "name": "stderr",
          "output_type": "stream",
          "text": []
        },
        {
          "name": "stdout",
          "output_type": "stream",
          "text": [
            "Adjusting learning rate of group 0 to 1.4843e-03.\n",
            "\tTrain Loss 0.1038\t Learning Rate 0.0015381\n",
            "\tVal Dist 2.9824%\t Val Loss 0.1582\n",
            "Saved epoch model\n",
            "Saved best model\n",
            "\n",
            "Epoch: 18/50\n",
            "Current Learning rate:  0.0014843449057312063\n"
          ]
        },
        {
          "name": "stderr",
          "output_type": "stream",
          "text": []
        },
        {
          "name": "stdout",
          "output_type": "stream",
          "text": [
            "Adjusting learning rate of group 0 to 1.4287e-03.\n",
            "\tTrain Loss 0.0982\t Learning Rate 0.0014843\n",
            "\tVal Dist 2.9254%\t Val Loss 0.1589\n",
            "Saved epoch model\n",
            "Saved best model\n",
            "\n",
            "Epoch: 19/50\n",
            "Current Learning rate:  0.001428650395107247\n"
          ]
        },
        {
          "name": "stderr",
          "output_type": "stream",
          "text": []
        },
        {
          "name": "stdout",
          "output_type": "stream",
          "text": [
            "Adjusting learning rate of group 0 to 1.3713e-03.\n",
            "\tTrain Loss 0.0922\t Learning Rate 0.0014287\n",
            "\tVal Dist 2.9179%\t Val Loss 0.1589\n",
            "Saved epoch model\n",
            "Saved best model\n",
            "\n",
            "Epoch: 20/50\n",
            "Current Learning rate:  0.0013712839299212542\n"
          ]
        },
        {
          "name": "stderr",
          "output_type": "stream",
          "text": []
        },
        {
          "name": "stdout",
          "output_type": "stream",
          "text": [
            "Adjusting learning rate of group 0 to 1.3125e-03.\n",
            "\tTrain Loss 0.0869\t Learning Rate 0.0013713\n",
            "\tVal Dist 2.9116%\t Val Loss 0.1586\n",
            "Saved epoch model\n",
            "Saved best model\n",
            "\n",
            "Epoch: 21/50\n",
            "Current Learning rate:  0.0013124719094030721\n"
          ]
        },
        {
          "name": "stderr",
          "output_type": "stream",
          "text": []
        },
        {
          "name": "stdout",
          "output_type": "stream",
          "text": [
            "Adjusting learning rate of group 0 to 1.2524e-03.\n",
            "\tTrain Loss 0.0818\t Learning Rate 0.0013125\n",
            "\tVal Dist 2.8239%\t Val Loss 0.1573\n",
            "Saved epoch model\n",
            "Saved best model\n",
            "\n",
            "Epoch: 22/50\n",
            "Current Learning rate:  0.0012524464377290298\n"
          ]
        },
        {
          "name": "stderr",
          "output_type": "stream",
          "text": []
        },
        {
          "name": "stdout",
          "output_type": "stream",
          "text": [
            "Adjusting learning rate of group 0 to 1.1914e-03.\n",
            "\tTrain Loss 0.0769\t Learning Rate 0.0012524\n",
            "\tVal Dist 2.8066%\t Val Loss 0.1609\n",
            "Saved epoch model\n",
            "Saved best model\n",
            "\n",
            "Epoch: 23/50\n",
            "Current Learning rate:  0.0011914444080127957\n"
          ]
        },
        {
          "name": "stderr",
          "output_type": "stream",
          "text": []
        },
        {
          "name": "stdout",
          "output_type": "stream",
          "text": [
            "Adjusting learning rate of group 0 to 1.1297e-03.\n",
            "\tTrain Loss 0.0730\t Learning Rate 0.0011914\n",
            "\tVal Dist 2.7837%\t Val Loss 0.1586\n",
            "Saved epoch model\n",
            "Saved best model\n",
            "\n",
            "Epoch: 24/50\n",
            "Current Learning rate:  0.0011297065673964825\n"
          ]
        },
        {
          "name": "stderr",
          "output_type": "stream",
          "text": []
        },
        {
          "name": "stdout",
          "output_type": "stream",
          "text": [
            "Adjusting learning rate of group 0 to 1.0675e-03.\n",
            "\tTrain Loss 0.0686\t Learning Rate 0.0011297\n",
            "\tVal Dist 2.7432%\t Val Loss 0.1588\n",
            "Saved epoch model\n",
            "Saved best model\n",
            "\n",
            "Epoch: 25/50\n",
            "Current Learning rate:  0.0010674765669316665\n"
          ]
        },
        {
          "name": "stderr",
          "output_type": "stream",
          "text": []
        },
        {
          "name": "stdout",
          "output_type": "stream",
          "text": [
            "Adjusting learning rate of group 0 to 1.0050e-03.\n",
            "\tTrain Loss 0.0642\t Learning Rate 0.0010675\n",
            "\tVal Dist 2.6983%\t Val Loss 0.1601\n",
            "Saved epoch model\n",
            "Saved best model\n",
            "\n",
            "Epoch: 26/50\n",
            "Current Learning rate:  0.0010049999999999996\n"
          ]
        },
        {
          "name": "stderr",
          "output_type": "stream",
          "text": []
        },
        {
          "name": "stdout",
          "output_type": "stream",
          "text": [
            "Adjusting learning rate of group 0 to 9.4252e-04.\n",
            "\tTrain Loss 0.0602\t Learning Rate 0.0010050\n",
            "\tVal Dist 2.7284%\t Val Loss 0.1635\n",
            "Saved epoch model\n",
            "\n",
            "Epoch: 27/50\n",
            "Current Learning rate:  0.0009425234330683328\n"
          ]
        },
        {
          "name": "stderr",
          "output_type": "stream",
          "text": []
        },
        {
          "name": "stdout",
          "output_type": "stream",
          "text": [
            "Adjusting learning rate of group 0 to 8.8029e-04.\n",
            "\tTrain Loss 0.0567\t Learning Rate 0.0009425\n",
            "\tVal Dist 2.6527%\t Val Loss 0.1634\n",
            "Saved epoch model\n",
            "Saved best model\n",
            "\n",
            "Epoch: 28/50\n",
            "Current Learning rate:  0.000880293432603517\n"
          ]
        },
        {
          "name": "stderr",
          "output_type": "stream",
          "text": []
        },
        {
          "name": "stdout",
          "output_type": "stream",
          "text": [
            "Adjusting learning rate of group 0 to 8.1856e-04.\n",
            "\tTrain Loss 0.0527\t Learning Rate 0.0008803\n",
            "\tVal Dist 2.6569%\t Val Loss 0.1650\n",
            "Saved epoch model\n",
            "\n",
            "Epoch: 29/50\n",
            "Current Learning rate:  0.0008185555919872037\n"
          ]
        },
        {
          "name": "stderr",
          "output_type": "stream",
          "text": []
        },
        {
          "name": "stdout",
          "output_type": "stream",
          "text": [
            "Adjusting learning rate of group 0 to 7.5755e-04.\n",
            "\tTrain Loss 0.0495\t Learning Rate 0.0008186\n",
            "\tVal Dist 2.6686%\t Val Loss 0.1674\n",
            "Saved epoch model\n",
            "\n",
            "Epoch: 30/50\n",
            "Current Learning rate:  0.0007575535622709692\n"
          ]
        },
        {
          "name": "stderr",
          "output_type": "stream",
          "text": []
        },
        {
          "name": "stdout",
          "output_type": "stream",
          "text": [
            "Adjusting learning rate of group 0 to 6.9753e-04.\n",
            "\tTrain Loss 0.0464\t Learning Rate 0.0007576\n",
            "\tVal Dist 2.6469%\t Val Loss 0.1683\n",
            "Saved epoch model\n",
            "Saved best model\n",
            "\n",
            "Epoch: 31/50\n",
            "Current Learning rate:  0.0006975280905969274\n"
          ]
        },
        {
          "name": "stderr",
          "output_type": "stream",
          "text": []
        },
        {
          "name": "stdout",
          "output_type": "stream",
          "text": [
            "Adjusting learning rate of group 0 to 6.3872e-04.\n",
            "\tTrain Loss 0.0437\t Learning Rate 0.0006975\n",
            "\tVal Dist 2.6136%\t Val Loss 0.1682\n",
            "Saved epoch model\n",
            "Saved best model\n",
            "\n",
            "Epoch: 32/50\n",
            "Current Learning rate:  0.0006387160700787455\n"
          ]
        },
        {
          "name": "stderr",
          "output_type": "stream",
          "text": []
        },
        {
          "name": "stdout",
          "output_type": "stream",
          "text": [
            "Adjusting learning rate of group 0 to 5.8135e-04.\n",
            "\tTrain Loss 0.0405\t Learning Rate 0.0006387\n",
            "\tVal Dist 2.6026%\t Val Loss 0.1707\n",
            "Saved epoch model\n",
            "Saved best model\n",
            "\n",
            "Epoch: 33/50\n",
            "Current Learning rate:  0.0005813496048927525\n"
          ]
        },
        {
          "name": "stderr",
          "output_type": "stream",
          "text": []
        },
        {
          "name": "stdout",
          "output_type": "stream",
          "text": [
            "Adjusting learning rate of group 0 to 5.2566e-04.\n",
            "\tTrain Loss 0.0381\t Learning Rate 0.0005813\n",
            "\tVal Dist 2.5877%\t Val Loss 0.1736\n",
            "Saved epoch model\n",
            "Saved best model\n",
            "\n",
            "Epoch: 34/50\n",
            "Current Learning rate:  0.000525655094268793\n"
          ]
        },
        {
          "name": "stderr",
          "output_type": "stream",
          "text": []
        },
        {
          "name": "stdout",
          "output_type": "stream",
          "text": [
            "Adjusting learning rate of group 0 to 4.7185e-04.\n",
            "\tTrain Loss 0.0354\t Learning Rate 0.0005257\n",
            "\tVal Dist 2.5828%\t Val Loss 0.1747\n",
            "Saved epoch model\n",
            "Saved best model\n",
            "\n",
            "Epoch: 35/50\n",
            "Current Learning rate:  0.0004718523389958979\n"
          ]
        },
        {
          "name": "stderr",
          "output_type": "stream",
          "text": []
        },
        {
          "name": "stdout",
          "output_type": "stream",
          "text": [
            "Adjusting learning rate of group 0 to 4.2015e-04.\n",
            "\tTrain Loss 0.0330\t Learning Rate 0.0004719\n",
            "\tVal Dist 2.5667%\t Val Loss 0.1760\n",
            "Saved epoch model\n",
            "Saved best model\n",
            "\n",
            "Epoch: 36/50\n",
            "Current Learning rate:  0.0004201536739689891\n"
          ]
        },
        {
          "name": "stderr",
          "output_type": "stream",
          "text": []
        },
        {
          "name": "stdout",
          "output_type": "stream",
          "text": [
            "Adjusting learning rate of group 0 to 3.7076e-04.\n",
            "\tTrain Loss 0.0311\t Learning Rate 0.0004202\n",
            "\tVal Dist 2.5360%\t Val Loss 0.1799\n",
            "Saved epoch model\n",
            "Saved best model\n",
            "\n",
            "Epoch: 37/50\n",
            "Current Learning rate:  0.0003707631302000535\n"
          ]
        },
        {
          "name": "stderr",
          "output_type": "stream",
          "text": []
        },
        {
          "name": "stdout",
          "output_type": "stream",
          "text": [
            "Adjusting learning rate of group 0 to 3.2388e-04.\n",
            "\tTrain Loss 0.0293\t Learning Rate 0.0003708\n",
            "\tVal Dist 2.5505%\t Val Loss 0.1805\n",
            "Saved epoch model\n",
            "\n",
            "Epoch: 38/50\n",
            "Current Learning rate:  0.00032387562960095454\n"
          ]
        },
        {
          "name": "stderr",
          "output_type": "stream",
          "text": []
        },
        {
          "name": "stdout",
          "output_type": "stream",
          "text": [
            "Adjusting learning rate of group 0 to 2.7968e-04.\n",
            "\tTrain Loss 0.0276\t Learning Rate 0.0003239\n",
            "\tVal Dist 2.5381%\t Val Loss 0.1831\n",
            "Saved epoch model\n",
            "\n",
            "Epoch: 39/50\n",
            "Current Learning rate:  0.0002796762157156956\n"
          ]
        },
        {
          "name": "stderr",
          "output_type": "stream",
          "text": []
        },
        {
          "name": "stdout",
          "output_type": "stream",
          "text": [
            "Adjusting learning rate of group 0 to 2.3834e-04.\n",
            "\tTrain Loss 0.0258\t Learning Rate 0.0002797\n",
            "\tVal Dist 2.5268%\t Val Loss 0.1868\n",
            "Saved epoch model\n",
            "Saved best model\n",
            "\n",
            "Epoch: 40/50\n",
            "Current Learning rate:  0.00023833932343808966\n"
          ]
        },
        {
          "name": "stderr",
          "output_type": "stream",
          "text": []
        },
        {
          "name": "stdout",
          "output_type": "stream",
          "text": [
            "Adjusting learning rate of group 0 to 2.0003e-04.\n",
            "\tTrain Loss 0.0244\t Learning Rate 0.0002383\n",
            "\tVal Dist 2.4986%\t Val Loss 0.1882\n",
            "Saved epoch model\n",
            "Saved best model\n",
            "\n",
            "Epoch: 41/50\n",
            "Current Learning rate:  0.00020002809059692728\n"
          ]
        },
        {
          "name": "stderr",
          "output_type": "stream",
          "text": []
        },
        {
          "name": "stdout",
          "output_type": "stream",
          "text": [
            "Adjusting learning rate of group 0 to 1.6489e-04.\n",
            "\tTrain Loss 0.0231\t Learning Rate 0.0002000\n",
            "\tVal Dist 2.4964%\t Val Loss 0.1899\n",
            "Saved epoch model\n",
            "Saved best model\n",
            "\n",
            "Epoch: 42/50\n",
            "Current Learning rate:  0.00016489371412549514\n"
          ]
        },
        {
          "name": "stderr",
          "output_type": "stream",
          "text": []
        },
        {
          "name": "stdout",
          "output_type": "stream",
          "text": [
            "Adjusting learning rate of group 0 to 1.3307e-04.\n",
            "\tTrain Loss 0.0220\t Learning Rate 0.0001649\n",
            "\tVal Dist 2.5093%\t Val Loss 0.1913\n",
            "Saved epoch model\n",
            "\n",
            "Epoch: 43/50\n",
            "Current Learning rate:  0.00013307485335635567\n"
          ]
        },
        {
          "name": "stderr",
          "output_type": "stream",
          "text": []
        },
        {
          "name": "stdout",
          "output_type": "stream",
          "text": [
            "Adjusting learning rate of group 0 to 1.0470e-04.\n",
            "\tTrain Loss 0.0211\t Learning Rate 0.0001331\n",
            "\tVal Dist 2.4886%\t Val Loss 0.1928\n",
            "Saved epoch model\n",
            "Saved best model\n",
            "\n",
            "Epoch: 44/50\n",
            "Current Learning rate:  0.00010469708279631069\n"
          ]
        },
        {
          "name": "stderr",
          "output_type": "stream",
          "text": []
        },
        {
          "name": "stdout",
          "output_type": "stream",
          "text": [
            "Adjusting learning rate of group 0 to 7.9872e-05.\n",
            "\tTrain Loss 0.0203\t Learning Rate 0.0001047\n",
            "\tVal Dist 2.4909%\t Val Loss 0.1951\n",
            "Saved epoch model\n",
            "\n",
            "Epoch: 45/50\n",
            "Current Learning rate:  7.987239654118987e-05\n"
          ]
        },
        {
          "name": "stderr",
          "output_type": "stream",
          "text": []
        },
        {
          "name": "stdout",
          "output_type": "stream",
          "text": [
            "Adjusting learning rate of group 0 to 5.8699e-05.\n",
            "\tTrain Loss 0.0197\t Learning Rate 0.0000799\n",
            "\tVal Dist 2.4847%\t Val Loss 0.1952\n",
            "Saved epoch model\n",
            "Saved best model\n",
            "\n",
            "Epoch: 46/50\n",
            "Current Learning rate:  5.86987662863222e-05\n"
          ]
        },
        {
          "name": "stderr",
          "output_type": "stream",
          "text": []
        },
        {
          "name": "stdout",
          "output_type": "stream",
          "text": [
            "Adjusting learning rate of group 0 to 4.1260e-05.\n",
            "\tTrain Loss 0.0191\t Learning Rate 0.0000587\n",
            "\tVal Dist 2.4809%\t Val Loss 0.1966\n",
            "Saved epoch model\n",
            "Saved best model\n",
            "\n",
            "Epoch: 47/50\n",
            "Current Learning rate:  4.1259754677012166e-05\n"
          ]
        },
        {
          "name": "stderr",
          "output_type": "stream",
          "text": []
        },
        {
          "name": "stdout",
          "output_type": "stream",
          "text": [
            "Adjusting learning rate of group 0 to 2.7624e-05.\n",
            "\tTrain Loss 0.0186\t Learning Rate 0.0000413\n",
            "\tVal Dist 2.4691%\t Val Loss 0.1966\n",
            "Saved epoch model\n",
            "Saved best model\n",
            "\n",
            "Epoch: 48/50\n",
            "Current Learning rate:  2.762418552495471e-05\n"
          ]
        },
        {
          "name": "stderr",
          "output_type": "stream",
          "text": []
        },
        {
          "name": "stdout",
          "output_type": "stream",
          "text": [
            "Adjusting learning rate of group 0 to 1.7846e-05.\n",
            "\tTrain Loss 0.0184\t Learning Rate 0.0000276\n",
            "\tVal Dist 2.4705%\t Val Loss 0.1971\n",
            "Saved epoch model\n",
            "\n",
            "Epoch: 49/50\n",
            "Current Learning rate:  1.784587219209462e-05\n"
          ]
        },
        {
          "name": "stderr",
          "output_type": "stream",
          "text": []
        },
        {
          "name": "stdout",
          "output_type": "stream",
          "text": [
            "Adjusting learning rate of group 0 to 1.1963e-05.\n",
            "\tTrain Loss 0.0181\t Learning Rate 0.0000178\n",
            "\tVal Dist 2.4592%\t Val Loss 0.1977\n",
            "Saved epoch model\n",
            "Saved best model\n",
            "\n",
            "Epoch: 50/50\n",
            "Current Learning rate:  1.1963405213869798e-05\n"
          ]
        },
        {
          "name": "stderr",
          "output_type": "stream",
          "text": []
        },
        {
          "name": "stdout",
          "output_type": "stream",
          "text": [
            "Adjusting learning rate of group 0 to 1.0000e-05.\n",
            "\tTrain Loss 0.0180\t Learning Rate 0.0000120\n",
            "\tVal Dist 2.4737%\t Val Loss 0.1980\n",
            "Saved epoch model\n"
          ]
        }
      ],
      "source": [
        "torch.cuda.empty_cache()\n",
        "gc.collect()\n",
        "\n",
        "#TODO: Please complete the training loop\n",
        "\n",
        "for epoch in range(0, config['epochs']):\n",
        "\n",
        "    print(\"\\nEpoch: {}/{}\".format(epoch+1, config['epochs']))\n",
        "    \n",
        "    curr_lr = float(optimizer.param_groups[0]['lr'])\n",
        "    print('Current Learning rate: ', curr_lr)\n",
        "\n",
        "    train_loss              = train_model(model, train_loader, criterion, optimizer)\n",
        "    torch.cuda.empty_cache()\n",
        "    gc.collect()\n",
        "    \n",
        "    valid_loss, valid_dist  = validate_model(model, val_loader, decoder, LABELS)\n",
        "    torch.cuda.empty_cache()\n",
        "    gc.collect()\n",
        "    \n",
        "    scheduler.step()\n",
        "    #scheduler.step(valid_dist)\n",
        "\n",
        "    print(\"\\tTrain Loss {:.04f}\\t Learning Rate {:.07f}\".format(train_loss, curr_lr))\n",
        "    print(\"\\tVal Dist {:.04f}%\\t Val Loss {:.04f}\".format(valid_dist, valid_loss))\n",
        "\n",
        "\n",
        "    wandb.log({\n",
        "        'train_loss': train_loss,  \n",
        "        'valid_dist': valid_dist, \n",
        "        'valid_loss': valid_loss, \n",
        "        'lr'        : curr_lr\n",
        "    })\n",
        "    save_model(model, optimizer, scheduler, ['valid_dist', valid_dist], epoch, epoch_model_path)\n",
        "    wandb.save(epoch_model_path)\n",
        "    print(\"Saved epoch model\")\n",
        "\n",
        "    if valid_dist <= best_lev_dist:\n",
        "        best_lev_dist = valid_dist\n",
        "        save_model(model, optimizer, scheduler, ['valid_dist', valid_dist], epoch, best_model_path)\n",
        "        wandb.save(best_model_path)\n",
        "        print(\"Saved best model\")\n",
        "      # You may find it interesting to exlplore Wandb Artifcats to version your models\n",
        "#run.finish()"
      ]
    },
    {
      "attachments": {},
      "cell_type": "markdown",
      "metadata": {
        "id": "M2H4EEj-sD32"
      },
      "source": [
        "# Generate Predictions and Submit to Kaggle"
      ]
    },
    {
      "cell_type": "code",
      "execution_count": 28,
      "metadata": {
        "id": "ZX-zCj3J9xue"
      },
      "outputs": [],
      "source": [
        "checkpoint = torch.load(\"/content/Best_checkpoint_v2.pth\")"
      ]
    },
    {
      "cell_type": "code",
      "execution_count": 29,
      "metadata": {
        "colab": {
          "base_uri": "https://localhost:8080/"
        },
        "id": "zSb_EjkM99We",
        "outputId": "313e406b-5d32-47fb-92c8-b045867b20f3"
      },
      "outputs": [
        {
          "data": {
            "text/plain": [
              "<All keys matched successfully>"
            ]
          },
          "execution_count": 29,
          "metadata": {},
          "output_type": "execute_result"
        }
      ],
      "source": [
        "model.load_state_dict(checkpoint['model_state_dict'])"
      ]
    },
    {
      "cell_type": "code",
      "execution_count": 30,
      "metadata": {
        "colab": {
          "base_uri": "https://localhost:8080/"
        },
        "id": "2moYJhTWsOG-",
        "outputId": "3b6c4a35-4f08-41fb-acc5-74a49b29038d"
      },
      "outputs": [
        {
          "name": "stdout",
          "output_type": "stream",
          "text": [
            "Testing\n"
          ]
        },
        {
          "name": "stderr",
          "output_type": "stream",
          "text": [
            "100%|██████████| 11/11 [00:24<00:00,  2.25s/it]\n"
          ]
        }
      ],
      "source": [
        "#TODO: Make predictions\n",
        "\n",
        "# Follow the steps below:\n",
        "# 1. Create a new object for CTCBeamDecoder with larger (why?) number of beams\n",
        "# 2. Get prediction string by decoding the results of the beam decoder\n",
        "\n",
        "TEST_BEAM_WIDTH = int(config['beam_width']*2)\n",
        "\n",
        "test_decoder    = CTCBeamDecoder(LABELS, beam_width = TEST_BEAM_WIDTH, log_probs_input=True)\n",
        "results = []\n",
        "\n",
        "model.eval()\n",
        "print(\"Testing\")\n",
        "for data in tqdm(test_loader):\n",
        "\n",
        "    x, lx   = data\n",
        "    x       = x.to(device)\n",
        "\n",
        "    with torch.no_grad():\n",
        "        h, lh = model(x, lx)\n",
        "\n",
        "    prediction_string = decode_prediction(h, lh, test_decoder, LABELS)\n",
        "    results.extend(prediction_string)\n",
        "    \n",
        "    del x, lx, h, lh\n",
        "    torch.cuda.empty_cache()"
      ]
    },
    {
      "cell_type": "code",
      "execution_count": 31,
      "metadata": {
        "colab": {
          "base_uri": "https://localhost:8080/"
        },
        "id": "ZbKiOGhv3qx3",
        "outputId": "44532799-db07-4c1f-91ad-c5cc6c97bd78"
      },
      "outputs": [
        {
          "name": "stdout",
          "output_type": "stream",
          "text": [
            "Warning: Looks like you're using an outdated API Version, please consider updating (server 1.5.13 / client 1.5.8)\n",
            "100% 210k/210k [00:00<00:00, 480kB/s]\n",
            "Successfully submitted to Automatic Speech Recognition (ASR)"
          ]
        }
      ],
      "source": [
        "data_dir = \"/content/11-785-s23-hw3p2\" + \"/test-clean/random_submission.csv\"\n",
        "df = pd.read_csv(data_dir)\n",
        "df.label = results\n",
        "df.to_csv('submission.csv', index = False)\n",
        "\n",
        "!kaggle competitions submit -c 11-785-s23-hw3p2 -f submission.csv -m \"I made it!\""
      ]
    },
    {
      "cell_type": "code",
      "execution_count": 59,
      "metadata": {
        "id": "ba6gjU8y3qvQ"
      },
      "outputs": [],
      "source": [
        "run.finish()"
      ]
    }
  ],
  "metadata": {
    "accelerator": "GPU",
    "colab": {
      "gpuType": "T4",
      "provenance": []
    },
    "gpuClass": "standard",
    "kernelspec": {
      "display_name": "Python 3",
      "language": "python",
      "name": "python3"
    },
    "language_info": {
      "codemirror_mode": {
        "name": "ipython",
        "version": 3
      },
      "file_extension": ".py",
      "mimetype": "text/x-python",
      "name": "python",
      "nbconvert_exporter": "python",
      "pygments_lexer": "ipython3",
      "version": "3.9.6"
    },
    "vscode": {
      "interpreter": {
        "hash": "bd385fe162c5ca0c84973b7dd5c518456272446b2b64e67c2a69f949ca7a1754"
      }
    }
  },
  "nbformat": 4,
  "nbformat_minor": 0
}
