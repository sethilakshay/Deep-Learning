{
 "cells": [
  {
   "attachments": {},
   "cell_type": "markdown",
   "metadata": {},
   "source": [
    "# Attention-based Encoder Decoder Automatic Speech Recognition Model\n",
    "\n",
    "### Author: Lakshay Sethi\n",
    "#### Custom Architecture 2 (Designed by Lakshay Sethi through Ablations)\n",
    "##### Ablations Link: https://wandb.ai/verydeeplearning/hw4p2-ablations?workspace=user-lsethi\n",
    "\n",
    "LAS Paper: https://arxiv.org/pdf/1508.01211.pdf <br>\n",
    "Attention is all you need:https://arxiv.org/pdf/1706.03762.pdf"
   ]
  },
  {
   "attachments": {},
   "cell_type": "markdown",
   "metadata": {},
   "source": [
    "### Architecture Specifications\n",
    "1. Multiple BiLSTM architecture to generate and encode the feature embeddings.\n",
    "\n",
    "3. Use of attention to increase ASR performance"
   ]
  },
  {
   "cell_type": "code",
   "execution_count": 1,
   "metadata": {
    "colab": {
     "base_uri": "https://localhost:8080/"
    },
    "id": "8UK7J-dp5iN5",
    "outputId": "f3708ec3-b800-4407-9474-5fa5c91ed3af"
   },
   "outputs": [
    {
     "name": "stdout",
     "output_type": "stream",
     "text": [
      "Wed May  3 15:32:19 2023       \r\n",
      "+-----------------------------------------------------------------------------+\r\n",
      "| NVIDIA-SMI 525.85.12    Driver Version: 525.85.12    CUDA Version: 12.0     |\r\n",
      "|-------------------------------+----------------------+----------------------+\r\n",
      "| GPU  Name        Persistence-M| Bus-Id        Disp.A | Volatile Uncorr. ECC |\r\n",
      "| Fan  Temp  Perf  Pwr:Usage/Cap|         Memory-Usage | GPU-Util  Compute M. |\r\n",
      "|                               |                      |               MIG M. |\r\n",
      "|===============================+======================+======================|\r\n",
      "|   0  Tesla T4            On   | 00000000:00:1E.0 Off |                    0 |\r\n",
      "| N/A   30C    P8     8W /  70W |      0MiB / 15360MiB |      0%      Default |\r\n",
      "|                               |                      |                  N/A |\r\n",
      "+-------------------------------+----------------------+----------------------+\r\n",
      "                                                                               \r\n",
      "+-----------------------------------------------------------------------------+\r\n",
      "| Processes:                                                                  |\r\n",
      "|  GPU   GI   CI        PID   Type   Process name                  GPU Memory |\r\n",
      "|        ID   ID                                                   Usage      |\r\n",
      "|=============================================================================|\r\n",
      "|  No running processes found                                                 |\r\n",
      "+-----------------------------------------------------------------------------+\r\n"
     ]
    }
   ],
   "source": [
    "!nvidia-smi"
   ]
  },
  {
   "cell_type": "code",
   "execution_count": 2,
   "metadata": {
    "id": "nYgaLmgy5iqR"
   },
   "outputs": [],
   "source": [
    "# # Install some required libraries\n",
    "# # Feel free to add more if you want\n",
    "# !pip install -q python-levenshtein torchsummaryX wandb kaggle pytorch-nlp "
   ]
  },
  {
   "attachments": {},
   "cell_type": "markdown",
   "metadata": {
    "id": "yEkA_GGG-tTB"
   },
   "source": [
    "# Imports"
   ]
  },
  {
   "cell_type": "code",
   "execution_count": 3,
   "metadata": {
    "colab": {
     "base_uri": "https://localhost:8080/"
    },
    "id": "p0aXmrxM-usO",
    "outputId": "45797c9f-e473-4156-8e0f-3367d5b0919e"
   },
   "outputs": [
    {
     "name": "stdout",
     "output_type": "stream",
     "text": [
      "Device:  cuda\n"
     ]
    }
   ],
   "source": [
    "from logging import warning\n",
    "from torch.utils.data.distributed import Dataset\n",
    "\n",
    "# Import Necessary Modules you require for this HW here\n",
    "import torch\n",
    "import numpy as np\n",
    "import torchaudio\n",
    "from torchnlp.nn import LockedDropout\n",
    "import torch.nn as nn\n",
    "from torchsummaryX import summary\n",
    "from torch.utils.data import DataLoader, Dataset\n",
    "from torch.nn.utils.rnn import pad_sequence, pack_padded_sequence, pad_packed_sequence\n",
    "\n",
    "import matplotlib.pyplot as plt\n",
    "import seaborn as sns\n",
    "from tqdm import tqdm\n",
    "\n",
    "from sklearn.metrics import accuracy_score\n",
    "import gc\n",
    "\n",
    "import zipfile\n",
    "import pandas as pd\n",
    "import wandb\n",
    "\n",
    "import os\n",
    "import datetime\n",
    "\n",
    "import Levenshtein\n",
    "import warnings\n",
    "\n",
    "warnings.filterwarnings('ignore')\n",
    "\n",
    "DEVICE = 'cuda' if torch.cuda.is_available() else 'cpu'\n",
    "print(\"Device: \", DEVICE)"
   ]
  },
  {
   "attachments": {},
   "cell_type": "markdown",
   "metadata": {
    "id": "h7Rd-7SJEKX-"
   },
   "source": [
    "# Toy Dataset Download"
   ]
  },
  {
   "cell_type": "code",
   "execution_count": 4,
   "metadata": {
    "id": "emvEV0KwEKDX"
   },
   "outputs": [],
   "source": [
    "# !wget -q https://cmu.box.com/shared/static/om4qpzd4tf1xo4h7230k4v1pbdyueghe --content-disposition --show-progress\n",
    "# !unzip -q hw4p2_toy.zip -d ./"
   ]
  },
  {
   "attachments": {},
   "cell_type": "markdown",
   "metadata": {
    "id": "-njBvl2Opd6I"
   },
   "source": [
    "# Kaggle Dataset Download"
   ]
  },
  {
   "cell_type": "code",
   "execution_count": 5,
   "metadata": {},
   "outputs": [],
   "source": [
    "# !pip install --upgrade --force-reinstall --no-deps kaggle==1.5.8"
   ]
  },
  {
   "cell_type": "code",
   "execution_count": 6,
   "metadata": {
    "colab": {
     "base_uri": "https://localhost:8080/"
    },
    "id": "PTyWR2sIp0Ns",
    "outputId": "9623369b-b6ad-4566-ab52-547da873a29f"
   },
   "outputs": [
    {
     "name": "stdout",
     "output_type": "stream",
     "text": [
      "mkdir: cannot create directory ‘/home/ubuntu/.kaggle’: File exists\r\n"
     ]
    }
   ],
   "source": [
    "api_token = '{\"username\":\"lakshaysethi\",\"key\":\"32d86595e55bef36c1f649381dc3282f\"}'\n",
    "\n",
    "# set up kaggle.json\n",
    "# TODO: Use the same Kaggle code from HW1P2, HW2P2, HW3P2\n",
    "!mkdir /home/ubuntu/.kaggle\n",
    "\n",
    "with open(\"/home/ubuntu/.kaggle/kaggle.json\", \"w+\") as f:\n",
    "    f.write(api_token) # Put your kaggle username & key here\n",
    "\n",
    "!chmod 600 /home/ubuntu/.kaggle/kaggle.json"
   ]
  },
  {
   "cell_type": "code",
   "execution_count": 7,
   "metadata": {
    "id": "F581gjfnqE2C"
   },
   "outputs": [],
   "source": [
    "# # To download the dataset\n",
    "# !kaggle datasets download -d varunjain3/11-785-s23-hw4p2-dataset"
   ]
  },
  {
   "cell_type": "code",
   "execution_count": 8,
   "metadata": {
    "id": "7ko7QN16qF2V"
   },
   "outputs": [],
   "source": [
    "# # To unzip data quickly and quietly\n",
    "# !unzip -q 11-785-s23-hw4p2-dataset.zip -d ./data"
   ]
  },
  {
   "attachments": {},
   "cell_type": "markdown",
   "metadata": {
    "id": "zUJyBBwIqQs6"
   },
   "source": [
    "# Dataset and Dataloaders\n",
    "\n",
    "We have given you 2 datasets. One is a toy dataset, and the other is the standard LibriSpeech dataset. The toy dataset is to help you get your code implemented and tested and debugged easily, to verify that your attention diagonal is produced correctly. Note however that it's task (phonetic transcription) is drawn from HW3P2, it is meant to be familiar and help you understand how to transition from phonetic transcription to alphabet transcription, with a working attention module.\n",
    "\n",
    "Please make sure you use the right constants in your code implementation for future modules, (SOS_TOKEN vs SOS_TOKEN_TOY) when working with either dataset. We have defined the constants accordingly below. Before you come to OH or post on piazza, make sure you aren't misuing the constants for either dataset in your code. "
   ]
  },
  {
   "attachments": {},
   "cell_type": "markdown",
   "metadata": {
    "id": "1sjsbFuKWp7q"
   },
   "source": [
    "## LibriSpeech\n",
    "\n",
    "In terms of the dataset, the dataset structure for HW3P2 and HW4P2 dataset are very similar. Can you spot out the differences? What all will be required?? \n",
    "\n",
    "Hints:\n",
    "\n",
    "- Check how big is the dataset (do you require memory efficient loading techniques??)\n",
    "- How do we load mfccs? Do we need to normalise them? \n",
    "- Does the data have \\<SOS> and \\<EOS> tokens in each sequences? Do we remove them or do we not remove them? (Read writeup)\n",
    "- Would we want a collating function? Ask yourself: Why did we need a collate function last time?\n",
    "- Observe the VOCAB, is the dataset same as HW3P2? \n",
    "- Should you add augmentations, if yes which augmentations? When should you add augmentations? (Check bootcamp for answer)\n"
   ]
  },
  {
   "cell_type": "code",
   "execution_count": 9,
   "metadata": {
    "colab": {
     "base_uri": "https://localhost:8080/"
    },
    "id": "MBMLGYX-kZcd",
    "outputId": "c2218591-902d-4381-96f8-996a0cf0cf38"
   },
   "outputs": [
    {
     "name": "stdout",
     "output_type": "stream",
     "text": [
      "Length of vocab: 31\n",
      "Vocab: ['<pad>', '<sos>', '<eos>', 'A', 'B', 'C', 'D', 'E', 'F', 'G', 'H', 'I', 'J', 'K', 'L', 'M', 'N', 'O', 'P', 'Q', 'R', 'S', 'T', 'U', 'V', 'W', 'X', 'Y', 'Z', \"'\", ' ']\n",
      "PAD_TOKEN: 0\n",
      "SOS_TOKEN: 1\n",
      "EOS_TOKEN: 2\n"
     ]
    }
   ],
   "source": [
    "VOCAB = ['<pad>', '<sos>', '<eos>', \n",
    "         'A',   'B',    'C',    'D',    \n",
    "         'E',   'F',    'G',    'H',    \n",
    "         'I',   'J',    'K',    'L',       \n",
    "         'M',   'N',    'O',    'P',    \n",
    "         'Q',   'R',    'S',    'T', \n",
    "         'U',   'V',    'W',    'X', \n",
    "         'Y',   'Z',    \"'\",    ' ', \n",
    "         ]\n",
    "\n",
    "VOCAB_MAP = {VOCAB[i]:i for i in range(0, len(VOCAB))}\n",
    "\n",
    "PAD_TOKEN = VOCAB_MAP[\"<pad>\"]\n",
    "SOS_TOKEN = VOCAB_MAP[\"<sos>\"]\n",
    "EOS_TOKEN = VOCAB_MAP[\"<eos>\"]\n",
    "\n",
    "print(f\"Length of vocab: {len(VOCAB)}\")\n",
    "print(f\"Vocab: {VOCAB}\")\n",
    "print(f\"PAD_TOKEN: {PAD_TOKEN}\")\n",
    "print(f\"SOS_TOKEN: {SOS_TOKEN}\")\n",
    "print(f\"EOS_TOKEN: {EOS_TOKEN}\")"
   ]
  },
  {
   "attachments": {},
   "cell_type": "markdown",
   "metadata": {
    "id": "PD_1MVAqInnd"
   },
   "source": [
    "# Data Loading Example\n",
    "\n",
    "Helps understand the type of data to better write the dataloader"
   ]
  },
  {
   "cell_type": "code",
   "execution_count": 10,
   "metadata": {
    "id": "zjPE_bO2IXOw"
   },
   "outputs": [],
   "source": [
    "example_mfcc        = np.load(\"/home/ubuntu/IDL HW4/data/dev-clean/mfcc/1272-128104-0000.npy\", allow_pickle=True)\n",
    "example_transcript  = np.load(\"/home/ubuntu/IDL HW4/data/dev-clean/transcripts/1272-128104-0000.npy\", allow_pickle=True)"
   ]
  },
  {
   "cell_type": "code",
   "execution_count": 11,
   "metadata": {
    "colab": {
     "base_uri": "https://localhost:8080/"
    },
    "id": "NCEfzEDGIhxO",
    "outputId": "5e2bc858-1005-452e-f12a-625adc060cab"
   },
   "outputs": [
    {
     "name": "stdout",
     "output_type": "stream",
     "text": [
      "Mfcc:  [[ 7.2685485e+00 -1.3026570e+01 -2.4335361e-01 ... -3.8280669e-01\n",
      "   3.4793660e-13  9.2272011e+01]\n",
      " [ 6.5928483e+00 -1.4122712e+01  2.6958530e+00 ... -9.9526042e-01\n",
      "   3.4348579e-13  9.2285255e+01]\n",
      " [ 5.9508667e+00 -1.4288640e+01  4.8970914e+00 ... -1.0027217e+00\n",
      "   3.4425877e-13  9.3193764e+01]\n",
      " ...\n",
      " [-1.8611323e+00 -1.2769104e+01  7.7289248e-01 ... -1.6896425e+00\n",
      "   3.5929812e-13  9.9999695e+01]\n",
      " [-3.7613575e+00 -9.3966494e+00  5.8461633e+00 ... -2.0057528e+00\n",
      "   3.4846396e-13  9.9148987e+01]\n",
      " [-3.2888489e+00 -5.3136020e+00  1.2327156e+01 ... -9.2915463e-01\n",
      "   3.4011945e-13  9.7999786e+01]]\n",
      "Mfcc Shape:  (581, 27)\n",
      "Corresponding Transcript:  ['<sos>' 'M' 'I' 'S' 'T' 'E' 'R' ' ' 'Q' 'U' 'I' 'L' 'T' 'E' 'R' ' ' 'I'\n",
      " 'S' ' ' 'T' 'H' 'E' ' ' 'A' 'P' 'O' 'S' 'T' 'L' 'E' ' ' 'O' 'F' ' ' 'T'\n",
      " 'H' 'E' ' ' 'M' 'I' 'D' 'D' 'L' 'E' ' ' 'C' 'L' 'A' 'S' 'S' 'E' 'S' ' '\n",
      " 'A' 'N' 'D' ' ' 'W' 'E' ' ' 'A' 'R' 'E' ' ' 'G' 'L' 'A' 'D' ' ' 'T' 'O'\n",
      " ' ' 'W' 'E' 'L' 'C' 'O' 'M' 'E' ' ' 'H' 'I' 'S' ' ' 'G' 'O' 'S' 'P' 'E'\n",
      " 'L' '<eos>']\n",
      "Corresponding Transcript shape:  (91,)\n"
     ]
    }
   ],
   "source": [
    "print(\"Mfcc: \", example_mfcc)\n",
    "print(\"Mfcc Shape: \", example_mfcc.shape)\n",
    "print(\"Corresponding Transcript: \", example_transcript)\n",
    "print(\"Corresponding Transcript shape: \", example_transcript.shape)"
   ]
  },
  {
   "cell_type": "code",
   "execution_count": 12,
   "metadata": {},
   "outputs": [],
   "source": [
    "# Applying Cepstral Mean Normalization my example\n",
    "example_mfcc = (example_mfcc - np.mean(example_mfcc, axis = 0))/np.std(example_mfcc, axis = 0)\n",
    "\n",
    "time_masking = torchaudio.transforms.TimeMasking(time_mask_param = 50)\n",
    "time_mfcc = time_masking(torch.Tensor(example_mfcc.transpose(1, 0)).unsqueeze(0)).squeeze(0)\n",
    "\n",
    "freq_masking = torchaudio.transforms.FrequencyMasking(freq_mask_param = 10)\n",
    "freq_mfcc = freq_masking(torch.Tensor(example_mfcc.transpose(1, 0)).unsqueeze(0)).squeeze(0)"
   ]
  },
  {
   "cell_type": "code",
   "execution_count": 13,
   "metadata": {},
   "outputs": [
    {
     "data": {
      "text/plain": [
       "(581, 27)"
      ]
     },
     "execution_count": 13,
     "metadata": {},
     "output_type": "execute_result"
    },
    {
     "data": {
      "image/png": "[encoded data removed]",
      "text/plain": [
       "<Figure size 1600x200 with 1 Axes>"
      ]
     },
     "metadata": {},
     "output_type": "display_data"
    },
    {
     "data": {
      "image/png": "[encoded data removed]",
      "text/plain": [
       "<Figure size 1600x200 with 1 Axes>"
      ]
     },
     "metadata": {},
     "output_type": "display_data"
    },
    {
     "data": {
      "image/png": "[encoded data removed]",
      "text/plain": [
       "<Figure size 1600x200 with 1 Axes>"
      ]
     },
     "metadata": {},
     "output_type": "display_data"
    }
   ],
   "source": [
    "plt.matshow(example_mfcc.transpose(1, 0), origin='lower', aspect = 'auto')\n",
    "plt.title(\"Unmasked Mfcc\", pad = 40)\n",
    "example_mfcc.shape\n",
    "\n",
    "plt.matshow(time_mfcc, origin='lower', aspect = 'auto')\n",
    "plt.title(\"Masked Mfcc Time\", pad = 40)\n",
    "example_mfcc.shape\n",
    "\n",
    "plt.matshow(freq_mfcc, origin='lower', aspect = 'auto')\n",
    "plt.title(\"Masked Mfcc Frequency\", pad = 40)\n",
    "example_mfcc.shape"
   ]
  },
  {
   "attachments": {},
   "cell_type": "markdown",
   "metadata": {},
   "source": [
    "# Creating Dataset"
   ]
  },
  {
   "cell_type": "code",
   "execution_count": 14,
   "metadata": {
    "id": "Oq9rfCGvTJ_c"
   },
   "outputs": [],
   "source": [
    "config_data = {\n",
    "    'batch_size' : 120,\n",
    "    'freq_mask'  : 8,      # Masks the MFCC Dimensions along Y-axis\n",
    "    'time_mask'  : 50      # Masks the Time Dimensions along X-axis\n",
    "}"
   ]
  },
  {
   "cell_type": "code",
   "execution_count": 15,
   "metadata": {
    "id": "VuneWaTStdF2"
   },
   "outputs": [],
   "source": [
    "class SpeechDataset(torch.utils.data.Dataset):\n",
    "    '''\n",
    "    Feel free to add arguments, additional functions, this is the \n",
    "    bare-minimum template.\n",
    "    '''\n",
    "    def __init__(self, root, vocab = VOCAB, vocab_map = VOCAB_MAP, partition = 'train-clean-100'):\n",
    "\n",
    "        self.vocab = VOCAB\n",
    "        self.vocab_map = VOCAB_MAP\n",
    "        self.partition = partition\n",
    "\n",
    "        # Dataloader for Testing data\n",
    "        if partition == 'test-clean':\n",
    "            self.dtype = \"Testing\"\n",
    "\n",
    "            self.mfcc_files = []\n",
    "            mfcc_dir = os.path.join(root, self.partition, 'mfcc', \"\")\n",
    "\n",
    "            self.mfcc_files = os.listdir(mfcc_dir)\n",
    "            self.mfcc_files.sort()\n",
    "\n",
    "            # Length Assignment\n",
    "            self.length = len(self.mfcc_files)\n",
    "\n",
    "            self.mfccs = []\n",
    "            for i in range(self.length):\n",
    "                # Loading a mfcc file\n",
    "                mfcc = np.load(os.path.join(mfcc_dir, self.mfcc_files[i]), allow_pickle=True)\n",
    "                # Normalizing the input file/Cepstral mean normalization\n",
    "                mfcc = (mfcc - np.mean(mfcc, axis = 0))/np.std(mfcc, axis = 0)\n",
    "\n",
    "                self.mfccs.append(mfcc)\n",
    "\n",
    "        # Dataloader for Training and Validation data\n",
    "        else:\n",
    "            self.dtype = \"Training/Validation\"\n",
    "            self.mfcc_files, self.transcript_files = [], []\n",
    "\n",
    "            mfcc_dir = os.path.join(root, self.partition, 'mfcc', \"\")\n",
    "            transcript_dir = os.path.join(root, self.partition, 'transcripts', \"\")\n",
    "\n",
    "            self.mfcc_files = os.listdir(mfcc_dir)\n",
    "            self.mfcc_files.sort()\n",
    "\n",
    "            self.transcript_files = os.listdir(transcript_dir)\n",
    "            self.transcript_files.sort()\n",
    "            \n",
    "            # Sanity Check\n",
    "            assert len(self.mfcc_files) == len(self.transcript_files)\n",
    "\n",
    "            # Length Assignment\n",
    "            self.length = len(self.mfcc_files)\n",
    "\n",
    "            self.mfccs, self.transcripts = [], []\n",
    "\n",
    "            for i in range(self.length):\n",
    "                # Loading a mfcc file\n",
    "                mfcc = np.load(os.path.join(mfcc_dir, self.mfcc_files[i]), allow_pickle=True)\n",
    "                # Normalizing the input file/Cepstral mean normalization\n",
    "                mfcc = (mfcc - np.mean(mfcc, axis = 0))/np.std(mfcc, axis = 0)\n",
    "\n",
    "                # Loading the complete transcript\n",
    "                transcript = np.load(os.path.join(transcript_dir, self.transcript_files[i]), allow_pickle=True)\n",
    "                \n",
    "                # Converting the trancript into numerical labels\n",
    "                label = np.array([self.vocab_map[character] for character in transcript])\n",
    "\n",
    "                self.mfccs.append(mfcc)\n",
    "                self.transcripts.append(label)\n",
    "  \n",
    "\n",
    "    def __len__(self):\n",
    "        return self.length\n",
    "\n",
    "    \n",
    "    def __getitem__(self, idx):\n",
    "        # GetItem for Testing data\n",
    "        if self.dtype == \"Testing\":\n",
    "            mfcc_tensor = torch.FloatTensor(self.mfccs[idx])\n",
    "            return mfcc_tensor\n",
    "\n",
    "        # GetItem for Training/Validation data\n",
    "        else:\n",
    "            mfcc_tensor = torch.FloatTensor(self.mfccs[idx])\n",
    "            \n",
    "            ### Applying masking only if the data belongs to Training phase. Important to mask before padding\n",
    "            if self.partition == 'train-clean-100':\n",
    "                time_masking = torchaudio.transforms.TimeMasking(time_mask_param = config_data['time_mask'])\n",
    "                freq_masking = torchaudio.transforms.FrequencyMasking(freq_mask_param = config_data['freq_mask'])\n",
    "            \n",
    "                # Adding bathc_size dimension at 1st dimension and hanging shape as masking expects\n",
    "                # the num_of sample in the 3rd dimension (2nd index) \n",
    "                mfcc_tensor = time_masking(mfcc_tensor.unsqueeze(0).permute((0, 2, 1)))\n",
    "                mfcc_tensor = freq_masking(mfcc_tensor).permute((0, 2, 1)).squeeze(0)\n",
    "            \n",
    "            transcript_tensor = torch.tensor(self.transcripts[idx])\n",
    "            \n",
    "            return mfcc_tensor, transcript_tensor\n",
    "        \n",
    "\n",
    "    def collate_fn(self, batch):\n",
    "        # Collate Function for Testing data\n",
    "        if self.dtype == \"Testing\":\n",
    "            batch_mfcc       = batch\n",
    "            lens_mfcc        = [len(mfcc) for mfcc in batch_mfcc]\n",
    "            batch_mfcc       = pad_sequence(batch_mfcc, batch_first = True, padding_value = PAD_TOKEN)\n",
    "\n",
    "            return batch_mfcc, torch.tensor(lens_mfcc)\n",
    "\n",
    "        # Collate Function for Training/Validation data\n",
    "        else:\n",
    "            batch_mfcc, batch_transcript = zip(*batch)            \n",
    "\n",
    "            lens_mfcc        = [len(mfcc) for mfcc in batch_mfcc]\n",
    "            batch_mfcc       = pad_sequence(batch_mfcc, batch_first = True, padding_value = PAD_TOKEN)\n",
    "\n",
    "            lens_transcript  = [len(transcript) for transcript in batch_transcript]\n",
    "            batch_transcript = pad_sequence(batch_transcript, batch_first = True, padding_value = PAD_TOKEN)\n",
    "\n",
    "            return batch_mfcc, batch_transcript, torch.tensor(lens_mfcc), torch.tensor(lens_transcript)"
   ]
  },
  {
   "cell_type": "code",
   "execution_count": 16,
   "metadata": {
    "colab": {
     "base_uri": "https://localhost:8080/"
    },
    "id": "WikHaMPDa3ui",
    "outputId": "df95a71d-49d5-4290-a1f6-41c116be35e0"
   },
   "outputs": [
    {
     "data": {
      "text/plain": [
       "10027"
      ]
     },
     "execution_count": 16,
     "metadata": {},
     "output_type": "execute_result"
    }
   ],
   "source": [
    "gc.collect()"
   ]
  },
  {
   "cell_type": "code",
   "execution_count": 17,
   "metadata": {
    "colab": {
     "base_uri": "https://localhost:8080/"
    },
    "id": "tzuIXCyAuNvo",
    "outputId": "bccad188-9d7c-483b-8e4b-a4e4d98e871f",
    "scrolled": false
   },
   "outputs": [
    {
     "name": "stdout",
     "output_type": "stream",
     "text": [
      "\n",
      "Checking the shapes of the data...\n",
      "torch.Size([120, 1640, 27]) torch.Size([120, 298]) torch.Size([120]) torch.Size([120])\n"
     ]
    },
    {
     "data": {
      "text/plain": [
       "0"
      ]
     },
     "execution_count": 17,
     "metadata": {},
     "output_type": "execute_result"
    }
   ],
   "source": [
    "train_dataset = SpeechDataset(root = \"/home/ubuntu/IDL HW4/data\", vocab = VOCAB, vocab_map = VOCAB_MAP, partition = 'train-clean-100')\n",
    "dev_dataset   = SpeechDataset(root = \"/home/ubuntu/IDL HW4/data\", vocab = VOCAB, vocab_map = VOCAB_MAP, partition = 'dev-clean')\n",
    "test_dataset  = SpeechDataset(root = \"/home/ubuntu/IDL HW4/data\", vocab = VOCAB, vocab_map = VOCAB_MAP, partition = 'test-clean')\n",
    "\n",
    "train_loader = torch.utils.data.DataLoader(\n",
    "    dataset     = train_dataset,\n",
    "    num_workers = 4,\n",
    "    batch_size  = config_data['batch_size'],\n",
    "    pin_memory  = True if DEVICE == 'cuda' else False,\n",
    "    shuffle     = True,\n",
    "    collate_fn  = train_dataset.collate_fn\n",
    ")\n",
    "dev_loader   = torch.utils.data.DataLoader(\n",
    "    dataset     = dev_dataset,\n",
    "    num_workers = 2,\n",
    "    batch_size  = config_data['batch_size'],\n",
    "    pin_memory  = True if DEVICE == 'cuda' else False,\n",
    "    shuffle     = False,\n",
    "    collate_fn  = dev_dataset.collate_fn\n",
    ")\n",
    "test_loader  = torch.utils.data.DataLoader(\n",
    "    dataset     = test_dataset,\n",
    "    num_workers = 2,\n",
    "    batch_size  = config_data['batch_size'],\n",
    "    pin_memory  = True if DEVICE == 'cuda' else False,\n",
    "    shuffle     = False,\n",
    "    collate_fn  = test_dataset.collate_fn\n",
    ")\n",
    "\n",
    "print(\"\\nChecking the shapes of the data...\")\n",
    "for batch in train_loader:\n",
    "    x, y, x_len, y_len = batch\n",
    "    print(x.shape, y.shape, x_len.shape, y_len.shape)\n",
    "    break\n",
    "\n",
    "gc.collect()"
   ]
  },
  {
   "cell_type": "code",
   "execution_count": 18,
   "metadata": {},
   "outputs": [
    {
     "name": "stdout",
     "output_type": "stream",
     "text": [
      "torch.Size([27, 1688])\n"
     ]
    },
    {
     "data": {
      "image/png": "[encoded data removed]",
      "text/plain": [
       "<Figure size 1600x200 with 1 Axes>"
      ]
     },
     "metadata": {},
     "output_type": "display_data"
    }
   ],
   "source": [
    "# Note: There is a possibility of that the below plot appears extreme masking in the end due to padding\n",
    "for batch in train_loader:\n",
    "    x, y, x_len, y_len = batch\n",
    "    plt.matshow(x[0].transpose(0, 1), origin='lower', aspect = 'auto')\n",
    "    plt.title(\"Masked Mfcc Time and Frequency\", pad = 40)\n",
    "    print(x[0].transpose(0, 1).shape)\n",
    "    break"
   ]
  },
  {
   "attachments": {},
   "cell_type": "markdown",
   "metadata": {
    "id": "Ys90lZGOd9VN"
   },
   "source": [
    "# Sanity Check on data"
   ]
  },
  {
   "cell_type": "code",
   "execution_count": 19,
   "metadata": {
    "id": "qS4YtH1tbNTX"
   },
   "outputs": [],
   "source": [
    "# mfcc_lens = [len(mfcc) for mfcc in train_dataset.mfccs]\n",
    "# transcript_lens = [len(transcript) for transcript in train_dataset.transcripts]\n",
    "\n",
    "# max_len_mfcc = max(mfcc_lens)\n",
    "# avg_len_mfcc = np.mean(np.array(mfcc_lens))\n",
    "# max_len_trans = max(transcript_lens)\n",
    "# avg_len_trans = np.mean(np.array(transcript_lens))\n",
    "\n",
    "# del mfcc_lens, transcript_lens\n",
    "\n",
    "# print(\"Partition loaded:  train-clean-100\")\n",
    "# print(\"Max mfcc length:  \", max_len_mfcc)\n",
    "# print(\"Average mfcc length:  \", avg_len_mfcc)\n",
    "# print(\"Max trasncript length:  \", max_len_trans)\n",
    "# print(\"Average trasncript length:  \", avg_len_trans)"
   ]
  },
  {
   "attachments": {},
   "cell_type": "markdown",
   "metadata": {
    "id": "LCwW-Y4hdxcS"
   },
   "source": [
    "- Train Dataset\n",
    "```\n",
    "Partition loaded:  train-clean-100\n",
    "Max mfcc length:  2448\n",
    "Average mfcc length:  1264.6258453344547\n",
    "Max transcript:  400\n",
    "Average transcript length:  186.65321139493324\n",
    "```"
   ]
  },
  {
   "cell_type": "code",
   "execution_count": 20,
   "metadata": {
    "id": "xcE8s1NYcrJW"
   },
   "outputs": [],
   "source": [
    "# mfcc_lens = [len(mfcc) for mfcc in dev_dataset.mfccs]\n",
    "# transcript_lens = [len(transcript) for transcript in dev_dataset.transcripts]\n",
    "\n",
    "# max_len_mfcc = max(mfcc_lens)\n",
    "# avg_len_mfcc = np.mean(np.array(mfcc_lens))\n",
    "# max_len_trans = max(transcript_lens)\n",
    "# avg_len_trans = np.mean(np.array(transcript_lens))\n",
    "\n",
    "# del mfcc_lens, transcript_lens\n",
    "\n",
    "# print(\"Partition loaded:  dev-clean\")\n",
    "# print(\"Max mfcc length:  \", max_len_mfcc)\n",
    "# print(\"Average mfcc length:  \", avg_len_mfcc)\n",
    "# print(\"Max trasncript length:  \", max_len_trans)\n",
    "# print(\"Average trasncript length:  \", avg_len_trans)"
   ]
  },
  {
   "attachments": {},
   "cell_type": "markdown",
   "metadata": {
    "id": "mOM2c2HFd3BJ"
   },
   "source": [
    "- Dev Dataset\n",
    "```\n",
    "Partition loaded:  dev-clean\n",
    "Max mfcc length:  3260\n",
    "Average mfcc length:  713.3570107288198\n",
    "Max transcript:  518\n",
    "Average transcript length:  108.71698113207547\n",
    "```"
   ]
  },
  {
   "cell_type": "code",
   "execution_count": 21,
   "metadata": {
    "id": "nzrUH4V1deyV"
   },
   "outputs": [],
   "source": [
    "# mfcc_lens = [len(mfcc) for mfcc in test_dataset.mfccs]\n",
    "\n",
    "# max_len_mfcc = max(mfcc_lens)\n",
    "# avg_len_mfcc = np.mean(np.array(mfcc_lens))\n",
    "\n",
    "# del mfcc_lens\n",
    "\n",
    "# print(\"Partition loaded:  test-clean\")\n",
    "# print(\"Max mfcc length:  \", max_len_mfcc)\n",
    "# print(\"Average mfcc length:  \", avg_len_mfcc)"
   ]
  },
  {
   "attachments": {},
   "cell_type": "markdown",
   "metadata": {
    "id": "i_n3pqt7ud4t"
   },
   "source": [
    "- Test Dataset\n",
    "```\n",
    "Partition loaded:  test-clean\n",
    "Max mfcc length:  3491\n",
    "Average mfcc length:  738.2206106870229\n",
    "```\n",
    "\n",
    "If your values is not matching, read hints, think what could have gone wrong. Then approach TAs."
   ]
  },
  {
   "attachments": {},
   "cell_type": "markdown",
   "metadata": {
    "id": "M8q9wt4TwzPt"
   },
   "source": [
    "# THE MODEL \n",
    "\n",
    "### Listen, Attend and Spell\n",
    "Listen, Attend and Spell (LAS) is a neural network model used for speech recognition and synthesis tasks.\n",
    "\n",
    "- LAS is designed to handle long input sequences and is robust to noisy speech signals.\n",
    "- LAS is known for its high accuracy and ability to improve over time with additional training data.\n",
    "- It consists of an <b>listener, an attender and a speller</b>, which work together to convert an input speech signal into a corresponding output text.\n",
    "\n",
    "#### The Dataflow:\n",
    "<center>\n",
    "<img src=\"https://github.com/varunjain3/11785_s23_h4p2/raw/main/DataFlow.png\" alt=\"data flow\" height=\"100\">\n",
    "</center>\n",
    "\n",
    "#### The Listener: \n",
    "- converts the input speech signal into a sequence of hidden states.\n",
    "\n",
    "#### The Attender:\n",
    "- Decides how the sequence of Encoder hidden state is propogated to decoder.\n",
    "\n",
    "#### The Speller:\n",
    "- A language model, that incorporates the \"context of attender\"(output of attender) to predict sequence of words.\n",
    "\n",
    "\n",
    "\n",
    "\n"
   ]
  },
  {
   "attachments": {},
   "cell_type": "markdown",
   "metadata": {
    "id": "aPL08W_Z3R18"
   },
   "source": [
    "## The Listener:"
   ]
  },
  {
   "attachments": {},
   "cell_type": "markdown",
   "metadata": {
    "id": "_ewKlVQF3edC"
   },
   "source": [
    "Psuedocode:\n",
    "```python\n",
    "class Listner:\n",
    "  def init():\n",
    "    feature_embedder = #Few layers of 1DConv-batchnorm-activation (Don't overdo)\n",
    "    pblstm_encoder = #Cascaded pblstm layers (Take pblstm from #HW3P2), \n",
    "    #can add more sequential lstms \n",
    "    dropout = #As per your liking\n",
    "\n",
    "  def forward(x,lx):\n",
    "    embedding = feature_embedder(x) #optional\n",
    "    encoding, encoding_len = pblstm_encoder(embedding/x,lx)\n",
    "    #Regularization if needed\n",
    "    return encoding, encoding_len\n",
    "```\n",
    "\n"
   ]
  },
  {
   "cell_type": "code",
   "execution_count": 22,
   "metadata": {
    "id": "z6EkHiGByjFT"
   },
   "outputs": [],
   "source": [
    "torch.cuda.empty_cache()\n",
    "\n",
    "class PermuteBlock(torch.nn.Module):\n",
    "    def forward(self, x):\n",
    "        return x.transpose(1, 2)"
   ]
  },
  {
   "cell_type": "code",
   "execution_count": 23,
   "metadata": {
    "id": "nlMKVtcb4a6D"
   },
   "outputs": [],
   "source": [
    "class pBLSTM(torch.nn.Module):\n",
    "\n",
    "    def __init__(self, input_size, hidden_size, p):\n",
    "\n",
    "        super(pBLSTM, self).__init__()\n",
    "\n",
    "        self.bLSTM = torch.nn.LSTM(input_size = input_size, hidden_size = hidden_size, dropout = p, num_layers = 1, \n",
    "                                   bidirectional = True, batch_first = True)\n",
    "\n",
    "    def forward(self, x_packed): # x_packed is a PackedSequence\n",
    "\n",
    "        # Padding the Packed Sequence\n",
    "        x_padded, x_lens = pad_packed_sequence(x_packed, batch_first = True)\n",
    "\n",
    "        # Calling self.trunc_reshape() to downsample the time steps of x and increase the feature dimensions\n",
    "        x_reshaped, x_lens = self.trunc_reshape(x_padded, x_lens)\n",
    "\n",
    "        # Packing the Padded Sequence\n",
    "        x_packed = pack_padded_sequence(x_reshaped, x_lens, batch_first = True, enforce_sorted = False)\n",
    "\n",
    "        # Passing the sequence through bLSTM\n",
    "        out, hidden_states = self.bLSTM(x_packed)\n",
    "\n",
    "        return out\n",
    "\n",
    "    def trunc_reshape(self, x_padded, x_lens): \n",
    "\n",
    "        # Excluding and last x timestep if lenght is odd\n",
    "        x_padded = x_padded[:, : (x_padded.shape[1] // 2) * 2]      # x_padded.shape = (Batch_size, Timestep, dim)\n",
    "\n",
    "        # Reshaping x by downsampling the number of timesteps by a factor of 2 and upsampling the number of features/dimension by a factor of 2\n",
    "        x_padded = x_padded.reshape(x_padded.shape[0], x_padded.shape[1]//2, x_padded.shape[2]*2)\n",
    "\n",
    "        # Reducing the lengths by a factor of 2\n",
    "        x_lens = x_lens//2\n",
    "\n",
    "        return x_padded, x_lens"
   ]
  },
  {
   "cell_type": "code",
   "execution_count": 24,
   "metadata": {
    "id": "jTQHiB1jvM6_"
   },
   "outputs": [],
   "source": [
    "# Input consists of a sequence of 27-dimensional mel-spectral vectors derived from a spoken recording\n",
    "# Read writeup for more\n",
    "input_dimensions = example_mfcc.shape[1]\n",
    "\n",
    "class Listener(torch.nn.Module):\n",
    "    def __init__(self, hidden_dim, num_layers, dropout_p):\n",
    "\n",
    "        super(Listener, self).__init__()\n",
    "        self.lstm = nn.LSTM(input_size = input_dimensions, hidden_size = hidden_dim, num_layers = 1, \n",
    "                            dropout = dropout_p, bidirectional = True, batch_first = True)\n",
    "        \n",
    "        self.pBLSTMs = nn.Sequential(*[pBLSTM(hidden_dim*2*2, hidden_dim, dropout_p) for l in range(num_layers-1)])\n",
    "                                    # Here hidden_dim is multiplied by because\n",
    "                                    # The output from previous layer (simple bi-directional LSTM or pbLSTM) is double of hidden_dim, thus we multiply by 2\n",
    "                                    # We multiply by another 2 because pbLSTM concatenates forward anc backward sequences togethor\n",
    "  \n",
    "    def forward(self, x, x_lens):\n",
    "\n",
    "        # Packing the sequences for efficiency\n",
    "        x_packed = pack_padded_sequence(x, x_lens, batch_first = True, enforce_sorted = False)\n",
    "\n",
    "        # Passing the x_packed through an LSTM Layer\n",
    "        out, _ = self.lstm(x_packed)\n",
    "\n",
    "        # Passing the input through pBLSTM encoder layers\n",
    "        out = self.pBLSTMs(out)\n",
    "\n",
    "        encoder_out, encoding_lens = pad_packed_sequence(out, batch_first = True)\n",
    "\n",
    "        return encoder_out, encoding_lens"
   ]
  },
  {
   "cell_type": "code",
   "execution_count": 25,
   "metadata": {
    "id": "COr9tY9aLSjG"
   },
   "outputs": [],
   "source": [
    "# listener_model = Listener(conv_out_channel = 256, hidden_dim = 256, num_layers = 3, dropout_p = 0.3).to(DEVICE)\n",
    "# print(listener_model)\n",
    "# for batch in train_loader:\n",
    "#     x, y, lx, ly = batch\n",
    "#     summary(listener_model, x.float().to(DEVICE), lx)\n",
    "#     break"
   ]
  },
  {
   "attachments": {},
   "cell_type": "markdown",
   "metadata": {
    "id": "5fG9jDZBVklL"
   },
   "source": [
    "## Attention\n",
    "\n",
    "### Different ways to compute Attention\n",
    "\n",
    "1. Dot-product attention\n",
    "    * raw_weights = bmm(key, query) \n",
    "    * Optional: Scaled dot-product by normalizing with sqrt key dimension \n",
    "    * Check \"Attention is All You Need\" Section 3.2.1\n",
    "    * 1st way is what most TAs are comfortable with, but if you want to explore, check out other methods below\n",
    "\n",
    "\n",
    "2. Cosine attention\n",
    "    * raw_weights = cosine(query, key) # almost the same as dot-product xD \n",
    "\n",
    "3. Bi-linear attention\n",
    "    * W = Linear transformation (learnable parameter): d_k -> d_q\n",
    "    * raw_weights = bmm(key @ W, query)\n",
    "\n",
    "4. Multi-layer perceptron\n",
    "    * Check \"Neural Machine Translation and Sequence-to-sequence Models: A Tutorial\" Section 8.4\n",
    "\n",
    "5. Multi-Head Attention\n",
    "    * Check \"Attention is All You Need\" Section 3.2.2\n",
    "    * h = Number of heads\n",
    "    * W_Q, W_K, W_V: Weight matrix for Q, K, V (h of them in total)\n",
    "    * W_O: d_v -> d_v\n",
    "    * Reshape K: (B, T, d_k) to (B, T, h, d_k // h) and transpose to (B, h, T, d_k // h)\n",
    "    * Reshape V: (B, T, d_v) to (B, T, h, d_v // h) and transpose to (B, h, T, d_v // h)\n",
    "    * Reshape Q: (B, d_q) to (B, h, d_q // h) `\n",
    "    * raw_weights = Q @ K^T\n",
    "    * masked_raw_weights = mask(raw_weights)\n",
    "    * attention = softmax(masked_raw_weights)\n",
    "    * multi_head = attention @ V\n",
    "    * multi_head = multi_head reshaped to (B, d_v)\n",
    "    * context = multi_head @ W_O"
   ]
  },
  {
   "attachments": {},
   "cell_type": "markdown",
   "metadata": {
    "id": "QyO03fO5VotY"
   },
   "source": [
    "Pseudocode:\n",
    "\n",
    "```python\n",
    "class Attention:\n",
    "    '''\n",
    "    Attention is calculated using the key, value (from encoder embeddings) and query from decoder.\n",
    "\n",
    "    After obtaining the raw weights, compute and return attention weights and context as follows.:\n",
    "\n",
    "    attention_weights   = softmax(raw_weights)\n",
    "    attention_context   = einsum(\"thinkwhatwouldbetheequationhere\",attention, value) #take hint from raw_weights calculation\n",
    "\n",
    "    At the end, you can pass context through a linear layer too.\n",
    "    '''\n",
    "\n",
    "    def init(listener_hidden_size,\n",
    "              speller_hidden_size,\n",
    "              projection_size):\n",
    "\n",
    "        VW = Linear(listener_hidden_size,projection_size)\n",
    "        KW = Linear(listener_hidden_size,projection_size)\n",
    "        QW = Linear(speller_hidden_size,projection_size)\n",
    "\n",
    "    def set_key_value(encoder_outputs):\n",
    "        '''\n",
    "        In this function we take the encoder embeddings and make key and values from it.\n",
    "        key.shape   = (batch_size, timesteps, projection_size)\n",
    "        value.shape = (batch_size, timesteps, projection_size)\n",
    "        '''\n",
    "        key = KW(encoder_outputs)\n",
    "        value = VW(encoder_outputs)\n",
    "      \n",
    "    def compute_context(decoder_context):\n",
    "        '''\n",
    "        In this function from decoder context, we make the query, and then we\n",
    "         multiply the queries with the keys to find the attention logits, \n",
    "         finally we take a softmax to calculate attention energy which gets \n",
    "         multiplied to the generted values and then gets summed.\n",
    "\n",
    "        key.shape   = (batch_size, timesteps, projection_size)\n",
    "        value.shape = (batch_size, timesteps, projection_size)\n",
    "        query.shape = (batch_size, projection_size)\n",
    "\n",
    "        You are also recomended to check out Abu's Lecture 19 to understand Attention better.\n",
    "        '''\n",
    "        query = QW(decoder_context) #(batch_size, projection_size)\n",
    "\n",
    "        raw_weights = #using bmm or einsum. We need to perform batch matrix multiplication. It is important you do this step correctly.\n",
    "        #What will be the shape of raw_weights?\n",
    "\n",
    "        attention_weights = #What makes raw_weights -> attention_weights\n",
    "\n",
    "        attention_context = #Multiply attention weights to values\n",
    "\n",
    "        return attention_context, attention_weights \n",
    "```"
   ]
  },
  {
   "cell_type": "code",
   "execution_count": 26,
   "metadata": {
    "id": "771TXxn7ViOW"
   },
   "outputs": [],
   "source": [
    "class Attention(torch.nn.Module):\n",
    "    def __init__(self, listener_hidden_size, speller_hidden_size, projection_size):\n",
    "\n",
    "        super().__init__()\n",
    "\n",
    "        self.VW = torch.nn.Linear(in_features = listener_hidden_size, out_features = projection_size, device = DEVICE)\n",
    "        self.KW = torch.nn.Linear(in_features = listener_hidden_size, out_features = projection_size, device = DEVICE)\n",
    "        self.QW = torch.nn.Linear(in_features = speller_hidden_size, out_features = projection_size, device = DEVICE)\n",
    "\n",
    "        self.speller_hidden_size = speller_hidden_size\n",
    "        self.projection_size = projection_size\n",
    "\n",
    "    def set_key_value(self, encoder_outputs):\n",
    "        self.key     = self.KW(encoder_outputs)     #key.shape   = (batch_size, timesteps, projection_size)\n",
    "        self.value   = self.VW(encoder_outputs)     #value.shape = (batch_size, timesteps, projection_size)\n",
    "        self.batch_size = encoder_outputs.shape[0]\n",
    "\n",
    "    def compute_context(self, decoder_context):\n",
    "        '''\n",
    "        In this function from decoder context, we make the query, and then we\n",
    "         multiply the queries with the keys to find the attention logits, \n",
    "         finally we take a softmax to calculate attention energy which gets \n",
    "         multiplied to the generted values and then gets summed.\n",
    "\n",
    "        key.shape   = (batch_size, timesteps, projection_size)\n",
    "        value.shape = (batch_size, timesteps, projection_size)\n",
    "        query.shape = (batch_size, projection_size)\n",
    "        '''\n",
    "        query = self.QW(decoder_context) #(batch_size, projection_size)\n",
    "\n",
    "        raw_weights = (torch.bmm(self.key, query.unsqueeze(2)).squeeze(2))/np.sqrt(self.projection_size) #(batch_size, timesteps)\n",
    "\n",
    "        attention_weights = nn.functional.softmax(raw_weights, dim = 1) #(batch_size, timesteps)\n",
    "\n",
    "        attention_context = torch.bmm(attention_weights.unsqueeze(1), self.value)  #(batch_size, projection_size)\n",
    "\n",
    "        return attention_context, attention_weights"
   ]
  },
  {
   "cell_type": "code",
   "execution_count": 27,
   "metadata": {
    "id": "4up89S0YVYc7"
   },
   "outputs": [],
   "source": [
    "# attention_model = Attention(listener_hidden_size = 128, speller_hidden_size = 256, projection_size = 256).to(DEVICE)\n",
    "# print(attention_model)\n",
    "# for batch in train_loader:\n",
    "#     x, y, lx, ly = batch\n",
    "#     summary(listener_model, x.to(DEVICE), lx)\n",
    "#     break"
   ]
  },
  {
   "attachments": {},
   "cell_type": "markdown",
   "metadata": {
    "id": "4Sp1WywZmm1L"
   },
   "source": [
    "## The Speller\n",
    "\n",
    "Similar to the language model that you coded up for HW4P1, you have to code a language model for HW4P2 as well. This time, we will also call the attention context step, within the decoder to get the attended-encoder-embeddings.\n",
    "\n",
    "\n",
    "What you have coded till now:\n",
    "\n",
    "<center>\n",
    "<img src=\"https://github.com/varunjain3/11785_s23_h4p2/raw/main/EncoderAttention.png\" alt=\"data flow\" height=\"400\">\n",
    "</center>\n",
    "\n",
    "For the Speller, what we have to code:\n",
    "\n",
    "\n",
    "<center>\n",
    "<img src=\"https://github.com/varunjain3/11785_s23_h4p2/raw/main/Decoder.png\" alt=\"data flow\" height=\"400\">\n",
    "</center>"
   ]
  },
  {
   "cell_type": "code",
   "execution_count": 28,
   "metadata": {
    "id": "nFkc6MbnlUPu"
   },
   "outputs": [],
   "source": [
    "class Speller(torch.nn.Module):\n",
    "\n",
    "  # Refer to your HW4P1 implementation for help with setting up the language model.\n",
    "  # The only thing you need to implement on top of your HW4P1 model is the attention module and teacher forcing.\n",
    "\n",
    "    def __init__(self, attender:Attention, vocab_size, embedding_dim = 256, hidden_dim = 256, num_layers = 3, dropout = 0.2, max_steps = 550, mode = \"Train\"):\n",
    "        super(). __init__()\n",
    "\n",
    "        self.attend = attender # Attention object in speller\n",
    "        self.max_timesteps = max_steps # Max timesteps\n",
    "\n",
    "        self.embedding =  nn.Embedding(num_embeddings = vocab_size, embedding_dim = embedding_dim, device = DEVICE)# Embedding layer to convert token to latent space\n",
    "        \n",
    "        self.lstm_cells =  nn.Sequential(nn.LSTMCell(input_size = embedding_dim + self.attend.projection_size, hidden_size = hidden_dim, device = DEVICE),\n",
    "                                    *[nn.LSTMCell(input_size = hidden_dim, hidden_size = hidden_dim, device = DEVICE) for l in range(num_layers-1)])\n",
    "\n",
    "        # For CDN (Feel free to change)\n",
    "        self.output_to_char = nn.Linear(in_features = self.attend.projection_size + hidden_dim, out_features = embedding_dim, bias = True, device = DEVICE) # Linear module to convert outputs to correct hidden size (Optional: TO make dimensions match)\n",
    "        self.activation = nn.Tanh() # Check which activation is suggested\n",
    "        self.char_prob = nn.Linear(in_features = embedding_dim, out_features = vocab_size, bias = True, device = DEVICE)# Linear layer to convert hidden space back to logits for token classification\n",
    "        self.char_prob.weight = self.embedding.weight\n",
    "\n",
    "        # Locked Dropout for Input\n",
    "        self.LockedDropout = LockedDropout(dropout)\n",
    "        self.dropout = nn.Dropout(p = dropout)\n",
    "\n",
    "    def lstm_step(self, input_word, hidden_state):\n",
    "\n",
    "        if hidden_state == None:\n",
    "            hidden_state = [None] * len(self.lstm_cells)\n",
    "            \n",
    "        embedding = input_word\n",
    "\n",
    "        for i in range(len(self.lstm_cells)):\n",
    "            \n",
    "            # Masking the hidden states\n",
    "            if hidden_state[i] != None:\n",
    "                h, c = hidden_state[i]       # Unpacking the tuple\n",
    "                h    =  self.dropout(h)      # Dropping some of the hidden states\n",
    "                hidden_state[i] = (h, c)     # Re-assigning the tupe\n",
    "                \n",
    "            hidden_state[i] = self.lstm_cells[i](embedding, hidden_state[i])\n",
    "            embedding = hidden_state[i][0]\n",
    "\n",
    "        return embedding, hidden_state\n",
    "\n",
    "    def CDN(self, input):\n",
    "        # Make the CDN here, you can add the output-to-char\n",
    "        output = self.output_to_char(input)\n",
    "        probability = self.char_prob(output)\n",
    "\n",
    "        return probability\n",
    "\n",
    "    def forward (self, y = None, mode = \"Train\", teacher_forcing_ratio = 1):\n",
    "        \n",
    "        if y is None:\n",
    "            timesteps = self.max_timesteps\n",
    "            teacher_forcing_ratio = 0\n",
    "            batch_size = self.attend.batch_size\n",
    "        else:\n",
    "            batch_size, timesteps = y.shape\n",
    "            char_embeddings = self.embedding(y)\n",
    "\n",
    "            # Only applying locked dropout in Training function\n",
    "            if mode == \"Train\":\n",
    "                char_embeddings = self.LockedDropout(char_embeddings.permute((1, 0, 2))).permute((1, 0, 2))\n",
    "\n",
    "        attn_context = torch.zeros(size = (batch_size, 1, self.attend.projection_size)).to(DEVICE) # initial context tensor for time t = 0\n",
    "        output_symbol = torch.tensor([SOS_TOKEN] * batch_size).to(DEVICE) # Set it to SOS for time t = 0 or for the case when y == None\n",
    "        raw_outputs = []  \n",
    "        attention_plot = []\n",
    "\n",
    "        hidden_states_list = [None] * len(self.lstm_cells) # Initialize your hidden_states list here similar to HW4P1\n",
    "\n",
    "        for t in range(timesteps):\n",
    "            p = np.random.random(1)# generate a probability p between 0 and 1\n",
    "\n",
    "            # Case when teacher forcing ratio is not applied\n",
    "            if p < teacher_forcing_ratio and t > 0:\n",
    "                char_embed = char_embeddings[:, t-1] # Take from char_embed, else draw from probability distribution\n",
    "            # Case when teacher forcing is applied \n",
    "            else:\n",
    "                char_embed = self.embedding(output_symbol)\n",
    "\n",
    "            # Concatenate the character embedding and context from attention, as shown in the diagram\n",
    "            lstm_input = torch.cat([char_embed, attn_context[:, -1]], dim = 1) \n",
    "\n",
    "            out, hidden_state = self.lstm_step(lstm_input, hidden_states_list) # Feed the input through LSTM Cells and attention.\n",
    "            \n",
    "            # What should we retrieve from forward_step to prepare for the next timestep?\n",
    "            attn_context, attn_weights = self.attend.compute_context(out) # Feed the resulting hidden state into attention\n",
    "           \n",
    "            cdn_input = torch.cat([attn_context.squeeze(), out], dim = 1) # TODO: You need to concatenate the context from the attention module with the LSTM output hidden state, as shown in the diagram\n",
    "\n",
    "            raw_pred = self.CDN(cdn_input) # call CDN with cdn_input\n",
    "\n",
    "            # Generate a prediction for this timestep and collect it in output_symbols\n",
    "            output_symbol = torch.argmax(nn.functional.softmax(raw_pred), dim = 1)# Draw correctly from raw_pred\n",
    "\n",
    "            raw_outputs.append(raw_pred) # for loss calculation\n",
    "            attention_plot.append(attn_weights) # for plotting attention plot\n",
    "\n",
    "        attention_plot = torch.stack(attention_plot, dim = 1)\n",
    "        raw_outputs = torch.stack(raw_outputs, dim = 1)\n",
    "\n",
    "        return raw_outputs, attention_plot"
   ]
  },
  {
   "attachments": {},
   "cell_type": "markdown",
   "metadata": {
    "id": "bgOQlDRI-E4z"
   },
   "source": [
    "## LAS"
   ]
  },
  {
   "attachments": {},
   "cell_type": "markdown",
   "metadata": {
    "id": "ZuAjQFlTBVED"
   },
   "source": [
    "Here we finally build the LAS model, comibining the listener, attender and speller together, we have given a template, but you are free to read the paper and implement it yourself."
   ]
  },
  {
   "cell_type": "code",
   "execution_count": 29,
   "metadata": {
    "id": "scvB2cI-OSof"
   },
   "outputs": [],
   "source": [
    "class LAS(torch.nn.Module):\n",
    "    def __init__(self, hidden_dim_listener = 256, num_layers_listener = 3, dropout_p = 0.3,\n",
    "               speller_hidden_size = 256, projection_size = 256,\n",
    "               vocab_size = 31, embedding_dim = 256, num_layers_speller = 3, dropout_speller = 0.2, max_steps = 550):\n",
    "        super().__init__()\n",
    "\n",
    "        # Pass the right parameters here\n",
    "        self.listener = Listener(hidden_dim = hidden_dim_listener,\n",
    "                                 num_layers = num_layers_listener, \n",
    "                                 dropout_p  = dropout_p)\n",
    "            \n",
    "\n",
    "        self.attend = Attention(listener_hidden_size = 2 * hidden_dim_listener, \n",
    "                                speller_hidden_size  = speller_hidden_size, \n",
    "                                projection_size      = projection_size)\n",
    "\n",
    "        self.speller = Speller(self.attend, \n",
    "                               vocab_size    = vocab_size,\n",
    "                               embedding_dim = embedding_dim, \n",
    "                               hidden_dim    = speller_hidden_size,\n",
    "                               num_layers    = num_layers_speller, \n",
    "                               dropout       = dropout_speller, \n",
    "                               max_steps     = max_steps)\n",
    "\n",
    "    def forward(self, x, lx, y = None, mode = \"Train\", teacher_forcing_ratio = 1):\n",
    "        # Encode speech features\n",
    "        encoder_outputs, _ = self.listener(x, lx)\n",
    "\n",
    "        # We want to compute keys and values ahead of the decoding step, as they are constant for all timesteps\n",
    "        # Set keys and values using the encoder outputs\n",
    "        self.attend.set_key_value(encoder_outputs)\n",
    "\n",
    "        # Decode text with the speller using context from the attention\n",
    "        raw_outputs, attention_plots = self.speller(y = y, mode = mode, teacher_forcing_ratio = teacher_forcing_ratio)\n",
    "\n",
    "        return raw_outputs, attention_plots"
   ]
  },
  {
   "attachments": {},
   "cell_type": "markdown",
   "metadata": {
    "id": "bPZD3vqdUisj"
   },
   "source": [
    "# Model Setup "
   ]
  },
  {
   "cell_type": "code",
   "execution_count": 30,
   "metadata": {
    "id": "sN-jRyHYQOJm"
   },
   "outputs": [],
   "source": [
    "config_model = {\n",
    "    'lr'                    : 1e-3,\n",
    "    'epochs'                : 100,\n",
    "\n",
    "    'hidden_dim_listener'   : 512,\n",
    "    'num_layers_listener'   : 3,\n",
    "    'dropout_listener'      : 0.25,\n",
    "\n",
    "    'speller_hidden_size'   : 1024,\n",
    "    'projection_size'       : 1024,\n",
    "\n",
    "    'vocab_size'            : len(VOCAB),\n",
    "    'embedding_dim_speller' : 768,\n",
    "    'num_layers_speller'    : 3,\n",
    "    'dropout_speller'       : 0.2,\n",
    "    'max_steps'             : 550,\n",
    "    \n",
    "    'eta_min'               : 1e-4\n",
    "}\n",
    "\n",
    "config = {**config_data, **config_model}"
   ]
  },
  {
   "cell_type": "code",
   "execution_count": 31,
   "metadata": {
    "colab": {
     "base_uri": "https://localhost:8080/"
    },
    "id": "a9LN0l5VUk_s",
    "outputId": "0811f352-444d-4856-8880-7b54dd342ee7",
    "scrolled": false
   },
   "outputs": [
    {
     "name": "stdout",
     "output_type": "stream",
     "text": [
      "LAS(\n",
      "  (listener): Listener(\n",
      "    (lstm): LSTM(27, 512, batch_first=True, dropout=0.25, bidirectional=True)\n",
      "    (pBLSTMs): Sequential(\n",
      "      (0): pBLSTM(\n",
      "        (bLSTM): LSTM(2048, 512, batch_first=True, dropout=0.25, bidirectional=True)\n",
      "      )\n",
      "      (1): pBLSTM(\n",
      "        (bLSTM): LSTM(2048, 512, batch_first=True, dropout=0.25, bidirectional=True)\n",
      "      )\n",
      "    )\n",
      "  )\n",
      "  (attend): Attention(\n",
      "    (VW): Linear(in_features=1024, out_features=1024, bias=True)\n",
      "    (KW): Linear(in_features=1024, out_features=1024, bias=True)\n",
      "    (QW): Linear(in_features=1024, out_features=1024, bias=True)\n",
      "  )\n",
      "  (speller): Speller(\n",
      "    (attend): Attention(\n",
      "      (VW): Linear(in_features=1024, out_features=1024, bias=True)\n",
      "      (KW): Linear(in_features=1024, out_features=1024, bias=True)\n",
      "      (QW): Linear(in_features=1024, out_features=1024, bias=True)\n",
      "    )\n",
      "    (embedding): Embedding(31, 768)\n",
      "    (lstm_cells): Sequential(\n",
      "      (0): LSTMCell(1792, 1024)\n",
      "      (1): LSTMCell(1024, 1024)\n",
      "      (2): LSTMCell(1024, 1024)\n",
      "    )\n",
      "    (output_to_char): Linear(in_features=2048, out_features=768, bias=True)\n",
      "    (activation): Tanh()\n",
      "    (char_prob): Linear(in_features=768, out_features=31, bias=True)\n",
      "    (LockedDropout): LockedDropout(p=0.2)\n",
      "    (dropout): Dropout(p=0.2, inplace=False)\n",
      "  )\n",
      ")\n",
      "\n",
      "=============================================================================================\n",
      "                                    Kernel Shape      Output Shape  \\\n",
      "Layer                                                                \n",
      "0_listener.LSTM_lstm                           -    [146371, 1024]   \n",
      "1_listener.pBLSTMs.0.LSTM_bLSTM                -     [73154, 1024]   \n",
      "2_listener.pBLSTMs.1.LSTM_bLSTM                -     [36548, 1024]   \n",
      "3_speller.attend.Linear_KW          [1024, 1024]  [120, 409, 1024]   \n",
      "4_speller.attend.Linear_KW          [1024, 1024]  [120, 409, 1024]   \n",
      "...                                          ...               ...   \n",
      "2772_speller.lstm_cells.LSTMCell_2             -       [120, 1024]   \n",
      "2773_speller.attend.Linear_QW       [1024, 1024]       [120, 1024]   \n",
      "2774_speller.attend.Linear_QW       [1024, 1024]       [120, 1024]   \n",
      "2775_speller.Linear_output_to_char   [2048, 768]        [120, 768]   \n",
      "2776_speller.Linear_char_prob          [768, 31]         [120, 31]   \n",
      "\n",
      "                                        Params  Mult-Adds  \n",
      "Layer                                                      \n",
      "0_listener.LSTM_lstm                 2.215936M  2.207744M  \n",
      "1_listener.pBLSTMs.0.LSTM_bLSTM     10.493952M  10.48576M  \n",
      "2_listener.pBLSTMs.1.LSTM_bLSTM     10.493952M  10.48576M  \n",
      "3_speller.attend.Linear_KW             1.0496M  1.048576M  \n",
      "4_speller.attend.Linear_KW                   -  1.048576M  \n",
      "...                                        ...        ...  \n",
      "2772_speller.lstm_cells.LSTMCell_2           -  8.388608M  \n",
      "2773_speller.attend.Linear_QW                -  1.048576M  \n",
      "2774_speller.attend.Linear_QW                -  1.048576M  \n",
      "2775_speller.Linear_output_to_char           -  1.572864M  \n",
      "2776_speller.Linear_char_prob                -    23.808k  \n",
      "\n",
      "[2777 rows x 4 columns]\n",
      "---------------------------------------------------------------------------------------------\n",
      "                            Totals\n",
      "Total params            56.310047M\n",
      "Trainable params        56.310047M\n",
      "Non-trainable params           0.0\n",
      "Mult-Adds             8.892910336G\n",
      "=============================================================================================\n"
     ]
    }
   ],
   "source": [
    "# Baseline LAS has the following configuration:\n",
    "# Encoder bLSTM/pbLSTM Hidden Dimension of 512 (256 per direction)\n",
    "# Decoder Embedding Layer Dimension of 256\n",
    "# Decoder Hidden Dimension of 512 \n",
    "# Attention Projection Size of 128\n",
    "# Feel Free to Experiment with this \n",
    "\n",
    "torch.cuda.empty_cache()\n",
    "gc.collect()\n",
    "\n",
    "model = LAS(\n",
    "    # Parameters for the Listener/Encoder\n",
    "    hidden_dim_listener = config['hidden_dim_listener'], \n",
    "    num_layers_listener = config['num_layers_listener'], \n",
    "    dropout_p = config['dropout_listener'],\n",
    "\n",
    "    # Dimensions for the Attention\n",
    "    # Note that we are not passing listener_hidden_size since it is is 2*hidden_dim_listener\n",
    "    speller_hidden_size = config['speller_hidden_size'], \n",
    "    projection_size = config['projection_size'],\n",
    "    # Parameters for the Speller\n",
    "    vocab_size = config['vocab_size'], \n",
    "    embedding_dim = config['embedding_dim_speller'],\n",
    "    num_layers_speller = config['num_layers_speller'],\n",
    "    dropout_speller = config['dropout_speller'], \n",
    "    max_steps = config['max_steps'])\n",
    "\n",
    "\n",
    "model = model.to(DEVICE)\n",
    "print(model)\n",
    "\n",
    "for batch in train_loader:\n",
    "    x, y, lx, ly = batch\n",
    "    print()\n",
    "    summary(model, x.float().to(DEVICE), lx, y.to(DEVICE))\n",
    "    break"
   ]
  },
  {
   "cell_type": "code",
   "execution_count": 32,
   "metadata": {
    "colab": {
     "base_uri": "https://localhost:8080/"
    },
    "id": "FJBPmyvuTFIM",
    "outputId": "4b678629-14a9-441e-bab9-cf05e221ebfc"
   },
   "outputs": [
    {
     "name": "stdout",
     "output_type": "stream",
     "text": [
      "Wed May  3 15:33:50 2023       \r\n",
      "+-----------------------------------------------------------------------------+\r\n",
      "| NVIDIA-SMI 525.85.12    Driver Version: 525.85.12    CUDA Version: 12.0     |\r\n",
      "|-------------------------------+----------------------+----------------------+\r\n",
      "| GPU  Name        Persistence-M| Bus-Id        Disp.A | Volatile Uncorr. ECC |\r\n",
      "| Fan  Temp  Perf  Pwr:Usage/Cap|         Memory-Usage | GPU-Util  Compute M. |\r\n",
      "|                               |                      |               MIG M. |\r\n",
      "|===============================+======================+======================|\r\n",
      "|   0  Tesla T4            On   | 00000000:00:1E.0 Off |                    0 |\r\n",
      "| N/A   28C    P0    30W /  70W |   9547MiB / 15360MiB |      0%      Default |\r\n",
      "|                               |                      |                  N/A |\r\n",
      "+-------------------------------+----------------------+----------------------+\r\n",
      "                                                                               \r\n",
      "+-----------------------------------------------------------------------------+\r\n",
      "| Processes:                                                                  |\r\n",
      "|  GPU   GI   CI        PID   Type   Process name                  GPU Memory |\r\n",
      "|        ID   ID                                                   Usage      |\r\n",
      "|=============================================================================|\r\n",
      "|    0   N/A  N/A     11333      C   ...a/envs/pytorch/bin/python     9544MiB |\r\n",
      "+-----------------------------------------------------------------------------+\r\n"
     ]
    }
   ],
   "source": [
    "!nvidia-smi"
   ]
  },
  {
   "cell_type": "code",
   "execution_count": 33,
   "metadata": {
    "id": "mL-0tfHdTH4O"
   },
   "outputs": [],
   "source": [
    "torch.cuda.empty_cache()"
   ]
  },
  {
   "attachments": {},
   "cell_type": "markdown",
   "metadata": {
    "id": "23DMfXsaU6kj"
   },
   "source": [
    "# Loss Function, Optimizers, Scheduler"
   ]
  },
  {
   "cell_type": "code",
   "execution_count": 34,
   "metadata": {
    "id": "216ukmHbU-ol"
   },
   "outputs": [
    {
     "name": "stdout",
     "output_type": "stream",
     "text": [
      "Adjusting learning rate of group 0 to 1.0000e-03.\n"
     ]
    }
   ],
   "source": [
    "optimizer   = torch.optim.AdamW(model.parameters(), lr = config['lr']) # Feel free to experiment if needed\n",
    "\n",
    "criterion   = torch.nn.CrossEntropyLoss(reduction = 'mean', ignore_index = PAD_TOKEN) #check how would you fill these values : https://pytorch.org/docs/stable/generated/torch.nn.CrossEntropyLoss.html\n",
    "\n",
    "scaler      = torch.cuda.amp.GradScaler()\n",
    "\n",
    "scheduler   = torch.optim.lr_scheduler.CosineAnnealingLR(optimizer, T_max = config['epochs'], \n",
    "                                                         eta_min = config['eta_min'], verbose = True)"
   ]
  },
  {
   "attachments": {},
   "cell_type": "markdown",
   "metadata": {
    "id": "ZWQnB8lUVY4f"
   },
   "source": [
    "# Levenshtein Distance"
   ]
  },
  {
   "cell_type": "code",
   "execution_count": 35,
   "metadata": {
    "id": "0m_dht4gRuz6"
   },
   "outputs": [],
   "source": [
    "# We have given you this utility function which takes a sequence of indices and converts them to a list of characters\n",
    "def indices_to_chars(indices, vocab):\n",
    "    tokens = []\n",
    "    for i in indices: # This loops through all the indices\n",
    "        if int(i) == SOS_TOKEN: # If SOS is encountered, dont add it to the final list\n",
    "            continue\n",
    "        elif int(i) == EOS_TOKEN: # If EOS is encountered, stop the decoding process\n",
    "            break\n",
    "        else:\n",
    "            tokens.append(vocab[int(i)])\n",
    "    return tokens"
   ]
  },
  {
   "attachments": {},
   "cell_type": "markdown",
   "metadata": {
    "id": "omYt9HYyRdQJ"
   },
   "source": [
    "**Note: Very Important to uncomment and comment the right distance basis if toy dataset is used or not**\n"
   ]
  },
  {
   "cell_type": "code",
   "execution_count": 36,
   "metadata": {
    "id": "rSsiCdxPVeZW"
   },
   "outputs": [],
   "source": [
    "# To make your life more easier, we have given the Levenshtein distantce / Edit distance calculation code\n",
    "def calc_edit_distance(predictions, y, ly, vocab= VOCAB, print_example= False):\n",
    "\n",
    "    dist                = 0\n",
    "    batch_size, seq_len = predictions.shape\n",
    "\n",
    "    for batch_idx in range(batch_size): \n",
    "\n",
    "        y_sliced    = indices_to_chars(y[batch_idx,0:ly[batch_idx]], vocab)\n",
    "        pred_sliced = indices_to_chars(predictions[batch_idx], vocab)\n",
    "\n",
    "        # Strings - When you are using characters from the AudioDataset\n",
    "        y_string    = ''.join(y_sliced)\n",
    "        pred_string = ''.join(pred_sliced)\n",
    "        \n",
    "        #################################################################\n",
    "        #################################################################\n",
    "        #################################################################\n",
    "        #################################################################\n",
    "        ################### Remember This ###############################\n",
    "\n",
    "        # Distance for main dataset\n",
    "        dist        += Levenshtein.distance(pred_string, y_string)\n",
    "\n",
    "        # Distance for toy dataset, as the toy dataset has a list of phonemes to compare\n",
    "        # dist      += Levenshtein.distance(y_sliced, pred_sliced)\n",
    "\n",
    "        #################################################################\n",
    "        #################################################################\n",
    "        #################################################################\n",
    "        #################################################################\n",
    "\n",
    "    if print_example: \n",
    "        # Print y_sliced and pred_sliced if you are using the toy dataset\n",
    "        print(\"Ground Truth : \", y_string)\n",
    "        print(\"Prediction   : \", pred_string)\n",
    "        \n",
    "    dist/=batch_size\n",
    "    return dist"
   ]
  },
  {
   "attachments": {},
   "cell_type": "markdown",
   "metadata": {
    "id": "Pu4MrSMUUIyp"
   },
   "source": [
    "# Train and Validation functions \n"
   ]
  },
  {
   "cell_type": "code",
   "execution_count": 37,
   "metadata": {
    "id": "sKOdI0J5Tpem"
   },
   "outputs": [],
   "source": [
    "def train(model, dataloader, criterion, optimizer, teacher_forcing_rate):\n",
    "\n",
    "    model.train()\n",
    "    batch_bar = tqdm(total=len(dataloader), dynamic_ncols=True, leave=False, position=0, desc='Train')\n",
    "\n",
    "    running_loss        = 0.0\n",
    "    running_perplexity  = 0.0\n",
    "    \n",
    "    for i, (x, y, lx, ly) in enumerate(dataloader):\n",
    "\n",
    "        optimizer.zero_grad()\n",
    "\n",
    "        x, y, lx, ly = x.float().to(DEVICE), y.to(DEVICE), lx, ly\n",
    "\n",
    "        with torch.cuda.amp.autocast():\n",
    "\n",
    "            raw_predictions, attention_plot = model(x, lx, y = y, mode = \"Train\", teacher_forcing_ratio = teacher_forcing_rate)\n",
    "\n",
    "            # Predictions are of Shape (batch_size, timesteps, vocab_size). \n",
    "            # Transcripts are of shape (batch_size, timesteps) Which means that you have batch_size amount of batches with timestep number of tokens.\n",
    "            # So in total, you have batch_size*timesteps amount of characters.\n",
    "            # Similarly, in predictions, you have batch_size*timesteps amount of probability distributions.\n",
    "            # How do you need to modify transcipts and predictions so that you can calculate the CrossEntropyLoss? Hint: Use Reshape/View and read the docs\n",
    "            # Also we recommend you plot the attention weights, you should get convergence in around 10 epochs, if not, there could be something wrong with \n",
    "            # your implementation\n",
    "            loss        =  criterion(raw_predictions.reshape(-1, len(VOCAB)), y.reshape(-1) )\n",
    "\n",
    "            perplexity  = torch.exp(loss) # Perplexity is defined the exponential of the loss\n",
    "\n",
    "            running_loss        += loss.item()\n",
    "            running_perplexity  += perplexity.item()\n",
    "        \n",
    "        # Backward on the masked loss\n",
    "        scaler.scale(loss).backward()\n",
    "\n",
    "        # Optional: Use torch.nn.utils.clip_grad_norm to clip gradients to prevent them from exploding, if necessary\n",
    "        # If using with mixed precision, unscale the Optimizer First before doing gradient clipping\n",
    "        \n",
    "        scaler.step(optimizer)\n",
    "        scaler.update()\n",
    "        \n",
    "\n",
    "        batch_bar.set_postfix(\n",
    "            loss=\"{:.06f}\".format(running_loss/(i+1)),\n",
    "            perplexity=\"{:.04f}\".format(running_perplexity/(i+1)),\n",
    "            lr=\"{:.07f}\".format(float(optimizer.param_groups[0]['lr'])),\n",
    "            tf_rate='{:.04f}'.format(teacher_forcing_rate))\n",
    "        batch_bar.update()\n",
    "\n",
    "        del x, y, lx, ly\n",
    "        torch.cuda.empty_cache()\n",
    "\n",
    "    running_loss /= len(dataloader)\n",
    "    running_perplexity /= len(dataloader)\n",
    "    batch_bar.close()\n",
    "\n",
    "    return running_loss, running_perplexity, attention_plot"
   ]
  },
  {
   "cell_type": "code",
   "execution_count": 38,
   "metadata": {
    "id": "YmBLhP8cWm6n"
   },
   "outputs": [],
   "source": [
    "def validate(model, dataloader):\n",
    "\n",
    "    model.eval()\n",
    "\n",
    "    batch_bar = tqdm(total=len(dataloader), dynamic_ncols=True, position=0, leave=False, desc=\"Val\")\n",
    "\n",
    "    running_lev_dist = 0.0\n",
    "\n",
    "    for i, (x, y, lx, ly) in enumerate(dataloader):\n",
    "\n",
    "        x, y, lx, ly = x.float().to(DEVICE), y.to(DEVICE), lx, ly\n",
    "\n",
    "        with torch.inference_mode():\n",
    "            raw_predictions, attentions = model(x, lx, y = None, mode = \"Eval\")\n",
    "\n",
    "        # Greedy Decoding\n",
    "        greedy_predictions   = torch.argmax(raw_predictions, dim = -1) # TODO: How do you get the most likely character from each distribution in the batch?\n",
    "\n",
    "        # Calculate Levenshtein Distance\n",
    "        running_lev_dist    += calc_edit_distance(greedy_predictions, y, ly, VOCAB, print_example = False) # You can use print_example = True for one specific index i in your batches if you want\n",
    "\n",
    "        batch_bar.set_postfix(\n",
    "            dist=\"{:.06f}\".format(running_lev_dist/(i+1)))\n",
    "        batch_bar.update()\n",
    "\n",
    "        del x, y, lx, ly\n",
    "        torch.cuda.empty_cache()\n",
    "\n",
    "    batch_bar.close()\n",
    "    running_lev_dist /= len(dataloader)\n",
    "\n",
    "    return running_lev_dist"
   ]
  },
  {
   "attachments": {},
   "cell_type": "markdown",
   "metadata": {
    "id": "JmZhxhNseaIr"
   },
   "source": [
    "# Experiment"
   ]
  },
  {
   "cell_type": "code",
   "execution_count": 39,
   "metadata": {
    "colab": {
     "base_uri": "https://localhost:8080/",
     "height": 176
    },
    "id": "sZcCV2BIW2R6",
    "outputId": "b46e0616-b437-46c5-ee5b-fff6b75439f1"
   },
   "outputs": [
    {
     "name": "stderr",
     "output_type": "stream",
     "text": [
      "\u001b[34m\u001b[1mwandb\u001b[0m: Currently logged in as: \u001b[33mlsethi\u001b[0m (\u001b[33mverydeeplearning\u001b[0m). Use \u001b[1m`wandb login --relogin`\u001b[0m to force relogin\n",
      "\u001b[34m\u001b[1mwandb\u001b[0m: \u001b[33mWARNING\u001b[0m If you're specifying your api key in code, ensure this code is not shared publicly.\n",
      "\u001b[34m\u001b[1mwandb\u001b[0m: \u001b[33mWARNING\u001b[0m Consider setting the WANDB_API_KEY environment variable, or running `wandb login` from the command line.\n",
      "\u001b[34m\u001b[1mwandb\u001b[0m: Appending key for api.wandb.ai to your netrc file: /home/ubuntu/.netrc\n"
     ]
    },
    {
     "data": {
      "text/html": [
       "wandb version 0.15.1 is available!  To upgrade, please run:\n",
       " $ pip install wandb --upgrade"
      ],
      "text/plain": [
       "<IPython.core.display.HTML object>"
      ]
     },
     "metadata": {},
     "output_type": "display_data"
    },
    {
     "data": {
      "text/html": [
       "Tracking run with wandb version 0.15.0"
      ],
      "text/plain": [
       "<IPython.core.display.HTML object>"
      ]
     },
     "metadata": {},
     "output_type": "display_data"
    },
    {
     "data": {
      "text/html": [
       "Run data is saved locally in <code>/home/ubuntu/IDL HW4/wandb/run-20230503_153352-iahoac3n</code>"
      ],
      "text/plain": [
       "<IPython.core.display.HTML object>"
      ]
     },
     "metadata": {},
     "output_type": "display_data"
    },
    {
     "data": {
      "text/html": [
       "Resuming run <strong><a href='https://wandb.ai/verydeeplearning/hw4p2-ablations/runs/iahoac3n' target=\"_blank\">RNN_HW4_NewArch</a></strong> to <a href='https://wandb.ai/verydeeplearning/hw4p2-ablations' target=\"_blank\">Weights & Biases</a> (<a href='https://wandb.me/run' target=\"_blank\">docs</a>)<br/>"
      ],
      "text/plain": [
       "<IPython.core.display.HTML object>"
      ]
     },
     "metadata": {},
     "output_type": "display_data"
    },
    {
     "data": {
      "text/html": [
       " View project at <a href='https://wandb.ai/verydeeplearning/hw4p2-ablations' target=\"_blank\">https://wandb.ai/verydeeplearning/hw4p2-ablations</a>"
      ],
      "text/plain": [
       "<IPython.core.display.HTML object>"
      ]
     },
     "metadata": {},
     "output_type": "display_data"
    },
    {
     "data": {
      "text/html": [
       " View run at <a href='https://wandb.ai/verydeeplearning/hw4p2-ablations/runs/iahoac3n' target=\"_blank\">https://wandb.ai/verydeeplearning/hw4p2-ablations/runs/iahoac3n</a>"
      ],
      "text/plain": [
       "<IPython.core.display.HTML object>"
      ]
     },
     "metadata": {},
     "output_type": "display_data"
    }
   ],
   "source": [
    "# Login to Wandb\n",
    "import wandb\n",
    "wandb.login(key=\"2a3537b39181a31bafb5eabede64d932c94e54e8\")\n",
    "\n",
    "# Save your model architecture in a txt file, and save the file to Wandb\n",
    "# run = wandb.init(\n",
    "#     name = \"RNN_HW4_NewArch\", ## Wandb creates random run names if you skip this field\n",
    "#     reinit = True, ### Allows reinitalizing runs when you re-run this cell\n",
    "#     # run_id = ### Insert specific run id here if you want to resume a previous run\n",
    "#     # resume = \"must\" ### You need this to resume previous runs, but comment out reinit = True when using this\n",
    "#     project = \"hw4p2-ablations\", ### Project should be created in your wandb account \n",
    "#     config = config ### Wandb Config for your run\n",
    "# )\n",
    "\n",
    "# Use below syntax for resuming a run\n",
    "run = wandb.init(\n",
    "    name = \"RNN_HW4_NewArch\",\n",
    "    id = \"iahoac3n\",\n",
    "    resume = \"allow\",\n",
    "    project = \"hw4p2-ablations\",\n",
    "    config = config\n",
    ")\n"
   ]
  },
  {
   "cell_type": "code",
   "execution_count": 40,
   "metadata": {
    "id": "2C4VGwG7qiV1"
   },
   "outputs": [],
   "source": [
    "def save_model(model, optimizer, scheduler, metric, epoch, path):\n",
    "    torch.save(\n",
    "        {'model_state_dict'         : model.state_dict(),\n",
    "         'optimizer_state_dict'     : optimizer.state_dict(),\n",
    "         'scheduler_state_dict'     : scheduler.state_dict(),\n",
    "         metric[0]                  : metric[1], \n",
    "         'epoch'                    : epoch}, \n",
    "         path\n",
    "    )\n",
    "\n",
    "def load_model(path, model, metric= 'valid_acc', optimizer= None, scheduler= None):\n",
    "\n",
    "    checkpoint = torch.load(path)\n",
    "    model.load_state_dict(checkpoint['model_state_dict'])\n",
    "\n",
    "    if optimizer != None:\n",
    "        optimizer.load_state_dict(checkpoint['optimizer_state_dict'])\n",
    "    if scheduler != None:\n",
    "        scheduler.load_state_dict(checkpoint['scheduler_state_dict'])\n",
    "        \n",
    "    epoch   = checkpoint['epoch']\n",
    "    metric  = checkpoint[metric]\n",
    "\n",
    "    return (model, optimizer, scheduler, epoch, metric)"
   ]
  },
  {
   "cell_type": "code",
   "execution_count": 41,
   "metadata": {
    "id": "IgJdA9jrZwid"
   },
   "outputs": [],
   "source": [
    "def plot_attention(attention): \n",
    "    # Function for plotting attention\n",
    "    # You need to get a diagonal plot\n",
    "    plt.clf()\n",
    "    sns.heatmap(attention, cmap='GnBu')\n",
    "    plt.show()"
   ]
  },
  {
   "cell_type": "code",
   "execution_count": 42,
   "metadata": {},
   "outputs": [],
   "source": [
    "model, optimizer, scheduler, epoch, metric = load_model(\"/home/ubuntu/IDL HW4/Epoch_checkpoint_Main_NewArch.pth\",\n",
    "                                                        model, 'Validation_dist', optimizer, scheduler)"
   ]
  },
  {
   "cell_type": "code",
   "execution_count": 44,
   "metadata": {},
   "outputs": [
    {
     "name": "stdout",
     "output_type": "stream",
     "text": [
      "Adjusting learning rate of group 0 to 9.4434e-04.\n"
     ]
    }
   ],
   "source": [
    "scheduler.step()"
   ]
  },
  {
   "cell_type": "code",
   "execution_count": 45,
   "metadata": {},
   "outputs": [
    {
     "data": {
      "text/plain": [
       "AdamW (\n",
       "Parameter Group 0\n",
       "    amsgrad: False\n",
       "    betas: (0.9, 0.999)\n",
       "    capturable: False\n",
       "    differentiable: False\n",
       "    eps: 1e-08\n",
       "    foreach: None\n",
       "    fused: None\n",
       "    initial_lr: 0.001\n",
       "    lr: 0.0009443380060197382\n",
       "    maximize: False\n",
       "    weight_decay: 0.01\n",
       ")"
      ]
     },
     "execution_count": 45,
     "metadata": {},
     "output_type": "execute_result"
    }
   ],
   "source": [
    "optimizer"
   ]
  },
  {
   "cell_type": "code",
   "execution_count": 47,
   "metadata": {
    "id": "Fo9H-Zlcr2MG"
   },
   "outputs": [],
   "source": [
    "last_epoch_completed = epoch\n",
    "start = last_epoch_completed + 1\n",
    "end = config[\"epochs\"]\n",
    "best_lev_dist = 25.59225 # if you're restarting from some checkpoint, use what you saw there.\n",
    "epoch_model_path = 'Epoch_checkpoint_Main_NewArch.pth'\n",
    "best_model_path = 'Best_checkpoint_Main_NewArch.pth'"
   ]
  },
  {
   "cell_type": "code",
   "execution_count": null,
   "metadata": {
    "colab": {
     "base_uri": "https://localhost:8080/",
     "height": 1000
    },
    "id": "eDWGFIcjddz-",
    "outputId": "f8bf8ffa-eff9-4a04-fc0c-86ef5ba9dcae",
    "scrolled": false
   },
   "outputs": [
    {
     "name": "stdout",
     "output_type": "stream",
     "text": [
      "\n",
      "Epoch: 18/100\n"
     ]
    },
    {
     "name": "stderr",
     "output_type": "stream",
     "text": [
      "                                                                                                                         \r"
     ]
    },
    {
     "name": "stdout",
     "output_type": "stream",
     "text": [
      "Training Loss:  0.12249847041333423\n",
      "Training Perplexity:  1.1303521975749682\n",
      "Levenshtein Distance:  23.566321601104203\n"
     ]
    },
    {
     "data": {
      "image/png": "[encoded data removed]",
      "text/plain": [
       "<Figure size 640x480 with 2 Axes>"
      ]
     },
     "metadata": {},
     "output_type": "display_data"
    },
    {
     "name": "stdout",
     "output_type": "stream",
     "text": [
      "Saved epoch model\n",
      "Adjusting learning rate of group 0 to 9.3733e-04.\n",
      "Saved best model\n",
      "\n",
      "Epoch: 19/100\n"
     ]
    },
    {
     "name": "stderr",
     "output_type": "stream",
     "text": [
      "                                                                                                                         \r"
     ]
    },
    {
     "name": "stdout",
     "output_type": "stream",
     "text": [
      "Training Loss:  0.11000371470796962\n",
      "Training Perplexity:  1.1163088098293592\n",
      "Levenshtein Distance:  25.4228088336784\n"
     ]
    },
    {
     "data": {
      "image/png": "[encoded data removed]",
      "text/plain": [
       "<Figure size 640x480 with 2 Axes>"
      ]
     },
     "metadata": {},
     "output_type": "display_data"
    },
    {
     "name": "stdout",
     "output_type": "stream",
     "text": [
      "Saved epoch model\n",
      "Adjusting learning rate of group 0 to 9.2995e-04.\n",
      "\n",
      "Epoch: 20/100\n"
     ]
    },
    {
     "name": "stderr",
     "output_type": "stream",
     "text": [
      "Train:  47%|█████▏     | 112/238 [11:41<13:15,  6.32s/it, loss=0.098306, lr=0.0009299, perplexity=1.1033, tf_rate=1.0000]"
     ]
    }
   ],
   "source": [
    "teacher_forcing_rate = 1\n",
    "\n",
    "torch.cuda.empty_cache()\n",
    "gc.collect()\n",
    "\n",
    "for epoch in range(start, config['epochs']):\n",
    "\n",
    "    curr_lr = float(optimizer.param_groups[0]['lr'])\n",
    "    print(\"\\nEpoch: {}/{}\".format(epoch+1, config['epochs']))\n",
    "\n",
    "    # Call train and validate, get attention weights from training\n",
    "    running_loss, running_perplexity, attention_plot = train(model, train_loader, criterion, optimizer, teacher_forcing_rate)\n",
    "    running_lev_dist = validate(model, dev_loader)\n",
    "\n",
    "    # Print your metrics\n",
    "    print(\"Training Loss: \", running_loss)\n",
    "    print(\"Training Perplexity: \", running_perplexity)\n",
    "    print(\"Levenshtein Distance: \", running_lev_dist)\n",
    "\n",
    "    # Plot Attention for a single item in the batch\n",
    "    plot_attention(attention_plot[0].cpu().detach().numpy())\n",
    "\n",
    "    # Log metrics to Wandb\n",
    "    wandb.log({\n",
    "        'Train_Loss'        : running_loss,  \n",
    "        'Train_Perplexity'  : running_perplexity, \n",
    "        'Validation_dist'   : running_lev_dist, \n",
    "        'learning_rate'     : curr_lr,\n",
    "        'tf_rate'           : teacher_forcing_rate\n",
    "    })\n",
    "\n",
    "    save_model(model, optimizer, scheduler, ['Validation_dist', running_lev_dist], epoch, epoch_model_path)\n",
    "    wandb.save(epoch_model_path)\n",
    "    print(\"Saved epoch model\")\n",
    "\n",
    "    # Optional: Scheduler Step / Teacher Force Schedule Step\n",
    "    # Remember to keep this empty for CosineAnnealingLR scheduler\n",
    "    scheduler.step()\n",
    "\n",
    "    if (epoch+1)%20 == 0:\n",
    "        teacher_forcing_rate = teacher_forcing_rate  - 0.1\n",
    "\n",
    "    if running_lev_dist <= best_lev_dist:\n",
    "        best_lev_dist = running_lev_dist\n",
    "        save_model(model, optimizer, scheduler, ['valid_dist', running_lev_dist], epoch, best_model_path)\n",
    "        wandb.save(best_model_path)\n",
    "        print(\"Saved best model\")\n",
    "        \n",
    "    torch.cuda.empty_cache()\n",
    "    gc.collect()"
   ]
  },
  {
   "attachments": {},
   "cell_type": "markdown",
   "metadata": {
    "id": "hgFYFaBGeBqM"
   },
   "source": [
    "# Testing"
   ]
  },
  {
   "cell_type": "code",
   "execution_count": null,
   "metadata": {
    "id": "VxEFx7ipeCqJ"
   },
   "outputs": [],
   "source": [
    "results = []\n",
    "\n",
    "def test(model, dataloader):\n",
    "\n",
    "    model.eval()\n",
    "    batch_bar = tqdm(total=len(dataloader), dynamic_ncols=True, position=0, leave=False, desc=\"Test\")\n",
    "\n",
    "    for i, (x, lx) in enumerate(dataloader):\n",
    "\n",
    "        x, lx = x.float().to(DEVICE), lx\n",
    "\n",
    "        with torch.inference_mode():\n",
    "            raw_predictions, attentions = model(x, lx, y = None, mode = \"Eval\")\n",
    "\n",
    "        # Greedy Decoding\n",
    "        greedy_predictions   = torch.argmax(raw_predictions, dim = -1)\n",
    "\n",
    "        for sentence in greedy_predictions:\n",
    "            pred_sliced = indices_to_chars(sentence, VOCAB)\n",
    "            pred_string = ''.join(pred_sliced)\n",
    "        \n",
    "            results.append(pred_string)\n",
    "\n",
    "        batch_bar.update()\n",
    "\n",
    "        del x, lx, greedy_predictions, pred_sliced, pred_string\n",
    "        torch.cuda.empty_cache() \n",
    "\n",
    "    batch_bar.close()"
   ]
  },
  {
   "cell_type": "code",
   "execution_count": null,
   "metadata": {},
   "outputs": [],
   "source": [
    "test(model, test_loader)\n",
    "\n",
    "data_dir = \"./IDL_HW4/submissions.csv\"\n",
    "df = pd.DataFrame({\"label\": results})\n",
    "df = df.reset_index()\n",
    "df.to_csv(data_dir, index = False)"
   ]
  },
  {
   "cell_type": "code",
   "execution_count": null,
   "metadata": {},
   "outputs": [],
   "source": [
    "! kaggle competitions submit -c attention-based-speech-recognition-slack -f \"./IDL_HW4/submissions.csv\" -m \"I made it!!! wohooo\""
   ]
  }
 ],
 "metadata": {
  "colab": {
   "provenance": []
  },
  "kernelspec": {
   "display_name": "Python 3 (ipykernel)",
   "language": "python",
   "name": "python3"
  },
  "language_info": {
   "codemirror_mode": {
    "name": "ipython",
    "version": 3
   },
   "file_extension": ".py",
   "mimetype": "text/x-python",
   "name": "python",
   "nbconvert_exporter": "python",
   "pygments_lexer": "ipython3",
   "version": "3.10.10"
  }
 },
 "nbformat": 4,
 "nbformat_minor": 1
}
